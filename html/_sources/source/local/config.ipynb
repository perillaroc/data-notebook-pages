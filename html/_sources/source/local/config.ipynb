{
 "cells": [
  {
   "cell_type": "markdown",
   "id": "3837bba7",
   "metadata": {},
   "source": [
    "# 配置文件\n",
    "\n",
    "data_finder 模块使用配置文件查找文件路径。\n",
    "配置文件中定义可选的文件名和可选文件路径，文件查找函数依次在各个目录中查找对应文件是否存在，如果找到文件则返回该文件路径。"
   ]
  },
  {
   "cell_type": "code",
   "execution_count": 6,
   "id": "2afe1f9d",
   "metadata": {},
   "outputs": [],
   "source": [
    "import pandas as pd\n",
    "import numpy as np\n",
    "import xarray as xr\n",
    "\n",
    "from pprint import pprint"
   ]
  },
  {
   "cell_type": "markdown",
   "id": "dfb200e6",
   "metadata": {},
   "source": [
    "## 配置文件格式\n",
    "\n",
    "一个典型的配置文件如下所示：\n",
    "\n",
    "```yaml\n",
    "{% set start_time_string = time_vars.year ~ time_vars.month ~ time_vars.day ~ time_vars.hour %}\n",
    "\n",
    "file_name: 'gmf.gra.{{ start_time_string }}{{ time_vars.forecast_hour }}.grb2'\n",
    "\n",
    "paths:\n",
    "  # HPC2023\n",
    "  - type: local\n",
    "    level: archive\n",
    "    path: '/g3/COMMONDATA/OPER/CEMC/GFS_GMF/Prod-grib/{{ start_time_string }}/ORIG'\n",
    "```\n",
    "\n",
    "配置文件格式为 YAML，同时也是一个 Jinja2 模板，所以可以使用 Jinja2 的模板语法。\n",
    "\n",
    "配置文件主要包含文件名和文件目录两个部分。\n",
    "\n",
    "**文件名**\n",
    "\n",
    "`file_name` 包含单个文件名，`file_names` 包含多个文件名列表。\n",
    "\n",
    "**文件目录**\n",
    "\n",
    "`paths` 包含文件目录列表，每个目录由目录类型 `type`、目录级别 `level` 和目录路径 `path` 三个字段组成。"
   ]
  },
  {
   "cell_type": "markdown",
   "id": "4275f8a0",
   "metadata": {},
   "source": [
    "## 配置文件内置模板变量与函数\n",
    "\n",
    "配置文件 Jinja2 模板内置了两个变量和一些函数。"
   ]
  },
  {
   "cell_type": "markdown",
   "id": "c4b734b6",
   "metadata": {},
   "source": [
    "### 变量\n",
    "\n",
    "`TimeVars` 包含起报时间和预报时效等时间变量信息。\n",
    "\n",
    "- `start_time`: 起报时间，时间类型 (pd.Timestamp)\n",
    "- `forecast_time`: 预报时效，时间段类型 (pd.Timedelta)\n",
    "- `year`: 起报时间，年，4 位整数字符串\n",
    "- `month`: 起报时间，月，2 位整数字符串\n",
    "- `day`: 起报时间，日，2 位整数字符串\n",
    "- `hour`: 起报时间，时，2 位整数字符串\n",
    "- `minute`: 起报时间，分，2 位整数字符串\n",
    "- `forecast_hour`: 预报时效，时，3 位整数字符串\n",
    "- `forecast_minute`: 预报时效，分，2 位整数字符串"
   ]
  },
  {
   "cell_type": "code",
   "execution_count": 7,
   "id": "eda6ea3b",
   "metadata": {},
   "outputs": [
    {
     "name": "stdout",
     "output_type": "stream",
     "text": [
      "{'day': '04',\n",
      " 'forecast_hour': '024',\n",
      " 'forecast_minute': '00',\n",
      " 'forecast_time': Timedelta('1 days 00:00:00'),\n",
      " 'hour': '00',\n",
      " 'minute': '00',\n",
      " 'month': '07',\n",
      " 'start_time': Timestamp('2025-07-04 00:00:00'),\n",
      " 'year': '2025'}\n"
     ]
    }
   ],
   "source": [
    "from reki.data_finder._util import TimeVars\n",
    "\n",
    "time_vars = TimeVars(\n",
    "    start_time=pd.to_datetime(\"2025-07-04 00:00\"),\n",
    "    forecast_time=pd.to_timedelta(\"24h\"),\n",
    ")\n",
    "\n",
    "pprint(time_vars.__dict__)"
   ]
  },
  {
   "cell_type": "markdown",
   "id": "695e362e",
   "metadata": {},
   "source": [
    "`QueryVars` 包含检索需要的一些其他变量，通常来自调用函数时额外定义的参数，常用变量如下：\n",
    "\n",
    "- `obs_time`: 观测资料时间，`TimeVars` 对象\n",
    "- `storage_base`: 基础目录，例如 `/CMADAAS`"
   ]
  },
  {
   "cell_type": "markdown",
   "id": "41c1a75c",
   "metadata": {},
   "source": [
    "### 函数\n",
    "\n",
    "模板还支持一些函数用于在模板中进行简单计算：\n",
    "\n",
    "针对起报时间\n",
    "\n",
    "- `generate_start_time()`: 生成新的起报时间\n",
    "- `get_year()`: 年，4 位整数字符串\n",
    "- `get_month()`: 月，2 位整数字符串\n",
    "- `get_day()`: 日，2 位整数字符串\n",
    "- `get_hour()`: 时，2 位整数字符串\n",
    "- `get_minute()`: 分，2 位整数字符串\n",
    "\n",
    "针对预报时效\n",
    "\n",
    "- `generate_forecast_time()`: 生成新的预报时效\n",
    "- `get_forecast_hour()`: 时，3 位整数字符串\n",
    "- `get_forecast_minute()`: 分，2 位整数字符串\n",
    "\n",
    "例如下面的配置文件中，观测资料文件名中使用了当前起报时次前 3 小时的时间作为文件名，所以使用 `generate_start_time()` 函数计算得到新的起报时间。\n",
    "\n",
    "```yaml\n",
    "{% set start_time_string = time_vars.year ~ time_vars.month ~ time_vars.day ~ time_vars.hour %}\n",
    "{% set start_time_4dv = generate_start_time(time_vars.start_time, -3) %}\n",
    "{% set start_time_4dv_string = get_year(start_time_4dv) ~ get_month(start_time_4dv) ~ get_day(start_time_4dv) ~ get_hour(start_time_4dv) %}\n",
    "\n",
    "file_name: 'rec_R2CWE_{{ start_time_4dv_string }}{{ query_vars.obs_time.hour }}{{ query_vars.obs_time.minute }}_g.dat'\n",
    "\n",
    "paths:\n",
    "  # HPC2023\n",
    "  - type: local\n",
    "    level: archive\n",
    "    path: '/g3/COMMONDATA/OPER/CEMC/GFS_GMF/Obs-prep/{{ start_time_string }}'\n",
    "```"
   ]
  },
  {
   "cell_type": "code",
   "execution_count": null,
   "id": "62483bb6",
   "metadata": {},
   "outputs": [],
   "source": []
  }
 ],
 "metadata": {
  "kernelspec": {
   "display_name": "Python 3",
   "language": "python",
   "name": "python3"
  },
  "language_info": {
   "codemirror_mode": {
    "name": "ipython",
    "version": 3
   },
   "file_extension": ".py",
   "mimetype": "text/x-python",
   "name": "python",
   "nbconvert_exporter": "python",
   "pygments_lexer": "ipython3",
   "version": "3.12.11"
  }
 },
 "nbformat": 4,
 "nbformat_minor": 5
}
