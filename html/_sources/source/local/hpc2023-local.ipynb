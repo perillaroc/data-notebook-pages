{
 "cells": [
  {
   "cell_type": "markdown",
   "metadata": {},
   "source": [
    "# 气象超算本地文件\n",
    "\n",
    "本节介绍如何使用 reki 内置的配置文件查找 CMA 国家级气象超算子系统 1 (CMA-HPC2023-SC1) 上的 CEMC 业务系统数据文件路径。"
   ]
  },
  {
   "cell_type": "markdown",
   "metadata": {},
   "source": [
    "首先加载需要使用的模块"
   ]
  },
  {
   "cell_type": "code",
   "execution_count": 2,
   "metadata": {},
   "outputs": [],
   "source": [
    "import pandas as pd\n",
    "import numpy as np\n",
    "import xarray as xr\n",
    "\n",
    "from reki.data_finder import find_local_file"
   ]
  },
  {
   "cell_type": "markdown",
   "metadata": {},
   "source": [
    "生成起报时次和预报时效"
   ]
  },
  {
   "cell_type": "code",
   "execution_count": 3,
   "metadata": {},
   "outputs": [
    {
     "name": "stdout",
     "output_type": "stream",
     "text": [
      "start_time: 2025-07-01 00:00:00+00:00\n",
      "start_time_label: 2025070100\n",
      "forecast_time: 1 days 00:00:00\n",
      "forecast_time_label: 24h\n"
     ]
    }
   ],
   "source": [
    "start_time = pd.Timestamp.utcnow().floor(freq=\"D\") - pd.Timedelta(days=2)\n",
    "start_time_label = start_time.strftime(\"%Y%m%d%H\")\n",
    "forecast_time_label = \"24h\"\n",
    "forecast_time = pd.to_timedelta(forecast_time_label)\n",
    "print(\"start_time:\", start_time)\n",
    "print(\"start_time_label:\", start_time_label)\n",
    "print(\"forecast_time:\", forecast_time)\n",
    "print(\"forecast_time_label:\", forecast_time_label)"
   ]
  },
  {
   "cell_type": "markdown",
   "metadata": {},
   "source": [
    "## 基本用法\n",
    "\n",
    "`reki.data_finder.find_local_file` 函数根据内置的配置文件查找本地文件。"
   ]
  },
  {
   "cell_type": "markdown",
   "metadata": {},
   "source": [
    "查找 CMA-GFS GRIB2 数据文件路径，使用如下参数\n",
    "\n",
    "- data_type: 数据类型，用于定位配置文件路径，这里使用内置的数据类型 `\"cma_gfs_gmf/grib2/orig\"`\n",
    "- start_time: 起报时次，格式 YYYYMMDDHH\n",
    "- forecast_time: 预报时效，通常为小时，理论上也支持分钟级别输出"
   ]
  },
  {
   "cell_type": "code",
   "execution_count": 4,
   "metadata": {},
   "outputs": [
    {
     "data": {
      "text/plain": [
       "PosixPath('/g3/COMMONDATA/OPER/CEMC/GFS_GMF/Prod-grib/2025070100/ORIG/gmf.gra.2025070100024.grb2')"
      ]
     },
     "execution_count": 4,
     "metadata": {},
     "output_type": "execute_result"
    }
   ],
   "source": [
    "file_path = find_local_file(\n",
    "    \"cma_gfs_gmf/grib2/orig\",\n",
    "    start_time=start_time,\n",
    "    forecast_time=forecast_time,\n",
    ")\n",
    "file_path"
   ]
  },
  {
   "cell_type": "markdown",
   "metadata": {},
   "source": [
    "查找 CMA-GFS 预处理后的观测资料数据，可以使用 `obs_time` 指定观测资料对应的时间。\n",
    "CMA-GFS 使用起报时刻前后3小时的观测资料。"
   ]
  },
  {
   "cell_type": "code",
   "execution_count": 13,
   "metadata": {},
   "outputs": [
    {
     "data": {
      "text/plain": [
       "PosixPath('/g3/COMMONDATA/OPER/CEMC/GFS_GMF/Obs-prep/2025070100/rec_RSURF_20250630212230_g.dat')"
      ]
     },
     "execution_count": 13,
     "metadata": {},
     "output_type": "execute_result"
    }
   ],
   "source": [
    "file_path = find_local_file(\n",
    "    \"cma_gfs_gmf/obs/rsurf\",\n",
    "    start_time=start_time,\n",
    "    obs_time=start_time - pd.Timedelta(hours=1, minutes=30)\n",
    ")\n",
    "file_path"
   ]
  },
  {
   "cell_type": "code",
   "execution_count": 12,
   "metadata": {},
   "outputs": [
    {
     "data": {
      "text/plain": [
       "PosixPath('/g3/COMMONDATA/OPER/CEMC/GFS_GMF/Obs-prep/2025070100/rec_RSURF_20250630210130_g.dat')"
      ]
     },
     "execution_count": 12,
     "metadata": {},
     "output_type": "execute_result"
    }
   ],
   "source": [
    "file_path = find_local_file(\n",
    "    \"cma_gfs_gmf/obs/rsurf\",\n",
    "    start_time=start_time,\n",
    "    obs_time=start_time + pd.Timedelta(hours=1, minutes=30)\n",
    ")\n",
    "file_path"
   ]
  },
  {
   "cell_type": "markdown",
   "metadata": {},
   "source": [
    "查找 CMA-GEPS GRIB2 数据文件路径，在上述参数基础上需要使用 `number` 参数指定集合成员编号。\n",
    "其中 0 表示控制预报，1-31 表示 31 个集合成员。"
   ]
  },
  {
   "cell_type": "code",
   "execution_count": null,
   "metadata": {},
   "outputs": [
    {
     "data": {
      "text/plain": [
       "PosixPath('/g3/COMMONDATA/OPER/CEMC/GEPS/Prod-grib/2025070100/grib2/gef.gra.000.2025070100024.grb2')"
      ]
     },
     "execution_count": 5,
     "metadata": {},
     "output_type": "execute_result"
    }
   ],
   "source": [
    "file_path = find_local_file(\n",
    "    \"cma_geps/grib2/orig\",\n",
    "    start_time=start_time,\n",
    "    forecast_time=\"24h\",\n",
    "    number=0,\n",
    ")\n",
    "file_path"
   ]
  },
  {
   "cell_type": "code",
   "execution_count": null,
   "metadata": {},
   "outputs": [
    {
     "data": {
      "text/plain": [
       "PosixPath('/g3/COMMONDATA/OPER/CEMC/GEPS/Prod-grib/2025070100/grib2/gef.gra.014.2025070100024.grb2')"
      ]
     },
     "execution_count": 6,
     "metadata": {},
     "output_type": "execute_result"
    }
   ],
   "source": [
    "file_path = find_local_file(\n",
    "    \"cma_geps/grib2/orig\",\n",
    "    start_time=start_time,\n",
    "    forecast_time=\"24h\",\n",
    "    number=14,\n",
    ")\n",
    "file_path"
   ]
  },
  {
   "cell_type": "markdown",
   "metadata": {},
   "source": [
    "`find_local_file` 默认检索数值预报业务系统数据，即 `data_class=\"od\"`。\n",
    "如果检索其他类型数据，需要手动设置 `data_class` 参数。\n",
    "\n",
    "比如检索 NCEP GFS 数据，需要设置 `data_class=\"cm\"`。"
   ]
  },
  {
   "cell_type": "code",
   "execution_count": null,
   "metadata": {},
   "outputs": [
    {
     "name": "stdout",
     "output_type": "stream",
     "text": [
      "file name: gfs.t00z.pgrb2.0p50.f024\n",
      "searching file path: /g3/COMMONDATA/glob/gfs/2025/gfs.2025070100/gfs.t00z.pgrb2.0p50.f024\n"
     ]
    },
    {
     "data": {
      "text/plain": [
       "PosixPath('/g3/COMMONDATA/glob/gfs/2025/gfs.2025070100/gfs.t00z.pgrb2.0p50.f024')"
      ]
     },
     "execution_count": 16,
     "metadata": {},
     "output_type": "execute_result"
    }
   ],
   "source": [
    "file_path = find_local_file(\n",
    "    \"glob/gfs/grib2/0p50\",\n",
    "    data_class=\"cm\",\n",
    "    start_time=start_time,\n",
    "    forecast_time=forecast_time,\n",
    ")\n",
    "file_path"
   ]
  },
  {
   "cell_type": "markdown",
   "metadata": {},
   "source": [
    "如果想要查看 `find_local_file` 函数的具体查找文件过程，可以使用 `debug=True` 参数。"
   ]
  },
  {
   "cell_type": "code",
   "execution_count": 17,
   "metadata": {},
   "outputs": [
    {
     "name": "stdout",
     "output_type": "stream",
     "text": [
      "file name: gfs.t00z.pgrb2.1p00.f024\n",
      "searching file path: /g3/COMMONDATA/glob/gfs/2025/gfs.2025070100/gfs.t00z.pgrb2.1p00.f024\n"
     ]
    },
    {
     "data": {
      "text/plain": [
       "PosixPath('/g3/COMMONDATA/glob/gfs/2025/gfs.2025070100/gfs.t00z.pgrb2.1p00.f024')"
      ]
     },
     "execution_count": 17,
     "metadata": {},
     "output_type": "execute_result"
    }
   ],
   "source": [
    "file_path = find_local_file(\n",
    "    \"glob/gfs/grib2/1p00\",\n",
    "    data_class=\"cm\",\n",
    "    start_time=start_time,\n",
    "    forecast_time=forecast_time,\n",
    "    debug=True,\n",
    ")\n",
    "file_path"
   ]
  },
  {
   "cell_type": "markdown",
   "metadata": {},
   "source": [
    "## 更多函数"
   ]
  },
  {
   "cell_type": "markdown",
   "metadata": {},
   "source": [
    "`reki.data_finder.get_local_file_name()` 函数返回文件名，但不实际查找文件是否存在。"
   ]
  },
  {
   "cell_type": "code",
   "execution_count": 19,
   "metadata": {},
   "outputs": [
    {
     "data": {
      "text/plain": [
       "'rmf.hgra.2025070100024.grb2'"
      ]
     },
     "execution_count": 19,
     "metadata": {},
     "output_type": "execute_result"
    }
   ],
   "source": [
    "from reki.data_finder import get_local_file_name\n",
    "\n",
    "file_name = get_local_file_name(\n",
    "    \"cma_meso_1km/grib2/orig\",\n",
    "    start_time=start_time,\n",
    "    forecast_time=forecast_time,\n",
    ")\n",
    "file_name"
   ]
  },
  {
   "cell_type": "code",
   "execution_count": null,
   "metadata": {},
   "outputs": [],
   "source": []
  }
 ],
 "metadata": {
  "kernelspec": {
   "display_name": "Python 3",
   "language": "python",
   "name": "python3"
  },
  "language_info": {
   "codemirror_mode": {
    "name": "ipython",
    "version": 3
   },
   "file_extension": ".py",
   "mimetype": "text/x-python",
   "name": "python",
   "nbconvert_exporter": "python",
   "pygments_lexer": "ipython3",
   "version": "3.12.11"
  }
 },
 "nbformat": 4,
 "nbformat_minor": 2
}
