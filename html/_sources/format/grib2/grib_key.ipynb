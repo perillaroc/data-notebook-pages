{
 "cells": [
  {
   "cell_type": "markdown",
   "id": "e6b1f846",
   "metadata": {},
   "source": [
    "# GRIB KEY参数"
   ]
  },
  {
   "cell_type": "markdown",
   "id": "4329b82e",
   "metadata": {},
   "source": [
    "`load_field_from_file()` 函数支持将任意 GRIB KEY 作为关键字参数。"
   ]
  },
  {
   "cell_type": "code",
   "execution_count": 1,
   "id": "bf349f2b",
   "metadata": {},
   "outputs": [],
   "source": [
    "import numpy as np\n",
    "import pandas as pd\n",
    "import xarray as xr\n",
    "\n",
    "from reki.data_finder import find_local_file\n",
    "from reki.format.grib.eccodes import load_field_from_file"
   ]
  },
  {
   "cell_type": "code",
   "execution_count": 16,
   "id": "857e03e7",
   "metadata": {},
   "outputs": [
    {
     "data": {
      "text/plain": [
       "PosixPath('/g3/COMMONDATA/OPER/CEMC/MESO_1KM/Prod-grib/2025070600/ORIG/rmf.hgra.2025070600024.grb2')"
      ]
     },
     "execution_count": 16,
     "metadata": {},
     "output_type": "execute_result"
    }
   ],
   "source": [
    "start_time = pd.Timestamp.utcnow().floor(freq=\"D\") - pd.Timedelta(days=2)\n",
    "start_time_label = start_time.strftime(\"%Y%m%d%H\")\n",
    "forecast_time_label = \"24h\"\n",
    "forecast_time = pd.to_timedelta(forecast_time_label)\n",
    "\n",
    "meso_grib2_orig_file_path = find_local_file(\n",
    "    \"cma_meso_1km/grib2/orig\",\n",
    "    start_time=start_time,\n",
    "    forecast_time=forecast_time,\n",
    ")\n",
    "meso_grib2_orig_file_path"
   ]
  },
  {
   "cell_type": "markdown",
   "id": "7a737cbe",
   "metadata": {},
   "source": [
    "CMA-MESO 包含 10 米风场，输出间隔内 10 米最大风场。"
   ]
  },
  {
   "cell_type": "code",
   "execution_count": 17,
   "id": "d195a2c7",
   "metadata": {},
   "outputs": [
    {
     "data": {
      "text/plain": [
       "9"
      ]
     },
     "execution_count": 17,
     "metadata": {},
     "output_type": "execute_result"
    }
   ],
   "source": [
    "field = load_field_from_file(\n",
    "    meso_grib2_orig_file_path,\n",
    "    parameter=\"UGRD\",\n",
    "    level_type=\"heightAboveGround\",\n",
    "    level=10,\n",
    "    stepType=\"instant\",\n",
    ")\n",
    "field.attrs[\"GRIB_count\"]"
   ]
  },
  {
   "cell_type": "code",
   "execution_count": 18,
   "id": "f2d00226",
   "metadata": {},
   "outputs": [
    {
     "data": {
      "text/plain": [
       "20"
      ]
     },
     "execution_count": 18,
     "metadata": {},
     "output_type": "execute_result"
    }
   ],
   "source": [
    "field = load_field_from_file(\n",
    "    meso_grib2_orig_file_path,\n",
    "    parameter=\"UGRD\",\n",
    "    level_type=\"heightAboveGround\",\n",
    "    level=10,\n",
    "    stepType=\"max\",\n",
    ")\n",
    "field.attrs[\"GRIB_count\"]"
   ]
  },
  {
   "cell_type": "code",
   "execution_count": null,
   "id": "b9c74e3b",
   "metadata": {},
   "outputs": [],
   "source": []
  }
 ],
 "metadata": {
  "kernelspec": {
   "display_name": "Python 3",
   "language": "python",
   "name": "python3"
  },
  "language_info": {
   "codemirror_mode": {
    "name": "ipython",
    "version": 3
   },
   "file_extension": ".py",
   "mimetype": "text/x-python",
   "name": "python",
   "nbconvert_exporter": "python",
   "pygments_lexer": "ipython3",
   "version": "3.12.11"
  }
 },
 "nbformat": 4,
 "nbformat_minor": 5
}
