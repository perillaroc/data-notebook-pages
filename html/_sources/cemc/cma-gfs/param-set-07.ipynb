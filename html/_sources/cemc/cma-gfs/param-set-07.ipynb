{
 "cells": [
  {
   "cell_type": "markdown",
   "id": "78dad720",
   "metadata": {},
   "source": [
    "# 要素清单：454-471"
   ]
  },
  {
   "cell_type": "code",
   "execution_count": 1,
   "id": "e730d9b6",
   "metadata": {},
   "outputs": [],
   "source": [
    "import numpy as np\n",
    "import pandas as pd\n",
    "import xarray as xr\n",
    "\n",
    "from reki.data_finder import find_local_file\n",
    "from reki.format.grib.eccodes import load_field_from_file"
   ]
  },
  {
   "cell_type": "code",
   "execution_count": 2,
   "id": "88aa506c",
   "metadata": {},
   "outputs": [
    {
     "data": {
      "text/plain": [
       "PosixPath('/g3/COMMONDATA/OPER/CEMC/GFS_GMF/Prod-grib/2025081000/ORIG/gmf.gra.2025081000024.grb2')"
      ]
     },
     "execution_count": 2,
     "metadata": {},
     "output_type": "execute_result"
    }
   ],
   "source": [
    "start_time = pd.Timestamp.utcnow().floor(freq=\"D\") - pd.Timedelta(days=2)\n",
    "start_time_label = start_time.strftime(\"%Y%m%d%H\")\n",
    "forecast_time_label = \"24h\"\n",
    "forecast_time = pd.to_timedelta(forecast_time_label)\n",
    "\n",
    "gfs_grib2_orig_file_path = find_local_file(\n",
    "    \"cma_gfs_gmf/grib2/orig\",\n",
    "    start_time=start_time,\n",
    "    forecast_time=forecast_time,\n",
    ")\n",
    "gfs_grib2_orig_file_path"
   ]
  },
  {
   "cell_type": "markdown",
   "id": "a36d0e27",
   "metadata": {},
   "source": [
    "## 土壤温度\n",
    "\n",
    "| 要素名 | wgrib2 | eccodes | cemc | GRIB Key | 层次类型 | 层次 | 编号 |\n",
    "|--------|---------|--------|------|----------|--------|------|------|\n",
    "| 土壤温度 | TMP | t | st(0-10) | (0, 0, 0) | depthBelowLandLayer | 0, 0.1 | 464 |\n",
    "| 土壤温度 | TMP | t | st(10-40) | (0, 0, 0) | depthBelowLandLayer | 0.1, 0.4 | 465 |\n",
    "| 土壤温度 | TMP | t | st(40-100) | (0, 0, 0) | depthBelowLandLayer | 0.4, 1 | 466 |\n",
    "| 土壤温度 | TMP | t | st(100-200) | (0, 0, 0) | depthBelowLandLayer | 1, 2 | 467 |"
   ]
  },
  {
   "cell_type": "code",
   "execution_count": 3,
   "id": "6c61d702",
   "metadata": {},
   "outputs": [],
   "source": [
    "field = load_field_from_file(\n",
    "    gfs_grib2_orig_file_path,\n",
    "    parameter=\"TMP\",\n",
    "    level_type=\"depthBelowLandLayer\",\n",
    "    level={\n",
    "        \"first_level\": 0,\n",
    "        \"second_level\": 0.1,\n",
    "    },\n",
    ")\n",
    "assert field.attrs[\"GRIB_count\"] == 464"
   ]
  },
  {
   "cell_type": "code",
   "execution_count": 4,
   "id": "9493e36c",
   "metadata": {},
   "outputs": [],
   "source": [
    "field = load_field_from_file(\n",
    "    gfs_grib2_orig_file_path,\n",
    "    parameter=\"t\",\n",
    "    level_type=\"depthBelowLandLayer\",\n",
    "    level={\n",
    "        \"first_level\": 0.1,\n",
    "        \"second_level\": 0.4,\n",
    "    },\n",
    ")\n",
    "assert field.attrs[\"GRIB_count\"] == 465"
   ]
  },
  {
   "cell_type": "code",
   "execution_count": 5,
   "id": "9622b146",
   "metadata": {},
   "outputs": [],
   "source": [
    "field = load_field_from_file(\n",
    "    gfs_grib2_orig_file_path,\n",
    "    parameter=\"st(40-100)\",\n",
    ")\n",
    "assert field.attrs[\"GRIB_count\"] == 466"
   ]
  },
  {
   "cell_type": "code",
   "execution_count": 6,
   "id": "6ce78c78",
   "metadata": {},
   "outputs": [],
   "source": [
    "field = load_field_from_file(\n",
    "    gfs_grib2_orig_file_path,\n",
    "    parameter={\n",
    "        \"discipline\": 0,\n",
    "        \"parameterCategory\": 0,\n",
    "        \"parameterNumber\": 0,\n",
    "    },\n",
    "    level_type=\"depthBelowLandLayer\",\n",
    "    level={\n",
    "        \"first_level\": 1,\n",
    "        \"second_level\": 2,\n",
    "    },\n",
    ")\n",
    "assert field.attrs[\"GRIB_count\"] == 467"
   ]
  },
  {
   "cell_type": "markdown",
   "id": "02413bcb",
   "metadata": {},
   "source": [
    "## 土壤湿度\n",
    "\n",
    "| 要素名 | wgrib2 | eccodes | cemc | GRIB Key | 层次类型 | 层次 | 编号 |\n",
    "|--------|---------|--------|------|----------|--------|------|------|\n",
    "| 土壤湿度 | SPFH | q | sw(0-10) | (0, 1, 0) | depthBelowLandLayer | 0, 0.1 | 468 |\n",
    "| 土壤湿度 | SPFH | q | sw(10-40) | (0, 1, 0) | depthBelowLandLayer | 0.1, 0.4 | 469 |\n",
    "| 土壤湿度 | SPFH | q | sw(40-100) | (0, 1, 0) | depthBelowLandLayer | 0.4, 1 | 470 |\n",
    "| 土壤湿度 | SPFH | q | sw(100-200) | (0, 1, 0) | depthBelowLandLayer | 1, 2 | 471 |"
   ]
  },
  {
   "cell_type": "code",
   "execution_count": 7,
   "id": "1a3cd903",
   "metadata": {},
   "outputs": [],
   "source": [
    "field = load_field_from_file(\n",
    "    gfs_grib2_orig_file_path,\n",
    "    parameter=\"SPFH\",\n",
    "    level_type=\"depthBelowLandLayer\",\n",
    "    level={\n",
    "        \"first_level\": 0,\n",
    "        \"second_level\": 0.1,\n",
    "    },\n",
    ")\n",
    "assert field.attrs[\"GRIB_count\"] == 468"
   ]
  },
  {
   "cell_type": "code",
   "execution_count": 9,
   "id": "05f4b30f",
   "metadata": {},
   "outputs": [],
   "source": [
    "field = load_field_from_file(\n",
    "    gfs_grib2_orig_file_path,\n",
    "    parameter=\"q\",\n",
    "    level_type=\"depthBelowLandLayer\",\n",
    "    level={\n",
    "        \"first_level\": 0.1,\n",
    "        \"second_level\": 0.4,\n",
    "    },\n",
    ")\n",
    "assert field.attrs[\"GRIB_count\"] == 469"
   ]
  },
  {
   "cell_type": "code",
   "execution_count": 10,
   "id": "534698e3",
   "metadata": {},
   "outputs": [],
   "source": [
    "field = load_field_from_file(\n",
    "    gfs_grib2_orig_file_path,\n",
    "    parameter=\"sw(40-100)\",\n",
    ")\n",
    "assert field.attrs[\"GRIB_count\"] == 470"
   ]
  },
  {
   "cell_type": "code",
   "execution_count": 11,
   "id": "a4548db5",
   "metadata": {},
   "outputs": [],
   "source": [
    "field = load_field_from_file(\n",
    "    gfs_grib2_orig_file_path,\n",
    "    parameter={\n",
    "        \"discipline\": 0,\n",
    "        \"parameterCategory\": 1,\n",
    "        \"parameterNumber\": 0,\n",
    "    },\n",
    "    level_type=\"depthBelowLandLayer\",\n",
    "    level={\n",
    "        \"first_level\": 1,\n",
    "        \"second_level\": 2,\n",
    "    },\n",
    ")\n",
    "assert field.attrs[\"GRIB_count\"] == 471"
   ]
  }
 ],
 "metadata": {
  "kernelspec": {
   "display_name": "py312-cedar-dev",
   "language": "python",
   "name": "python3"
  },
  "language_info": {
   "codemirror_mode": {
    "name": "ipython",
    "version": 3
   },
   "file_extension": ".py",
   "mimetype": "text/x-python",
   "name": "python",
   "nbconvert_exporter": "python",
   "pygments_lexer": "ipython3",
   "version": "3.12.11"
  }
 },
 "nbformat": 4,
 "nbformat_minor": 5
}
