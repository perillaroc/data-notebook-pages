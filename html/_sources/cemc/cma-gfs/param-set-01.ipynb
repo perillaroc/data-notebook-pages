{
 "cells": [
  {
   "cell_type": "markdown",
   "id": "89618378",
   "metadata": {},
   "source": [
    "# 要素清单：1-5"
   ]
  },
  {
   "cell_type": "code",
   "execution_count": 1,
   "id": "21cc3c1e",
   "metadata": {},
   "outputs": [],
   "source": [
    "import numpy as np\n",
    "import pandas as pd\n",
    "import xarray as xr\n",
    "\n",
    "from reki.data_finder import find_local_file\n",
    "from reki.format.grib.eccodes import load_field_from_file"
   ]
  },
  {
   "cell_type": "code",
   "execution_count": 2,
   "id": "17c50a20",
   "metadata": {},
   "outputs": [
    {
     "data": {
      "text/plain": [
       "PosixPath('/g3/COMMONDATA/OPER/CEMC/GFS_GMF/Prod-grib/2025072300/ORIG/gmf.gra.2025072300024.grb2')"
      ]
     },
     "execution_count": 2,
     "metadata": {},
     "output_type": "execute_result"
    }
   ],
   "source": [
    "start_time = pd.Timestamp.utcnow().floor(freq=\"D\") - pd.Timedelta(days=2)\n",
    "start_time_label = start_time.strftime(\"%Y%m%d%H\")\n",
    "forecast_time_label = \"24h\"\n",
    "forecast_time = pd.to_timedelta(forecast_time_label)\n",
    "\n",
    "gfs_grib2_orig_file_path = find_local_file(\n",
    "    \"cma_gfs_gmf/grib2/orig\",\n",
    "    start_time=start_time,\n",
    "    forecast_time=forecast_time,\n",
    ")\n",
    "gfs_grib2_orig_file_path"
   ]
  },
  {
   "cell_type": "markdown",
   "id": "2611f73f",
   "metadata": {},
   "source": [
    "## ACPCP/NCPCP/APCP/ASNOW"
   ]
  },
  {
   "cell_type": "markdown",
   "id": "14d47f43",
   "metadata": {},
   "source": [
    "### 对流降水\n",
    "\n",
    "| 要素名 | wgrib2 | eccodes | cemc | GRIB key | 层次类型 | 层次 | 编号 |\n",
    "|--------|---------|--------|------|----------|---------|------|-----|\n",
    "| 对流降水 | ACPCP | acpcp | rainc | (0, 1, 10) | - | - | 1 |"
   ]
  },
  {
   "cell_type": "code",
   "execution_count": 3,
   "id": "2c59421b",
   "metadata": {},
   "outputs": [],
   "source": [
    "field = load_field_from_file(\n",
    "    gfs_grib2_orig_file_path,\n",
    "    parameter=\"ACPCP\"\n",
    ")\n",
    "assert field.attrs[\"GRIB_count\"] == 1"
   ]
  },
  {
   "cell_type": "code",
   "execution_count": 4,
   "id": "2faac8eb",
   "metadata": {},
   "outputs": [],
   "source": [
    "field = load_field_from_file(\n",
    "    gfs_grib2_orig_file_path,\n",
    "    parameter=\"acpcp\",\n",
    ")\n",
    "assert field.attrs[\"GRIB_count\"] == 1"
   ]
  },
  {
   "cell_type": "code",
   "execution_count": 5,
   "id": "45dc3e7d",
   "metadata": {},
   "outputs": [],
   "source": [
    "field = load_field_from_file(\n",
    "    gfs_grib2_orig_file_path,\n",
    "    parameter=\"rainc\",\n",
    ")\n",
    "assert field.attrs[\"GRIB_count\"] == 1"
   ]
  },
  {
   "cell_type": "code",
   "execution_count": 6,
   "id": "c0fcd78c",
   "metadata": {},
   "outputs": [],
   "source": [
    "field = load_field_from_file(\n",
    "    gfs_grib2_orig_file_path,\n",
    "    parameter={\n",
    "        \"discipline\": 0,\n",
    "        \"parameterCategory\": 1,\n",
    "        \"parameterNumber\": 10,\n",
    "    },\n",
    ")\n",
    "assert field.attrs[\"GRIB_count\"] == 1"
   ]
  },
  {
   "cell_type": "markdown",
   "id": "79964f4c",
   "metadata": {},
   "source": [
    "### 大尺度降水\n",
    "\n",
    "| 要素名 | wgrib2 | eccodes | cemc | GRIB Key | 层次类型 | 层次 | 编号 |\n",
    "|--------|---------|--------|------|---------|---------|-------|------|\n",
    "| 大尺度降水 | NCPCP | ncpcp | rainnc | (0, 1, 9) | - | - | 2 |"
   ]
  },
  {
   "cell_type": "code",
   "execution_count": 7,
   "id": "1d3c5a4b",
   "metadata": {},
   "outputs": [],
   "source": [
    "field = load_field_from_file(\n",
    "    gfs_grib2_orig_file_path,\n",
    "    parameter=\"NCPCP\"\n",
    ")\n",
    "assert field.attrs[\"GRIB_count\"] == 2"
   ]
  },
  {
   "cell_type": "code",
   "execution_count": 8,
   "id": "56a80601",
   "metadata": {},
   "outputs": [],
   "source": [
    "field = load_field_from_file(\n",
    "    gfs_grib2_orig_file_path,\n",
    "    parameter=\"ncpcp\"\n",
    ")\n",
    "assert field.attrs[\"GRIB_count\"] == 2"
   ]
  },
  {
   "cell_type": "code",
   "execution_count": 9,
   "id": "cf362092",
   "metadata": {},
   "outputs": [],
   "source": [
    "field = load_field_from_file(\n",
    "    gfs_grib2_orig_file_path,\n",
    "    parameter=\"rainnc\"\n",
    ")\n",
    "assert field.attrs[\"GRIB_count\"] == 2"
   ]
  },
  {
   "cell_type": "code",
   "execution_count": 10,
   "id": "ed123af1",
   "metadata": {},
   "outputs": [],
   "source": [
    "field = load_field_from_file(\n",
    "    gfs_grib2_orig_file_path,\n",
    "    parameter={\n",
    "        \"discipline\": 0,\n",
    "        \"parameterCategory\": 1,\n",
    "        \"parameterNumber\": 9,\n",
    "    },\n",
    ")\n",
    "assert field.attrs[\"GRIB_count\"] == 2"
   ]
  },
  {
   "cell_type": "markdown",
   "id": "33969c49",
   "metadata": {},
   "source": [
    "### 总降水\n",
    "\n",
    "| 要素名 | wgrib2 | eccodes | cemc | GRIB Key | 层次类型 | 层次 | 编号 |\n",
    "|--------|---------|--------|------|----------|--------|------|------|\n",
    "| 总降水 | APCP | - | rain | (0, 1, 8) | - | - | 3 |"
   ]
  },
  {
   "cell_type": "code",
   "execution_count": 11,
   "id": "aa01cee2",
   "metadata": {},
   "outputs": [],
   "source": [
    "field = load_field_from_file(\n",
    "    gfs_grib2_orig_file_path,\n",
    "    parameter=\"APCP\"\n",
    ")\n",
    "assert field.attrs[\"GRIB_count\"] == 3"
   ]
  },
  {
   "cell_type": "code",
   "execution_count": 12,
   "id": "d4f35602",
   "metadata": {},
   "outputs": [],
   "source": [
    "field = load_field_from_file(\n",
    "    gfs_grib2_orig_file_path,\n",
    "    parameter=\"rain\"\n",
    ")\n",
    "assert field.attrs[\"GRIB_count\"] == 3"
   ]
  },
  {
   "cell_type": "code",
   "execution_count": 13,
   "id": "40944b5b",
   "metadata": {},
   "outputs": [],
   "source": [
    "field = load_field_from_file(\n",
    "    gfs_grib2_orig_file_path,\n",
    "    parameter={\n",
    "        \"discipline\": 0,\n",
    "        \"parameterCategory\": 1,\n",
    "        \"parameterNumber\": 8,\n",
    "    },\n",
    ")\n",
    "assert field.attrs[\"GRIB_count\"] == 3"
   ]
  },
  {
   "cell_type": "markdown",
   "id": "3db96b77",
   "metadata": {},
   "source": [
    "### 降雪量\n",
    "\n",
    "| 要素名 | wgrib2 | eccodes | cemc | GRIB Key | 层次类型 | 层次 | 编号 |\n",
    "|--------|---------|--------|------|----------|---------|-------|------|\n",
    "| 降雪量 | ASNOW | - | snow | (0, 1, 29) | - | - | 4 |"
   ]
  },
  {
   "cell_type": "code",
   "execution_count": 14,
   "id": "413371d3",
   "metadata": {},
   "outputs": [],
   "source": [
    "field = load_field_from_file(\n",
    "    gfs_grib2_orig_file_path,\n",
    "    parameter=\"ASNOW\"\n",
    ")\n",
    "assert field.attrs[\"GRIB_count\"] == 4"
   ]
  },
  {
   "cell_type": "code",
   "execution_count": 15,
   "id": "71e7c004",
   "metadata": {},
   "outputs": [],
   "source": [
    "field = load_field_from_file(\n",
    "    gfs_grib2_orig_file_path,\n",
    "    parameter={\n",
    "        \"discipline\": 0,\n",
    "        \"parameterCategory\": 1,\n",
    "        \"parameterNumber\": 29,\n",
    "    }\n",
    ")\n",
    "assert field.attrs[\"GRIB_count\"] == 4"
   ]
  },
  {
   "cell_type": "markdown",
   "id": "1d5464c9",
   "metadata": {},
   "source": [
    "## TMP"
   ]
  },
  {
   "cell_type": "markdown",
   "id": "19086f6f",
   "metadata": {},
   "source": [
    "### 地表温度\n",
    "\n",
    "| 要素名 | wgrib2 | eccodes | cemc | GRIB Key | 层次类型 | 层次 | 编号 |\n",
    "|--------|---------|--------|------|----------|--------|------|------|\n",
    "| 地表温度 | TMP | t | ts  | (0, 0, 0) | surface | - | 5 |"
   ]
  },
  {
   "cell_type": "code",
   "execution_count": 16,
   "id": "c17a23c2",
   "metadata": {},
   "outputs": [],
   "source": [
    "field = load_field_from_file(\n",
    "    gfs_grib2_orig_file_path,\n",
    "    parameter=\"TMP\",\n",
    "    level_type=\"sfc\"\n",
    ")\n",
    "assert field.attrs[\"GRIB_count\"] == 5"
   ]
  },
  {
   "cell_type": "code",
   "execution_count": 17,
   "id": "a8edd06f",
   "metadata": {},
   "outputs": [],
   "source": [
    "field = load_field_from_file(\n",
    "    gfs_grib2_orig_file_path,\n",
    "    parameter=\"t\",\n",
    "    level_type=\"surface\"\n",
    ")\n",
    "assert field.attrs[\"GRIB_count\"] == 5"
   ]
  },
  {
   "cell_type": "code",
   "execution_count": 18,
   "id": "8fb5e1e4",
   "metadata": {},
   "outputs": [],
   "source": [
    "field = load_field_from_file(\n",
    "    gfs_grib2_orig_file_path,\n",
    "    parameter=\"ts\",\n",
    ")\n",
    "assert field.attrs[\"GRIB_count\"] == 5"
   ]
  },
  {
   "cell_type": "code",
   "execution_count": 19,
   "id": "cbc60422",
   "metadata": {},
   "outputs": [],
   "source": [
    "field = load_field_from_file(\n",
    "    gfs_grib2_orig_file_path,\n",
    "    parameter={\n",
    "        \"discipline\": 0,\n",
    "        \"parameterCategory\": 0,\n",
    "        \"parameterNumber\": 0,\n",
    "    },\n",
    "    level_type=\"sfc\"\n",
    ")\n",
    "assert field.attrs[\"GRIB_count\"] == 5"
   ]
  }
 ],
 "metadata": {
  "kernelspec": {
   "display_name": "py312-cedar-dev",
   "language": "python",
   "name": "python3"
  },
  "language_info": {
   "codemirror_mode": {
    "name": "ipython",
    "version": 3
   },
   "file_extension": ".py",
   "mimetype": "text/x-python",
   "name": "python",
   "nbconvert_exporter": "python",
   "pygments_lexer": "ipython3",
   "version": "3.12.11"
  }
 },
 "nbformat": 4,
 "nbformat_minor": 5
}
