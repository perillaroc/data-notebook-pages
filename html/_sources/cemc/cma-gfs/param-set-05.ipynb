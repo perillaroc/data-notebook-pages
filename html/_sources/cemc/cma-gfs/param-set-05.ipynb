{
 "cells": [
  {
   "cell_type": "markdown",
   "id": "859b9457",
   "metadata": {},
   "source": [
    "# 要素清单：64-223"
   ]
  },
  {
   "cell_type": "code",
   "execution_count": 1,
   "id": "22a2dd65",
   "metadata": {},
   "outputs": [],
   "source": [
    "import numpy as np\n",
    "import pandas as pd\n",
    "import xarray as xr\n",
    "\n",
    "from reki.data_finder import find_local_file\n",
    "from reki.format.grib.eccodes import load_field_from_file"
   ]
  },
  {
   "cell_type": "code",
   "execution_count": 2,
   "id": "521f5775",
   "metadata": {},
   "outputs": [
    {
     "data": {
      "text/plain": [
       "PosixPath('/g3/COMMONDATA/OPER/CEMC/GFS_GMF/Prod-grib/2025081000/ORIG/gmf.gra.2025081000024.grb2')"
      ]
     },
     "execution_count": 2,
     "metadata": {},
     "output_type": "execute_result"
    }
   ],
   "source": [
    "start_time = pd.Timestamp.utcnow().floor(freq=\"D\") - pd.Timedelta(days=2)\n",
    "start_time_label = start_time.strftime(\"%Y%m%d%H\")\n",
    "forecast_time_label = \"24h\"\n",
    "forecast_time = pd.to_timedelta(forecast_time_label)\n",
    "\n",
    "gfs_grib2_orig_file_path = find_local_file(\n",
    "    \"cma_gfs_gmf/grib2/orig\",\n",
    "    start_time=start_time,\n",
    "    forecast_time=forecast_time,\n",
    ")\n",
    "gfs_grib2_orig_file_path"
   ]
  },
  {
   "cell_type": "markdown",
   "id": "0e062234",
   "metadata": {},
   "source": [
    "## 层次\n",
    "\n",
    "40 层列表，单位百帕 (mb)：\n",
    "\n",
    "- 1000\n",
    "- 975\n",
    "- 950\n",
    "- 925\n",
    "- 900\n",
    "- 850\n",
    "- 800\n",
    "- 750\n",
    "- 700\n",
    "- 650\n",
    "- 600\n",
    "- 550\n",
    "- 500\n",
    "- 450\n",
    "- 400\n",
    "- 350\n",
    "- 300\n",
    "- 275\n",
    "- 250\n",
    "- 225\n",
    "- 200\n",
    "- 175\n",
    "- 150\n",
    "- 125\n",
    "- 100\n",
    "- 70\n",
    "- 50\n",
    "- 30\n",
    "- 20\n",
    "- 10\n",
    "- 7\n",
    "- 5\n",
    "- 3\n",
    "- 2\n",
    "- 1.5\n",
    "- 1\n",
    "- 0.5\n",
    "- 0.2\n",
    "- 0.1"
   ]
  },
  {
   "cell_type": "markdown",
   "id": "14d8d30d",
   "metadata": {},
   "source": [
    "## HGT/TMP/UGRD/VGRD"
   ]
  },
  {
   "cell_type": "markdown",
   "id": "1215f675",
   "metadata": {},
   "source": [
    "### 位势高度\n",
    "\n",
    "| 要素名 | wgrib2 | eccodes | cemc | GRIB Key | 层次类型 | 层次 | 编号 |\n",
    "|--------|---------|--------|------|----------|--------|------|-------|\n",
    "| 位势高度 | HGT | gh | h | (0, 3, 5) | pl | 40层 | 64-103 |\n"
   ]
  },
  {
   "cell_type": "code",
   "execution_count": 3,
   "id": "d2007290",
   "metadata": {},
   "outputs": [],
   "source": [
    "field = load_field_from_file(\n",
    "    gfs_grib2_orig_file_path,\n",
    "    parameter=\"HGT\",\n",
    "    level_type=\"pl\",\n",
    "    level=1000,\n",
    ")\n",
    "assert field.attrs[\"GRIB_count\"] == 64"
   ]
  },
  {
   "cell_type": "code",
   "execution_count": 4,
   "id": "865d115d",
   "metadata": {},
   "outputs": [],
   "source": [
    "field = load_field_from_file(\n",
    "    gfs_grib2_orig_file_path,\n",
    "    parameter=\"gh\",\n",
    "    level_type=\"pl\",\n",
    "    level=850,\n",
    ")\n",
    "assert field.attrs[\"GRIB_count\"] == 69"
   ]
  },
  {
   "cell_type": "code",
   "execution_count": 6,
   "id": "cee3245f",
   "metadata": {},
   "outputs": [],
   "source": [
    "field = load_field_from_file(\n",
    "    gfs_grib2_orig_file_path,\n",
    "    parameter=\"h\",\n",
    "    level_type=\"pl\",\n",
    "    level=1.5,\n",
    ")\n",
    "assert field.attrs[\"GRIB_count\"] == 99"
   ]
  },
  {
   "cell_type": "code",
   "execution_count": 8,
   "id": "e1b93aae",
   "metadata": {},
   "outputs": [],
   "source": [
    "field = load_field_from_file(\n",
    "    gfs_grib2_orig_file_path,\n",
    "    parameter={\n",
    "        \"discipline\": 0,\n",
    "        \"parameterCategory\": 3,\n",
    "        \"parameterNumber\": 5,\n",
    "    },\n",
    "    level_type=\"pl\",\n",
    "    level=0.1,\n",
    ")\n",
    "assert field.attrs[\"GRIB_count\"] == 103"
   ]
  },
  {
   "cell_type": "markdown",
   "id": "4c94e781",
   "metadata": {},
   "source": [
    "### 温度\n",
    "\n",
    "| 要素名 | wgrib2 | eccodes | cemc | GRIB Key | 层次类型 | 层次 | 编号 |\n",
    "|--------|---------|--------|------|----------|--------|------|------|\n",
    "| 温度 | TMP | t | t | (0, 0, 0) | pl | 40层 | 104-143 |"
   ]
  },
  {
   "cell_type": "code",
   "execution_count": 9,
   "id": "46ae9645",
   "metadata": {},
   "outputs": [],
   "source": [
    "field = load_field_from_file(\n",
    "    gfs_grib2_orig_file_path,\n",
    "    parameter=\"TMP\",\n",
    "    level_type=\"pl\",\n",
    "    level=1000,\n",
    ")\n",
    "assert field.attrs[\"GRIB_count\"] == 104"
   ]
  },
  {
   "cell_type": "code",
   "execution_count": 10,
   "id": "31d86b43",
   "metadata": {},
   "outputs": [],
   "source": [
    "field = load_field_from_file(\n",
    "    gfs_grib2_orig_file_path,\n",
    "    parameter=\"t\",\n",
    "    level_type=\"pl\",\n",
    "    level=850,\n",
    ")\n",
    "assert field.attrs[\"GRIB_count\"] == 109"
   ]
  },
  {
   "cell_type": "code",
   "execution_count": 11,
   "id": "26b19a2f",
   "metadata": {},
   "outputs": [],
   "source": [
    "field = load_field_from_file(\n",
    "    gfs_grib2_orig_file_path,\n",
    "    parameter=\"t\",\n",
    "    level_type=\"pl\",\n",
    "    level=1.5,\n",
    ")\n",
    "assert field.attrs[\"GRIB_count\"] == 139"
   ]
  },
  {
   "cell_type": "code",
   "execution_count": 12,
   "id": "cfd7e02b",
   "metadata": {},
   "outputs": [],
   "source": [
    "field = load_field_from_file(\n",
    "    gfs_grib2_orig_file_path,\n",
    "    parameter={\n",
    "        \"discipline\": 0,\n",
    "        \"parameterCategory\": 0,\n",
    "        \"parameterNumber\": 0,\n",
    "    },\n",
    "    level_type=\"pl\",\n",
    "    level=0.1,\n",
    ")\n",
    "assert field.attrs[\"GRIB_count\"] == 143"
   ]
  },
  {
   "cell_type": "markdown",
   "id": "403dba8d",
   "metadata": {},
   "source": [
    "### 东西风\n",
    "\n",
    "| 要素名 | wgrib2 | eccodes | cemc | GRIB Key | 层次类型 | 层次 | 编号 |\n",
    "|--------|---------|--------|------|----------|--------|------|-----|\n",
    "| 东西风 | UGRD | u | u | (0, 2, 2) | pl | 40层 | 144-183 |"
   ]
  },
  {
   "cell_type": "code",
   "execution_count": 13,
   "id": "78471821",
   "metadata": {},
   "outputs": [],
   "source": [
    "field = load_field_from_file(\n",
    "    gfs_grib2_orig_file_path,\n",
    "    parameter=\"UGRD\",\n",
    "    level_type=\"pl\",\n",
    "    level=1000,\n",
    ")\n",
    "assert field.attrs[\"GRIB_count\"] == 144"
   ]
  },
  {
   "cell_type": "code",
   "execution_count": 14,
   "id": "b472dd58",
   "metadata": {},
   "outputs": [],
   "source": [
    "field = load_field_from_file(\n",
    "    gfs_grib2_orig_file_path,\n",
    "    parameter=\"u\",\n",
    "    level_type=\"pl\",\n",
    "    level=850,\n",
    ")\n",
    "assert field.attrs[\"GRIB_count\"] == 149"
   ]
  },
  {
   "cell_type": "code",
   "execution_count": 15,
   "id": "115315fe",
   "metadata": {},
   "outputs": [],
   "source": [
    "field = load_field_from_file(\n",
    "    gfs_grib2_orig_file_path,\n",
    "    parameter=\"u\",\n",
    "    level_type=\"pl\",\n",
    "    level=1.5,\n",
    ")\n",
    "assert field.attrs[\"GRIB_count\"] == 179"
   ]
  },
  {
   "cell_type": "code",
   "execution_count": 18,
   "id": "b617e335",
   "metadata": {},
   "outputs": [],
   "source": [
    "field = load_field_from_file(\n",
    "    gfs_grib2_orig_file_path,\n",
    "    parameter={\n",
    "        \"discipline\": 0,\n",
    "        \"parameterCategory\": 2,\n",
    "        \"parameterNumber\": 2,\n",
    "    },\n",
    "    level_type=\"pl\",\n",
    "    level=0.1,\n",
    ")\n",
    "assert field.attrs[\"GRIB_count\"] == 183"
   ]
  },
  {
   "cell_type": "markdown",
   "id": "d24e9804",
   "metadata": {},
   "source": [
    "### 南北风\n",
    "\n",
    "| 要素名 | wgrib2 | eccodes | cemc | GRIB Key | 层次类型 | 层次 | 编号 |\n",
    "|--------|---------|--------|------|----------|--------|------|------|\n",
    "| 南北风 | VGRD | v | v | (0, 2, 3) | pl | 40层 | 184-223 |"
   ]
  },
  {
   "cell_type": "code",
   "execution_count": 19,
   "id": "b21e0e4e",
   "metadata": {},
   "outputs": [],
   "source": [
    "field = load_field_from_file(\n",
    "    gfs_grib2_orig_file_path,\n",
    "    parameter=\"VGRD\",\n",
    "    level_type=\"pl\",\n",
    "    level=1000,\n",
    ")\n",
    "assert field.attrs[\"GRIB_count\"] == 184"
   ]
  },
  {
   "cell_type": "code",
   "execution_count": 20,
   "id": "0dae036a",
   "metadata": {},
   "outputs": [],
   "source": [
    "field = load_field_from_file(\n",
    "    gfs_grib2_orig_file_path,\n",
    "    parameter=\"v\",\n",
    "    level_type=\"pl\",\n",
    "    level=850,\n",
    ")\n",
    "assert field.attrs[\"GRIB_count\"] == 189"
   ]
  },
  {
   "cell_type": "code",
   "execution_count": 21,
   "id": "d0c254aa",
   "metadata": {},
   "outputs": [],
   "source": [
    "field = load_field_from_file(\n",
    "    gfs_grib2_orig_file_path,\n",
    "    parameter=\"v\",\n",
    "    level_type=\"pl\",\n",
    "    level=1.5,\n",
    ")\n",
    "assert field.attrs[\"GRIB_count\"] == 219"
   ]
  },
  {
   "cell_type": "code",
   "execution_count": 22,
   "id": "90317b83",
   "metadata": {},
   "outputs": [],
   "source": [
    "field = load_field_from_file(\n",
    "    gfs_grib2_orig_file_path,\n",
    "    parameter={\n",
    "        \"discipline\": 0,\n",
    "        \"parameterCategory\": 2,\n",
    "        \"parameterNumber\": 3,\n",
    "    },\n",
    "    level_type=\"pl\",\n",
    "    level=0.1,\n",
    ")\n",
    "assert field.attrs[\"GRIB_count\"] == 223"
   ]
  }
 ],
 "metadata": {
  "kernelspec": {
   "display_name": "py312-cedar-dev",
   "language": "python",
   "name": "python3"
  },
  "language_info": {
   "codemirror_mode": {
    "name": "ipython",
    "version": 3
   },
   "file_extension": ".py",
   "mimetype": "text/x-python",
   "name": "python",
   "nbconvert_exporter": "python",
   "pygments_lexer": "ipython3",
   "version": "3.12.11"
  }
 },
 "nbformat": 4,
 "nbformat_minor": 5
}
