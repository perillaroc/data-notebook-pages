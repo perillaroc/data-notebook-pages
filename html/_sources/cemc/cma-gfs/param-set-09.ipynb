{
 "cells": [
  {
   "cell_type": "markdown",
   "id": "969b981c",
   "metadata": {},
   "source": [
    "# 要素清单：774-784"
   ]
  },
  {
   "cell_type": "code",
   "execution_count": 1,
   "id": "716ea68b",
   "metadata": {},
   "outputs": [],
   "source": [
    "import numpy as np\n",
    "import pandas as pd\n",
    "import xarray as xr\n",
    "\n",
    "from reki.data_finder import find_local_file\n",
    "from reki.format.grib.eccodes import load_field_from_file"
   ]
  },
  {
   "cell_type": "code",
   "execution_count": 2,
   "id": "99b2833f",
   "metadata": {},
   "outputs": [
    {
     "data": {
      "text/plain": [
       "PosixPath('/g3/COMMONDATA/OPER/CEMC/GFS_GMF/Prod-grib/2025081200/ORIG/gmf.gra.2025081200024.grb2')"
      ]
     },
     "execution_count": 2,
     "metadata": {},
     "output_type": "execute_result"
    }
   ],
   "source": [
    "start_time = pd.Timestamp.utcnow().floor(freq=\"D\") - pd.Timedelta(days=2)\n",
    "start_time_label = start_time.strftime(\"%Y%m%d%H\")\n",
    "forecast_time_label = \"24h\"\n",
    "forecast_time = pd.to_timedelta(forecast_time_label)\n",
    "\n",
    "gfs_grib2_orig_file_path = find_local_file(\n",
    "    \"cma_gfs_gmf/grib2/orig\",\n",
    "    start_time=start_time,\n",
    "    forecast_time=forecast_time,\n",
    ")\n",
    "gfs_grib2_orig_file_path"
   ]
  },
  {
   "cell_type": "markdown",
   "id": "2509330b",
   "metadata": {},
   "source": [
    "## KX/SX/CAPE/CIN/PLI/pc/dcape"
   ]
  },
  {
   "cell_type": "markdown",
   "id": "b57375f1",
   "metadata": {},
   "source": [
    "### K指数\n",
    "\n",
    "| 要素名 | wgrib2 | eccodes | cemc | GRIB Key | 层次类型 | 层次 | 编号 |\n",
    "|--------|---------|--------|------|----------|--------|------|-------|\n",
    "| K指数 | KX | kx | k | (0, 7, 2) | meanSea | - | 774 |"
   ]
  },
  {
   "cell_type": "code",
   "execution_count": 3,
   "id": "79a28d1f",
   "metadata": {},
   "outputs": [],
   "source": [
    "field = load_field_from_file(\n",
    "    gfs_grib2_orig_file_path,\n",
    "    parameter=\"KX\",\n",
    "    level_type=\"meanSea\",\n",
    ")\n",
    "assert field.attrs[\"GRIB_count\"] == 774"
   ]
  },
  {
   "cell_type": "code",
   "execution_count": 4,
   "id": "acaf3b40",
   "metadata": {},
   "outputs": [],
   "source": [
    "field = load_field_from_file(\n",
    "    gfs_grib2_orig_file_path,\n",
    "    parameter=\"kx\",\n",
    ")\n",
    "assert field.attrs[\"GRIB_count\"] == 774"
   ]
  },
  {
   "cell_type": "code",
   "execution_count": 5,
   "id": "4e84591a",
   "metadata": {},
   "outputs": [],
   "source": [
    "field = load_field_from_file(\n",
    "    gfs_grib2_orig_file_path,\n",
    "    parameter=\"k\",\n",
    ")\n",
    "assert field.attrs[\"GRIB_count\"] == 774"
   ]
  },
  {
   "cell_type": "code",
   "execution_count": 6,
   "id": "30fc309f",
   "metadata": {},
   "outputs": [],
   "source": [
    "field = load_field_from_file(\n",
    "    gfs_grib2_orig_file_path,\n",
    "    parameter={\n",
    "        \"discipline\": 0,\n",
    "        \"parameterCategory\": 7,\n",
    "        \"parameterNumber\": 2,\n",
    "    },\n",
    "    level_type=\"meanSea\",\n",
    ")\n",
    "assert field.attrs[\"GRIB_count\"] == 774"
   ]
  },
  {
   "cell_type": "markdown",
   "id": "941d128d",
   "metadata": {},
   "source": [
    "### 强天气胁迫指数\n",
    "\n",
    "| 要素名 | wgrib2 | eccodes | cemc | GRIB Key | 层次类型 | 层次 | 编号 |\n",
    "|--------|---------|--------|------|----------|--------|------|-------|\n",
    "| 强天气胁迫指数 | SX | sx | sweatidx | (0, 7, 5) | surface | - | 775 |"
   ]
  },
  {
   "cell_type": "code",
   "execution_count": 7,
   "id": "71f710d9",
   "metadata": {},
   "outputs": [],
   "source": [
    "field = load_field_from_file(\n",
    "    gfs_grib2_orig_file_path,\n",
    "    parameter=\"SX\",\n",
    "    level_type=\"surface\",\n",
    ")\n",
    "assert field.attrs[\"GRIB_count\"] == 775"
   ]
  },
  {
   "cell_type": "code",
   "execution_count": 8,
   "id": "882d7caf",
   "metadata": {},
   "outputs": [],
   "source": [
    "field = load_field_from_file(\n",
    "    gfs_grib2_orig_file_path,\n",
    "    parameter=\"sx\",\n",
    "    level_type=\"sfc\",\n",
    ")\n",
    "assert field.attrs[\"GRIB_count\"] == 775"
   ]
  },
  {
   "cell_type": "code",
   "execution_count": 9,
   "id": "06d50c9d",
   "metadata": {},
   "outputs": [],
   "source": [
    "field = load_field_from_file(\n",
    "    gfs_grib2_orig_file_path,\n",
    "    parameter=\"sweatidx\",\n",
    ")\n",
    "assert field.attrs[\"GRIB_count\"] == 775"
   ]
  },
  {
   "cell_type": "code",
   "execution_count": 10,
   "id": "0e8c045f",
   "metadata": {},
   "outputs": [],
   "source": [
    "field = load_field_from_file(\n",
    "    gfs_grib2_orig_file_path,\n",
    "    parameter={\n",
    "        \"discipline\": 0,\n",
    "        \"parameterCategory\": 7,\n",
    "        \"parameterNumber\": 5,\n",
    "    },\n",
    "    level_type=\"surface\",\n",
    ")\n",
    "assert field.attrs[\"GRIB_count\"] == 775"
   ]
  },
  {
   "cell_type": "markdown",
   "id": "8d6c622b",
   "metadata": {},
   "source": [
    "### 对流有效位能\n",
    "\n",
    "| 要素名 | wgrib2 | eccodes | cemc | GRIB Key | 层次类型 | 层次 | 编号 |\n",
    "|--------|---------|--------|------|----------|--------|------|-------|\n",
    "| 对流有效位能 | CAPE | - | cape | (0, 7, 6) | surface | - | 776 |"
   ]
  },
  {
   "cell_type": "code",
   "execution_count": 11,
   "id": "0f42d3af",
   "metadata": {},
   "outputs": [],
   "source": [
    "field = load_field_from_file(\n",
    "    gfs_grib2_orig_file_path,\n",
    "    parameter=\"CAPE\",\n",
    "    level_type=\"surface\",\n",
    ")\n",
    "assert field.attrs[\"GRIB_count\"] == 776"
   ]
  },
  {
   "cell_type": "code",
   "execution_count": 12,
   "id": "44780572",
   "metadata": {},
   "outputs": [],
   "source": [
    "field = load_field_from_file(\n",
    "    gfs_grib2_orig_file_path,\n",
    "    parameter=\"cape\",\n",
    ")\n",
    "assert field.attrs[\"GRIB_count\"] == 776"
   ]
  },
  {
   "cell_type": "code",
   "execution_count": 13,
   "id": "cc7c21cc",
   "metadata": {},
   "outputs": [],
   "source": [
    "field = load_field_from_file(\n",
    "    gfs_grib2_orig_file_path,\n",
    "    parameter={\n",
    "        \"discipline\": 0,\n",
    "        \"parameterCategory\": 7,\n",
    "        \"parameterNumber\": 6,\n",
    "    },\n",
    "    level_type=\"surface\",\n",
    ")\n",
    "assert field.attrs[\"GRIB_count\"] == 776"
   ]
  },
  {
   "cell_type": "markdown",
   "id": "85e5f1f9",
   "metadata": {},
   "source": [
    "### 对流抑制能量\n",
    "\n",
    "| 要素名 | wgrib2 | eccodes | cemc | GRIB Key | 层次类型 | 层次 | 编号 |\n",
    "|--------|---------|--------|------|----------|--------|------|-------|\n",
    "| 对流抑制能量 | CIN | - | cin | (0, 7, 7) | surface | - | 777 |"
   ]
  },
  {
   "cell_type": "code",
   "execution_count": 14,
   "id": "95919c39",
   "metadata": {},
   "outputs": [],
   "source": [
    "field = load_field_from_file(\n",
    "    gfs_grib2_orig_file_path,\n",
    "    parameter=\"CIN\",\n",
    "    level_type=\"surface\",\n",
    ")\n",
    "assert field.attrs[\"GRIB_count\"] == 777"
   ]
  },
  {
   "cell_type": "code",
   "execution_count": 15,
   "id": "75893f0f",
   "metadata": {},
   "outputs": [],
   "source": [
    "field = load_field_from_file(\n",
    "    gfs_grib2_orig_file_path,\n",
    "    parameter=\"cin\",\n",
    ")\n",
    "assert field.attrs[\"GRIB_count\"] == 777"
   ]
  },
  {
   "cell_type": "code",
   "execution_count": 16,
   "id": "807b5987",
   "metadata": {},
   "outputs": [],
   "source": [
    "field = load_field_from_file(\n",
    "    gfs_grib2_orig_file_path,\n",
    "    parameter={\n",
    "        \"discipline\": 0,\n",
    "        \"parameterCategory\": 7,\n",
    "        \"parameterNumber\": 7,\n",
    "    },\n",
    "    level_type=\"surface\",\n",
    ")\n",
    "assert field.attrs[\"GRIB_count\"] == 777"
   ]
  },
  {
   "cell_type": "markdown",
   "id": "79cf95ce",
   "metadata": {},
   "source": [
    "### 抬升指数\n",
    "\n",
    "| 要素名 | wgrib2 | eccodes | cemc | GRIB Key | 层次类型 | 层次 | 编号 |\n",
    "|--------|---------|--------|------|----------|--------|------|-------|\n",
    "| 抬升指数 | PLI | pli | pli | (0, 7, 0) | surface | - | 778 |"
   ]
  },
  {
   "cell_type": "code",
   "execution_count": 17,
   "id": "fcd03489",
   "metadata": {},
   "outputs": [],
   "source": [
    "field = load_field_from_file(\n",
    "    gfs_grib2_orig_file_path,\n",
    "    parameter=\"PLI\",\n",
    "    level_type=\"surface\",\n",
    ")\n",
    "assert field.attrs[\"GRIB_count\"] == 778"
   ]
  },
  {
   "cell_type": "code",
   "execution_count": 18,
   "id": "ce4ddd57",
   "metadata": {},
   "outputs": [],
   "source": [
    "field = load_field_from_file(\n",
    "    gfs_grib2_orig_file_path,\n",
    "    parameter=\"pli\",\n",
    ")\n",
    "assert field.attrs[\"GRIB_count\"] == 778"
   ]
  },
  {
   "cell_type": "code",
   "execution_count": 19,
   "id": "c742b4a9",
   "metadata": {},
   "outputs": [],
   "source": [
    "field = load_field_from_file(\n",
    "    gfs_grib2_orig_file_path,\n",
    "    parameter={\n",
    "        \"discipline\": 0,\n",
    "        \"parameterCategory\": 7,\n",
    "        \"parameterNumber\": 0,\n",
    "    },\n",
    "    level_type=\"surface\",\n",
    ")\n",
    "assert field.attrs[\"GRIB_count\"] == 778"
   ]
  },
  {
   "cell_type": "markdown",
   "id": "0b1aff16",
   "metadata": {},
   "source": [
    "### 抬升凝结高度\n",
    "\n",
    "| 要素名 | wgrib2 | eccodes | cemc | GRIB Key | 层次类型 | 层次 | 编号 |\n",
    "|--------|---------|--------|------|----------|--------|------|-------|\n",
    "| 抬升凝结高度 | - | - | pc | (0, 1, 228) | surface | - | 779 |"
   ]
  },
  {
   "cell_type": "code",
   "execution_count": 20,
   "id": "6e21aaf3",
   "metadata": {},
   "outputs": [],
   "source": [
    "field = load_field_from_file(\n",
    "    gfs_grib2_orig_file_path,\n",
    "    parameter=\"pc\",\n",
    ")\n",
    "assert field.attrs[\"GRIB_count\"] == 779"
   ]
  },
  {
   "cell_type": "code",
   "execution_count": 21,
   "id": "abc03559",
   "metadata": {},
   "outputs": [],
   "source": [
    "field = load_field_from_file(\n",
    "    gfs_grib2_orig_file_path,\n",
    "    parameter={\n",
    "        \"discipline\": 0,\n",
    "        \"parameterCategory\": 1,\n",
    "        \"parameterNumber\": 228, \n",
    "    },\n",
    "    level_type=\"surface\",\n",
    ")\n",
    "assert field.attrs[\"GRIB_count\"] == 779"
   ]
  },
  {
   "cell_type": "markdown",
   "id": "5789f14f",
   "metadata": {},
   "source": [
    "### 下沉对流有效位能\n",
    "\n",
    "| 要素名 | wgrib2 | eccodes | cemc | GRIB Key | 层次类型 | 层次 | 编号 |\n",
    "|--------|---------|--------|------|----------|--------|------|-------|\n",
    "| 下沉对流有效位能 | - | - | dcape | (0, 7, 224) | surface | - | 780 |"
   ]
  },
  {
   "cell_type": "code",
   "execution_count": 22,
   "id": "8ed336e0",
   "metadata": {},
   "outputs": [],
   "source": [
    "field = load_field_from_file(\n",
    "    gfs_grib2_orig_file_path,\n",
    "    parameter=\"dcape\",\n",
    ")\n",
    "assert field.attrs[\"GRIB_count\"] == 780"
   ]
  },
  {
   "cell_type": "code",
   "execution_count": 23,
   "id": "6bf21566",
   "metadata": {},
   "outputs": [],
   "source": [
    "field = load_field_from_file(\n",
    "    gfs_grib2_orig_file_path,\n",
    "    parameter={\n",
    "        \"discipline\": 0,\n",
    "        \"parameterCategory\": 7,\n",
    "        \"parameterNumber\": 224,\n",
    "    },\n",
    "    level_type=\"surface\",\n",
    ")\n",
    "assert field.attrs[\"GRIB_count\"] == 780"
   ]
  },
  {
   "cell_type": "markdown",
   "id": "69893136",
   "metadata": {},
   "source": [
    "## 垂直风切变\n",
    "\n",
    "| 要素名 | wgrib2 | eccodes | cemc | GRIB Key | 层次类型 | 层次 | 编号 |\n",
    "|--------|---------|--------|------|----------|--------|------|-------|\n",
    "| 0-1000m垂直风切变 | VWSH | vwsh | shr(0-1000) | (0, 2, 25) | heightAboveGroundLayer | 1000, 0 | 781 |\n",
    "| 0-3000m垂直风切变 | VWSH | vwsh | shr(0-3000) | (0, 2, 25) | heightAboveGroundLayer | 3000, 0 | 782 |\n",
    "| 0-6000m垂直风切变 | VWSH | vwsh | shr(0-6000) | (0, 2, 25) | heightAboveGroundLayer | 6000, 0 | 783 |"
   ]
  },
  {
   "cell_type": "code",
   "execution_count": 24,
   "id": "1c9978cb",
   "metadata": {},
   "outputs": [],
   "source": [
    "field = load_field_from_file(\n",
    "    gfs_grib2_orig_file_path,\n",
    "    parameter=\"VWSH\",\n",
    "    level_type=\"heightAboveGroundLayer\",\n",
    "    level=1000,\n",
    ")\n",
    "assert field.attrs[\"GRIB_count\"] == 781"
   ]
  },
  {
   "cell_type": "code",
   "execution_count": 25,
   "id": "3b542938",
   "metadata": {},
   "outputs": [],
   "source": [
    "field = load_field_from_file(\n",
    "    gfs_grib2_orig_file_path,\n",
    "    parameter=\"vwsh\",\n",
    "    level_type=\"heightAboveGroundLayer\",\n",
    "    level={\n",
    "        \"first_level\": 3000,\n",
    "        \"second_level\": 0,\n",
    "    },\n",
    ")\n",
    "assert field.attrs[\"GRIB_count\"] == 782"
   ]
  },
  {
   "cell_type": "code",
   "execution_count": 26,
   "id": "eb64bf8f",
   "metadata": {},
   "outputs": [],
   "source": [
    "field = load_field_from_file(\n",
    "    gfs_grib2_orig_file_path,\n",
    "    parameter=\"shr(0-6000)\",\n",
    ")\n",
    "assert field.attrs[\"GRIB_count\"] == 783"
   ]
  },
  {
   "cell_type": "code",
   "execution_count": 27,
   "id": "6b679cd9",
   "metadata": {},
   "outputs": [],
   "source": [
    "field = load_field_from_file(\n",
    "    gfs_grib2_orig_file_path,\n",
    "    parameter={\n",
    "        \"discipline\": 0,\n",
    "        \"parameterCategory\": 2,\n",
    "        \"parameterNumber\": 25,\n",
    "    },\n",
    "    level_type=\"heightAboveGroundLayer\",\n",
    "    level={\n",
    "        \"first_level\": 6000,\n",
    "        \"second_level\": 0,\n",
    "    },\n",
    ")\n",
    "assert field.attrs[\"GRIB_count\"] == 783"
   ]
  },
  {
   "cell_type": "markdown",
   "id": "9ab07e27",
   "metadata": {},
   "source": [
    "## 最优抬升指数\n",
    "\n",
    "| 要素名 | wgrib2 | eccodes | cemc | GRIB Key | 层次类型 | 层次 | 编号 |\n",
    "|--------|---------|--------|------|----------|--------|------|-------|\n",
    "| 最优抬升指数 | BLI | bli | bli | (0, 7, 1) | surface | - | 784 |"
   ]
  },
  {
   "cell_type": "code",
   "execution_count": 28,
   "id": "15abdc2c",
   "metadata": {},
   "outputs": [],
   "source": [
    "field = load_field_from_file(\n",
    "    gfs_grib2_orig_file_path,\n",
    "    parameter=\"BLI\",\n",
    "    level_type=\"surface\",\n",
    ")\n",
    "assert field.attrs[\"GRIB_count\"] == 784"
   ]
  },
  {
   "cell_type": "code",
   "execution_count": 29,
   "id": "ab3e93ea",
   "metadata": {},
   "outputs": [],
   "source": [
    "field = load_field_from_file(\n",
    "    gfs_grib2_orig_file_path,\n",
    "    parameter=\"bli\",\n",
    ")\n",
    "assert field.attrs[\"GRIB_count\"] == 784"
   ]
  },
  {
   "cell_type": "code",
   "execution_count": 30,
   "id": "d4d551a2",
   "metadata": {},
   "outputs": [],
   "source": [
    "field = load_field_from_file(\n",
    "    gfs_grib2_orig_file_path,\n",
    "    parameter={\n",
    "        \"discipline\": 0,\n",
    "        \"parameterCategory\": 7,\n",
    "        \"parameterNumber\": 1,\n",
    "    },\n",
    "    level_type=\"surface\",\n",
    ")\n",
    "assert field.attrs[\"GRIB_count\"] == 784"
   ]
  },
  {
   "cell_type": "code",
   "execution_count": null,
   "id": "dfbf21d4",
   "metadata": {},
   "outputs": [],
   "source": []
  }
 ],
 "metadata": {
  "kernelspec": {
   "display_name": "py312-cedar-dev",
   "language": "python",
   "name": "python3"
  },
  "language_info": {
   "codemirror_mode": {
    "name": "ipython",
    "version": 3
   },
   "file_extension": ".py",
   "mimetype": "text/x-python",
   "name": "python",
   "nbconvert_exporter": "python",
   "pygments_lexer": "ipython3",
   "version": "3.12.11"
  }
 },
 "nbformat": 4,
 "nbformat_minor": 5
}
