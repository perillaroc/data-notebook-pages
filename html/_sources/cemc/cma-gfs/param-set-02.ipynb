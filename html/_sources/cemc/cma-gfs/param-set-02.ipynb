{
 "cells": [
  {
   "cell_type": "markdown",
   "id": "89618378",
   "metadata": {},
   "source": [
    "# 要素清单：6-21"
   ]
  },
  {
   "cell_type": "code",
   "execution_count": 1,
   "id": "21cc3c1e",
   "metadata": {},
   "outputs": [],
   "source": [
    "import numpy as np\n",
    "import pandas as pd\n",
    "import xarray as xr\n",
    "\n",
    "from reki.data_finder import find_local_file\n",
    "from reki.format.grib.eccodes import load_field_from_file"
   ]
  },
  {
   "cell_type": "code",
   "execution_count": 2,
   "id": "17c50a20",
   "metadata": {},
   "outputs": [
    {
     "data": {
      "text/plain": [
       "PosixPath('/g3/COMMONDATA/OPER/CEMC/GFS_GMF/Prod-grib/2025072300/ORIG/gmf.gra.2025072300024.grb2')"
      ]
     },
     "execution_count": 2,
     "metadata": {},
     "output_type": "execute_result"
    }
   ],
   "source": [
    "start_time = pd.Timestamp.utcnow().floor(freq=\"D\") - pd.Timedelta(days=2)\n",
    "start_time_label = start_time.strftime(\"%Y%m%d%H\")\n",
    "forecast_time_label = \"24h\"\n",
    "forecast_time = pd.to_timedelta(forecast_time_label)\n",
    "\n",
    "gfs_grib2_orig_file_path = find_local_file(\n",
    "    \"cma_gfs_gmf/grib2/orig\",\n",
    "    start_time=start_time,\n",
    "    forecast_time=forecast_time,\n",
    ")\n",
    "gfs_grib2_orig_file_path"
   ]
  },
  {
   "cell_type": "markdown",
   "id": "443efe70",
   "metadata": {},
   "source": [
    "## NLWRF/NSWRF/...."
   ]
  },
  {
   "cell_type": "markdown",
   "id": "3698178b",
   "metadata": {},
   "source": [
    "### 地表向下长波辐射\n",
    "\n",
    "| 要素名 | wgrib2 | eccodes | cemc | GRIB Key | 层次类型 | 层次 | 编号 |\n",
    "|--------|---------|--------|------|----------|--------|-----|------|\n",
    "| 地表向下长波辐射 | NLWRF | str | str | (0, 5, 5) | surface | - | 6 |"
   ]
  },
  {
   "cell_type": "code",
   "execution_count": 3,
   "id": "84f6ca2b",
   "metadata": {},
   "outputs": [],
   "source": [
    "field = load_field_from_file(\n",
    "    gfs_grib2_orig_file_path,\n",
    "    parameter=\"NLWRF\",\n",
    ")\n",
    "assert field.attrs[\"GRIB_count\"] == 6"
   ]
  },
  {
   "cell_type": "code",
   "execution_count": 4,
   "id": "e1b4297c",
   "metadata": {},
   "outputs": [],
   "source": [
    "field = load_field_from_file(\n",
    "    gfs_grib2_orig_file_path,\n",
    "    parameter=\"str\",\n",
    "    level_type=\"surface\",\n",
    ")\n",
    "assert field.attrs[\"GRIB_count\"] == 6"
   ]
  },
  {
   "cell_type": "code",
   "execution_count": null,
   "id": "6f15c0a8",
   "metadata": {},
   "outputs": [],
   "source": [
    "field = load_field_from_file(\n",
    "    gfs_grib2_orig_file_path,\n",
    "    parameter={\n",
    "        \"discipline\": 0,\n",
    "        \"parameterCategory\": 5,\n",
    "        \"parameterNumber\": 5,\n",
    "    },\n",
    "    level_type=\"surface\",\n",
    ")\n",
    "assert field.attrs[\"GRIB_count\"] == 6"
   ]
  },
  {
   "cell_type": "markdown",
   "id": "a3866424",
   "metadata": {},
   "source": [
    "### 地表净短波辐射\n",
    "\n",
    "| 要素名 | wgrib2 | eccodes | cemc | GRIB Key | 层次类型 | 层次 | 编号 |\n",
    "|--------|---------|--------|------|----------|--------|----|-------|\n",
    "| 地表净短波辐射 | NSWRF | ssr | ssr | (0, 4, 9) | surface | - | 7 |"
   ]
  },
  {
   "cell_type": "code",
   "execution_count": null,
   "id": "38765f0c",
   "metadata": {},
   "outputs": [],
   "source": [
    "field = load_field_from_file(\n",
    "    gfs_grib2_orig_file_path,\n",
    "    parameter=\"NSWRF\",\n",
    "    level_type=\"surface\",\n",
    ")\n",
    "assert field.attrs[\"GRIB_count\"] == 7"
   ]
  },
  {
   "cell_type": "code",
   "execution_count": null,
   "id": "dfe512d8",
   "metadata": {},
   "outputs": [],
   "source": [
    "field = load_field_from_file(\n",
    "    gfs_grib2_orig_file_path,\n",
    "    parameter=\"ssr\",\n",
    "    level_type=\"surface\",\n",
    ")\n",
    "assert field.attrs[\"GRIB_count\"] == 7"
   ]
  },
  {
   "cell_type": "code",
   "execution_count": null,
   "id": "ca513893",
   "metadata": {},
   "outputs": [],
   "source": [
    "field = load_field_from_file(\n",
    "    gfs_grib2_orig_file_path,\n",
    "    parameter={\n",
    "        \"discipline\": 0,\n",
    "        \"parameterCategory\": 4,\n",
    "        \"parameterNumber\": 9,\n",
    "    },\n",
    "    level_type=\"surface\",\n",
    ")\n",
    "assert field.attrs[\"GRIB_count\"] == 7"
   ]
  },
  {
   "cell_type": "markdown",
   "id": "548b4c6a",
   "metadata": {},
   "source": [
    "### 地表感热通量\n",
    "\n",
    "| 要素名 | wgrib2 | eccodes | cemc | GRIB Key | 层次类型 | 层次 | 编号 |\n",
    "|--------|---------|--------|------|----------|--------|------|-------|\n",
    "| 地表感热通量 | HFLUX | hflux | sshf | (2, 0, 24) | surface | - | 8 |"
   ]
  },
  {
   "cell_type": "code",
   "execution_count": 9,
   "id": "c30856ab",
   "metadata": {},
   "outputs": [],
   "source": [
    "field = load_field_from_file(\n",
    "    gfs_grib2_orig_file_path,\n",
    "    parameter=\"HFLUX\",\n",
    ")\n",
    "assert field.attrs[\"GRIB_count\"] == 8"
   ]
  },
  {
   "cell_type": "code",
   "execution_count": 10,
   "id": "ced4f353",
   "metadata": {},
   "outputs": [],
   "source": [
    "field = load_field_from_file(\n",
    "    gfs_grib2_orig_file_path,\n",
    "    parameter=\"hflux\",\n",
    ")\n",
    "assert field.attrs[\"GRIB_count\"] == 8"
   ]
  },
  {
   "cell_type": "code",
   "execution_count": 11,
   "id": "1b484440",
   "metadata": {},
   "outputs": [],
   "source": [
    "field = load_field_from_file(\n",
    "    gfs_grib2_orig_file_path,\n",
    "    parameter=\"sshf\",\n",
    ")\n",
    "assert field.attrs[\"GRIB_count\"] == 8"
   ]
  },
  {
   "cell_type": "code",
   "execution_count": 12,
   "id": "16e2ab9a",
   "metadata": {},
   "outputs": [],
   "source": [
    "field = load_field_from_file(\n",
    "    gfs_grib2_orig_file_path,\n",
    "    parameter={\n",
    "        \"discipline\": 2,\n",
    "        \"parameterCategory\": 0,\n",
    "        \"parameterNumber\": 24,\n",
    "    },\n",
    ")\n",
    "assert field.attrs[\"GRIB_count\"] == 8"
   ]
  },
  {
   "cell_type": "markdown",
   "id": "78fe419c",
   "metadata": {},
   "source": [
    "### 地表潜热通量\n",
    "\n",
    "\n",
    "| 要素名 | wgrib2 | eccodes | cemc | GRIB Key | 层次类型 | 层次 | 编号 |\n",
    "|--------|---------|--------|------|----------|--------|------|------|\n",
    "| 地表潜热通量 | LHTFL | slhf | slhf | (0, 0, 10) | surface | - | 9 |"
   ]
  },
  {
   "cell_type": "code",
   "execution_count": 13,
   "id": "699f8a84",
   "metadata": {},
   "outputs": [],
   "source": [
    "field = load_field_from_file(\n",
    "    gfs_grib2_orig_file_path,\n",
    "    parameter=\"LHTFL\",\n",
    ")\n",
    "assert field.attrs[\"GRIB_count\"] == 9"
   ]
  },
  {
   "cell_type": "code",
   "execution_count": 14,
   "id": "18f9a544",
   "metadata": {},
   "outputs": [],
   "source": [
    "field = load_field_from_file(\n",
    "    gfs_grib2_orig_file_path,\n",
    "    parameter=\"slhf\",\n",
    ")\n",
    "assert field.attrs[\"GRIB_count\"] == 9"
   ]
  },
  {
   "cell_type": "code",
   "execution_count": 15,
   "id": "48cc4364",
   "metadata": {},
   "outputs": [],
   "source": [
    "field = load_field_from_file(\n",
    "    gfs_grib2_orig_file_path,\n",
    "    parameter={\n",
    "        \"discipline\": 0,\n",
    "        \"parameterCategory\": 0,\n",
    "        \"parameterNumber\": 10,\n",
    "    },\n",
    ")\n",
    "assert field.attrs[\"GRIB_count\"] == 9"
   ]
  },
  {
   "cell_type": "markdown",
   "id": "2824ee70",
   "metadata": {},
   "source": [
    "### 地面向上长波辐射\n",
    "\n",
    "| 要素名 | wgrib2 | eccodes | cemc | GRIB Key | 层次类型 | 层次 | 编号 |\n",
    "|--------|---------|--------|------|----------|--------|-------|------|\n",
    "| 地面向上长波辐射 | ULWRF | sulwrf | gulw | (0, 5, 4) | surface | - | 10 |"
   ]
  },
  {
   "cell_type": "code",
   "execution_count": 16,
   "id": "563edb17",
   "metadata": {},
   "outputs": [],
   "source": [
    "field = load_field_from_file(\n",
    "    gfs_grib2_orig_file_path,\n",
    "    parameter=\"ULWRF\",\n",
    "    level_type=\"surface\",\n",
    ")\n",
    "assert field.attrs[\"GRIB_count\"] == 10"
   ]
  },
  {
   "cell_type": "code",
   "execution_count": 17,
   "id": "2c0d0759",
   "metadata": {},
   "outputs": [],
   "source": [
    "field = load_field_from_file(\n",
    "    gfs_grib2_orig_file_path,\n",
    "    parameter=\"sulwrf\",\n",
    "    level_type=\"sfc\",\n",
    ")\n",
    "assert field.attrs[\"GRIB_count\"] == 10"
   ]
  },
  {
   "cell_type": "code",
   "execution_count": 18,
   "id": "179e1cc7",
   "metadata": {},
   "outputs": [],
   "source": [
    "field = load_field_from_file(\n",
    "    gfs_grib2_orig_file_path,\n",
    "    parameter=\"gulw\",\n",
    "    level_type=\"surface\",\n",
    ")\n",
    "assert field.attrs[\"GRIB_count\"] == 10"
   ]
  },
  {
   "cell_type": "code",
   "execution_count": 19,
   "id": "31b703de",
   "metadata": {},
   "outputs": [],
   "source": [
    "field = load_field_from_file(\n",
    "    gfs_grib2_orig_file_path,\n",
    "    parameter={\n",
    "        \"discipline\": 0,\n",
    "        \"parameterCategory\": 5,\n",
    "        \"parameterNumber\": 4,\n",
    "    },\n",
    "    level_type=\"surface\",\n",
    ")\n",
    "assert field.attrs[\"GRIB_count\"] == 10"
   ]
  },
  {
   "cell_type": "markdown",
   "id": "61c0b981",
   "metadata": {},
   "source": [
    "### 大气顶向上长波辐射\n",
    "\n",
    "| 要素名 | wgrib2 | eccodes | cemc | GRIB Key | 层次类型 | 层次 | 编号 |\n",
    "|--------|---------|--------|------|----------|--------|-------|-----|\n",
    "| 地面向上长波辐射 | ULWRF | - | tulw | (0, 5, 4) | nominalTop | - | 11 |"
   ]
  },
  {
   "cell_type": "code",
   "execution_count": 20,
   "id": "27348013",
   "metadata": {},
   "outputs": [],
   "source": [
    "field = load_field_from_file(\n",
    "    gfs_grib2_orig_file_path,\n",
    "    parameter=\"ULWRF\",\n",
    "    level_type=\"nominalTop\",\n",
    ")\n",
    "assert field.attrs[\"GRIB_count\"] == 11"
   ]
  },
  {
   "cell_type": "code",
   "execution_count": 21,
   "id": "6a3a74b5",
   "metadata": {},
   "outputs": [],
   "source": [
    "field = load_field_from_file(\n",
    "    gfs_grib2_orig_file_path,\n",
    "    parameter=\"tulw\",\n",
    "    level_type=\"nominalTop\",\n",
    ")\n",
    "assert field.attrs[\"GRIB_count\"] == 11"
   ]
  },
  {
   "cell_type": "code",
   "execution_count": 22,
   "id": "332aa098",
   "metadata": {},
   "outputs": [],
   "source": [
    "field = load_field_from_file(\n",
    "    gfs_grib2_orig_file_path,\n",
    "    parameter={\n",
    "        \"discipline\": 0,\n",
    "        \"parameterCategory\": 5,\n",
    "        \"parameterNumber\": 4,\n",
    "    },\n",
    "    level_type=\"nominalTop\",\n",
    "    # stepType=\"accum\",\n",
    ")\n",
    "assert field.attrs[\"GRIB_count\"] == 11"
   ]
  },
  {
   "cell_type": "markdown",
   "id": "d333b020",
   "metadata": {},
   "source": [
    "### 地表晴空向下长波辐射\n",
    "\n",
    "| 要素名 | wgrib2 | eccodes | cemc | GRIB Key | 层次类型 | 层次 | 编号 |\n",
    "|--------|---------|--------|------|----------|--------|------|------|\n",
    "| 地表晴空向下长波辐射 | DLWRFCS | strdc | gdlwc | (0, 5, 8) | surface | - | 12 |"
   ]
  },
  {
   "cell_type": "code",
   "execution_count": 23,
   "id": "68e3fce5",
   "metadata": {},
   "outputs": [],
   "source": [
    "field = load_field_from_file(\n",
    "    gfs_grib2_orig_file_path,\n",
    "    parameter=\"DLWRFCS\",\n",
    "    level_type=\"surface\",\n",
    "    \n",
    ")\n",
    "assert field.attrs[\"GRIB_count\"] == 12"
   ]
  },
  {
   "cell_type": "code",
   "execution_count": 24,
   "id": "7048ad66",
   "metadata": {},
   "outputs": [],
   "source": [
    "field = load_field_from_file(\n",
    "    gfs_grib2_orig_file_path,\n",
    "    parameter=\"strdc\",\n",
    "    level_type=\"surface\",\n",
    "    stepType=\"accum\",\n",
    ")\n",
    "assert field.attrs[\"GRIB_count\"] == 12"
   ]
  },
  {
   "cell_type": "code",
   "execution_count": 25,
   "id": "472913d6",
   "metadata": {},
   "outputs": [],
   "source": [
    "field = load_field_from_file(\n",
    "    gfs_grib2_orig_file_path,\n",
    "    parameter=\"gdlwc\",\n",
    "    level_type=\"surface\",\n",
    "    stepType=\"accum\",\n",
    ")\n",
    "assert field.attrs[\"GRIB_count\"] == 12"
   ]
  },
  {
   "cell_type": "code",
   "execution_count": 26,
   "id": "2d388730",
   "metadata": {},
   "outputs": [],
   "source": [
    "field = load_field_from_file(\n",
    "    gfs_grib2_orig_file_path,\n",
    "    parameter={\n",
    "        \"discipline\": 0,\n",
    "        \"parameterCategory\": 5,\n",
    "        \"parameterNumber\": 8,\n",
    "    },\n",
    "    level_type=\"surface\",\n",
    ")\n",
    "assert field.attrs[\"GRIB_count\"] == 12"
   ]
  },
  {
   "cell_type": "markdown",
   "id": "794b540a",
   "metadata": {},
   "source": [
    "### 地表晴空向上长波辐射\n",
    "\n",
    "| 要素名 | wgrib2 | eccodes | cemc | GRIB Key | 层次类型 | 层次 | 编号 |\n",
    "|--------|---------|--------|------|----------|--------|------|------|\n",
    "| 地表晴空向上长波辐射 | - | - | gulwc | (0, 5, 224) | surface | - | 13 |"
   ]
  },
  {
   "cell_type": "code",
   "execution_count": 27,
   "id": "0b3fbb60",
   "metadata": {},
   "outputs": [],
   "source": [
    "field = load_field_from_file(\n",
    "    gfs_grib2_orig_file_path,\n",
    "    parameter=\"gulwc\",\n",
    "    level_type=\"surface\",\n",
    "    stepType=\"accum\",\n",
    ")\n",
    "assert field.attrs[\"GRIB_count\"] == 13"
   ]
  },
  {
   "cell_type": "code",
   "execution_count": 28,
   "id": "285a2b43",
   "metadata": {},
   "outputs": [],
   "source": [
    "field = load_field_from_file(\n",
    "    gfs_grib2_orig_file_path,\n",
    "    parameter={\n",
    "        \"discipline\": 0,\n",
    "        \"parameterCategory\": 5,\n",
    "        \"parameterNumber\": 224,\n",
    "    },\n",
    "    level_type=\"surface\",\n",
    "    stepType=\"accum\",\n",
    ")\n",
    "assert field.attrs[\"GRIB_count\"] == 13"
   ]
  },
  {
   "cell_type": "markdown",
   "id": "8137a8b6",
   "metadata": {},
   "source": [
    "### 大气顶晴空向上长波辐射\n",
    "\n",
    "| 要素名 | wgrib2 | eccodes | cemc | GRIB Key | 层次类型 | 层次 | 编号 |\n",
    "|--------|---------|--------|------|----------|--------|------|-------|\n",
    "| 大气顶晴空向上长波辐射 | - | - | tulwc | (0, 5, 224) | nominalTop | - | 14 |"
   ]
  },
  {
   "cell_type": "code",
   "execution_count": 29,
   "id": "efd3611f",
   "metadata": {},
   "outputs": [],
   "source": [
    "field = load_field_from_file(\n",
    "    gfs_grib2_orig_file_path,\n",
    "    parameter=\"tulwc\",\n",
    "    level_type=\"nominalTop\",\n",
    "    stepType=\"accum\",\n",
    ")\n",
    "assert field.attrs[\"GRIB_count\"] == 14"
   ]
  },
  {
   "cell_type": "code",
   "execution_count": 30,
   "id": "fc42609c",
   "metadata": {},
   "outputs": [],
   "source": [
    "field = load_field_from_file(\n",
    "    gfs_grib2_orig_file_path,\n",
    "    parameter={\n",
    "        \"discipline\": 0,\n",
    "        \"parameterCategory\": 5,\n",
    "        \"parameterNumber\": 224,\n",
    "    },\n",
    "    level_type=\"nominalTop\",\n",
    "    stepType=\"accum\",\n",
    ")\n",
    "assert field.attrs[\"GRIB_count\"] == 14"
   ]
  },
  {
   "cell_type": "markdown",
   "id": "210c98fe",
   "metadata": {},
   "source": [
    "### 地表向上短波辐射\n",
    "\n",
    "| 要素名 | wgrib2 | eccodes | cemc | GRIB Key | 层次类型 | 层次 | 编号 |\n",
    "|--------|---------|--------|------|----------|--------|------|------|\n",
    "| 地表向上短波辐射 | USWRF | suswrf | gusw | (0, 4, 8) | surface | - | 15 |"
   ]
  },
  {
   "cell_type": "code",
   "execution_count": 31,
   "id": "ffda84ef",
   "metadata": {},
   "outputs": [],
   "source": [
    "field = load_field_from_file(\n",
    "    gfs_grib2_orig_file_path,\n",
    "    parameter=\"USWRF\",\n",
    "    level_type=\"surface\",\n",
    "    stepType=\"accum\",\n",
    ")\n",
    "assert field.attrs[\"GRIB_count\"] == 15"
   ]
  },
  {
   "cell_type": "code",
   "execution_count": 32,
   "id": "48757548",
   "metadata": {},
   "outputs": [],
   "source": [
    "field = load_field_from_file(\n",
    "    gfs_grib2_orig_file_path,\n",
    "    parameter=\"suswrf\",\n",
    "    level_type=\"surface\",\n",
    ")\n",
    "assert field.attrs[\"GRIB_count\"] == 15"
   ]
  },
  {
   "cell_type": "code",
   "execution_count": 33,
   "id": "a277fb9e",
   "metadata": {},
   "outputs": [],
   "source": [
    "field = load_field_from_file(\n",
    "    gfs_grib2_orig_file_path,\n",
    "    parameter=\"gusw\",\n",
    "    level_type=\"surface\",\n",
    ")\n",
    "assert field.attrs[\"GRIB_count\"] == 15"
   ]
  },
  {
   "cell_type": "code",
   "execution_count": 34,
   "id": "00e3aed8",
   "metadata": {},
   "outputs": [],
   "source": [
    "field = load_field_from_file(\n",
    "    gfs_grib2_orig_file_path,\n",
    "    parameter={\n",
    "        \"discipline\": 0,\n",
    "        \"parameterCategory\": 4,\n",
    "        \"parameterNumber\": 8,\n",
    "    },\n",
    "    level_type=\"surface\",\n",
    ")\n",
    "assert field.attrs[\"GRIB_count\"] == 15"
   ]
  },
  {
   "cell_type": "markdown",
   "id": "605c28a3",
   "metadata": {},
   "source": [
    "### 大气顶净短波辐射\n",
    "\n",
    "| 要素名 | wgrib2 | eccodes | cemc | GRIB Key | 层次类型 | 层次 | 编号 |\n",
    "|--------|---------|--------|------|----------|--------|-------|------|\n",
    "| 大气顶净短波辐射 | NSWRF | tsr | tsw | (0, 4, 9) | nominalTop | - | 16 |"
   ]
  },
  {
   "cell_type": "code",
   "execution_count": 35,
   "id": "f3646e75",
   "metadata": {},
   "outputs": [],
   "source": [
    "field = load_field_from_file(\n",
    "    gfs_grib2_orig_file_path,\n",
    "    parameter=\"NSWRF\",\n",
    "    level_type=\"nominalTop\",\n",
    "    stepType=\"accum\",\n",
    ")\n",
    "assert field.attrs[\"GRIB_count\"] == 16"
   ]
  },
  {
   "cell_type": "code",
   "execution_count": 36,
   "id": "371b91a5",
   "metadata": {},
   "outputs": [],
   "source": [
    "field = load_field_from_file(\n",
    "    gfs_grib2_orig_file_path,\n",
    "    parameter=\"tsr\",\n",
    "    level_type=\"nominalTop\",\n",
    "    stepType=\"accum\",\n",
    ")\n",
    "assert field.attrs[\"GRIB_count\"] == 16"
   ]
  },
  {
   "cell_type": "code",
   "execution_count": 37,
   "id": "3a35a61e",
   "metadata": {},
   "outputs": [],
   "source": [
    "field = load_field_from_file(\n",
    "    gfs_grib2_orig_file_path,\n",
    "    parameter=\"tsw\",\n",
    ")\n",
    "assert field.attrs[\"GRIB_count\"] == 16"
   ]
  },
  {
   "cell_type": "code",
   "execution_count": 38,
   "id": "23640a85",
   "metadata": {},
   "outputs": [],
   "source": [
    "field = load_field_from_file(\n",
    "    gfs_grib2_orig_file_path,\n",
    "    parameter={\n",
    "        \"discipline\": 0,\n",
    "        \"parameterCategory\": 4,\n",
    "        \"parameterNumber\": 9,\n",
    "    },\n",
    "    level_type=\"nominalTop\",\n",
    "    stepType=\"accum\",\n",
    ")\n",
    "assert field.attrs[\"GRIB_count\"] == 16"
   ]
  },
  {
   "cell_type": "markdown",
   "id": "7ed3f0ce",
   "metadata": {},
   "source": [
    "### 大气顶向上短波辐射\n",
    "\n",
    "| 要素名 | wgrib2 | eccodes | cemc | GRIB Key | 层次类型 | 层次 | 编号 |\n",
    "|--------|---------|--------|------|----------|--------|------|------|\n",
    "| 大气顶向上短波辐射 | USWRF | - | tusw | (0, 4, 8) | nominalTop | - | 17 |"
   ]
  },
  {
   "cell_type": "code",
   "execution_count": 39,
   "id": "dba224da",
   "metadata": {},
   "outputs": [],
   "source": [
    "field = load_field_from_file(\n",
    "    gfs_grib2_orig_file_path,\n",
    "    parameter=\"USWRF\",\n",
    "    level_type=\"nominalTop\",\n",
    "    stepType=\"accum\",\n",
    ")\n",
    "assert field.attrs[\"GRIB_count\"] == 17"
   ]
  },
  {
   "cell_type": "code",
   "execution_count": 40,
   "id": "ddcc006f",
   "metadata": {},
   "outputs": [],
   "source": [
    "field = load_field_from_file(\n",
    "    gfs_grib2_orig_file_path,\n",
    "    parameter=\"tusw\",\n",
    "    # stepType=\"accum\",\n",
    ")\n",
    "assert field.attrs[\"GRIB_count\"] == 17"
   ]
  },
  {
   "cell_type": "code",
   "execution_count": 41,
   "id": "19758325",
   "metadata": {},
   "outputs": [],
   "source": [
    "field = load_field_from_file(\n",
    "    gfs_grib2_orig_file_path,\n",
    "    parameter={\n",
    "        \"discipline\": 0,\n",
    "        \"parameterCategory\": 4,\n",
    "        \"parameterNumber\": 8,\n",
    "    },\n",
    "    level_type=\"nominalTop\",\n",
    "    stepType=\"accum\",\n",
    ")\n",
    "assert field.attrs[\"GRIB_count\"] == 17"
   ]
  },
  {
   "cell_type": "markdown",
   "id": "d8a2a622",
   "metadata": {},
   "source": [
    "### 地表晴空净短波辐射\n",
    "\n",
    "| 要素名 | wgrib2 | eccodes | cemc | GRIB Key | 层次类型 | 层次 | 编号 |\n",
    "|--------|---------|--------|------|----------|--------|------|-------|\n",
    "| 地表晴空净短波辐射 | NSWRFCS | ssrc | gswc | (0, 4, 11) | surface | - | 18 |"
   ]
  },
  {
   "cell_type": "code",
   "execution_count": 42,
   "id": "ddd55be4",
   "metadata": {},
   "outputs": [],
   "source": [
    "field = load_field_from_file(\n",
    "    gfs_grib2_orig_file_path,\n",
    "    parameter=\"NSWRFCS\",\n",
    "    level_type=\"sfc\",\n",
    "    stepType=\"accum\",\n",
    ")\n",
    "assert field.attrs[\"GRIB_count\"] == 18"
   ]
  },
  {
   "cell_type": "code",
   "execution_count": 43,
   "id": "1627fe90",
   "metadata": {},
   "outputs": [],
   "source": [
    "field = load_field_from_file(\n",
    "    gfs_grib2_orig_file_path,\n",
    "    parameter=\"ssrc\",\n",
    ")\n",
    "assert field.attrs[\"GRIB_count\"] == 18"
   ]
  },
  {
   "cell_type": "code",
   "execution_count": 44,
   "id": "663f319b",
   "metadata": {},
   "outputs": [],
   "source": [
    "field = load_field_from_file(\n",
    "    gfs_grib2_orig_file_path,\n",
    "    parameter=\"gswc\",\n",
    ")\n",
    "assert field.attrs[\"GRIB_count\"] == 18"
   ]
  },
  {
   "cell_type": "code",
   "execution_count": 45,
   "id": "7a677af3",
   "metadata": {},
   "outputs": [],
   "source": [
    "field = load_field_from_file(\n",
    "    gfs_grib2_orig_file_path,\n",
    "    parameter={\n",
    "        \"discipline\": 0,\n",
    "        \"parameterCategory\": 4,\n",
    "        \"parameterNumber\": 11,\n",
    "    },\n",
    "    level_type=\"sfc\",\n",
    "    stepType=\"accum\",\n",
    ")\n",
    "assert field.attrs[\"GRIB_count\"] == 18"
   ]
  },
  {
   "cell_type": "markdown",
   "id": "904bbb8f",
   "metadata": {},
   "source": [
    "### 地表晴空向上短波辐射\n",
    "\n",
    "| 要素名 | wgrib2 | eccodes | cemc | GRIB Key | 层次类型 | 层次 | 编号 |\n",
    "|--------|---------|--------|------|----------|--------|------|------|\n",
    "| 地表晴空向上短波辐射 | USWRFCS | auswrf_cs | guswc | (0, 4, 53) | surface | - | 19 |"
   ]
  },
  {
   "cell_type": "code",
   "execution_count": 46,
   "id": "979b287f",
   "metadata": {},
   "outputs": [],
   "source": [
    "field = load_field_from_file(\n",
    "    gfs_grib2_orig_file_path,\n",
    "    parameter=\"USWRFCS\",\n",
    "    level_type=\"sfc\",\n",
    "    stepType=\"accum\",\n",
    ")\n",
    "assert field.attrs[\"GRIB_count\"] == 19"
   ]
  },
  {
   "cell_type": "code",
   "execution_count": 47,
   "id": "b51f8682",
   "metadata": {},
   "outputs": [],
   "source": [
    "field = load_field_from_file(\n",
    "    gfs_grib2_orig_file_path,\n",
    "    parameter=\"auswrf_cs\",\n",
    ")\n",
    "assert field.attrs[\"GRIB_count\"] == 19"
   ]
  },
  {
   "cell_type": "code",
   "execution_count": 48,
   "id": "61fdd504",
   "metadata": {},
   "outputs": [],
   "source": [
    "field = load_field_from_file(\n",
    "    gfs_grib2_orig_file_path,\n",
    "    parameter=\"guswc\",\n",
    ")\n",
    "assert field.attrs[\"GRIB_count\"] == 19"
   ]
  },
  {
   "cell_type": "code",
   "execution_count": 49,
   "id": "91a22475",
   "metadata": {},
   "outputs": [],
   "source": [
    "field = load_field_from_file(\n",
    "    gfs_grib2_orig_file_path,\n",
    "    parameter={\n",
    "        \"discipline\": 0,\n",
    "        \"parameterCategory\": 4,\n",
    "        \"parameterNumber\": 53,\n",
    "    },\n",
    "    level_type=\"sfc\",\n",
    "    stepType=\"accum\",\n",
    ")\n",
    "assert field.attrs[\"GRIB_count\"] == 19"
   ]
  },
  {
   "cell_type": "markdown",
   "id": "935b3a33",
   "metadata": {},
   "source": [
    "### 大气顶晴空净短波辐射\n",
    "\n",
    "| 要素名 | wgrib2 | eccodes | cemc | GRIB Key | 层次类型 | 层次 | 编号 |\n",
    "|--------|---------|--------|------|----------|--------|------|------|\n",
    "| 大气顶晴空净短波辐射 | NSWRFCS | tsrc | tswc | (0, 4, 11) | nominalTop | - | 20 |"
   ]
  },
  {
   "cell_type": "code",
   "execution_count": 50,
   "id": "ed5d41ed",
   "metadata": {},
   "outputs": [],
   "source": [
    "field = load_field_from_file(\n",
    "    gfs_grib2_orig_file_path,\n",
    "    parameter=\"NSWRFCS\",\n",
    "    level_type=\"nominalTop\",\n",
    "    stepType=\"accum\",\n",
    ")\n",
    "assert field.attrs[\"GRIB_count\"] == 20"
   ]
  },
  {
   "cell_type": "code",
   "execution_count": 51,
   "id": "9e0b555e",
   "metadata": {},
   "outputs": [],
   "source": [
    "field = load_field_from_file(\n",
    "    gfs_grib2_orig_file_path,\n",
    "    parameter=\"tsrc\",\n",
    ")\n",
    "assert field.attrs[\"GRIB_count\"] == 20"
   ]
  },
  {
   "cell_type": "code",
   "execution_count": 52,
   "id": "7c8a4ba6",
   "metadata": {},
   "outputs": [],
   "source": [
    "field = load_field_from_file(\n",
    "    gfs_grib2_orig_file_path,\n",
    "    parameter=\"tswc\",\n",
    ")\n",
    "assert field.attrs[\"GRIB_count\"] == 20"
   ]
  },
  {
   "cell_type": "code",
   "execution_count": 53,
   "id": "e55384fb",
   "metadata": {},
   "outputs": [],
   "source": [
    "field = load_field_from_file(\n",
    "    gfs_grib2_orig_file_path,\n",
    "    parameter={\n",
    "        \"discipline\": 0,\n",
    "        \"parameterCategory\": 4,\n",
    "        \"parameterNumber\": 11,\n",
    "    },\n",
    "    level_type=\"nominalTop\",\n",
    "    stepType=\"accum\",\n",
    ")\n",
    "assert field.attrs[\"GRIB_count\"] == 20"
   ]
  },
  {
   "cell_type": "markdown",
   "id": "d76c4884",
   "metadata": {},
   "source": [
    "### 大气顶晴空向上短波辐射\n",
    "\n",
    "| 要素名 | wgrib2 | eccodes | cemc | GRIB Key | 层次类型 | 层次 | 编号 |\n",
    "|--------|---------|--------|------|----------|--------|----|------|\n",
    "| 大气顶晴空向上短波辐射 | USWRFCS | - | tuswc | (0, 4, 53) | nominalTop | - | 21 |"
   ]
  },
  {
   "cell_type": "code",
   "execution_count": 54,
   "id": "121464b6",
   "metadata": {},
   "outputs": [],
   "source": [
    "field = load_field_from_file(\n",
    "    gfs_grib2_orig_file_path,\n",
    "    parameter=\"USWRFCS\",\n",
    "    level_type=\"nominalTop\",\n",
    "    stepType=\"accum\",\n",
    ")\n",
    "assert field.attrs[\"GRIB_count\"] == 21"
   ]
  },
  {
   "cell_type": "code",
   "execution_count": 55,
   "id": "32908450",
   "metadata": {},
   "outputs": [],
   "source": [
    "field = load_field_from_file(\n",
    "    gfs_grib2_orig_file_path,\n",
    "    parameter=\"tuswc\",\n",
    ")\n",
    "assert field.attrs[\"GRIB_count\"] == 21"
   ]
  },
  {
   "cell_type": "code",
   "execution_count": 56,
   "id": "14a97804",
   "metadata": {},
   "outputs": [],
   "source": [
    "field = load_field_from_file(\n",
    "    gfs_grib2_orig_file_path,\n",
    "    parameter={\n",
    "        \"discipline\": 0,\n",
    "        \"parameterCategory\": 4,\n",
    "        \"parameterNumber\": 53,\n",
    "    },\n",
    "    level_type=\"nominalTop\",\n",
    "    stepType=\"accum\",\n",
    ")\n",
    "assert field.attrs[\"GRIB_count\"] == 21"
   ]
  },
  {
   "cell_type": "code",
   "execution_count": null,
   "id": "5ecdf0b8",
   "metadata": {},
   "outputs": [],
   "source": []
  }
 ],
 "metadata": {
  "kernelspec": {
   "display_name": "py312-cedar-dev",
   "language": "python",
   "name": "python3"
  },
  "language_info": {
   "codemirror_mode": {
    "name": "ipython",
    "version": 3
   },
   "file_extension": ".py",
   "mimetype": "text/x-python",
   "name": "python",
   "nbconvert_exporter": "python",
   "pygments_lexer": "ipython3",
   "version": "3.12.11"
  }
 },
 "nbformat": 4,
 "nbformat_minor": 5
}
