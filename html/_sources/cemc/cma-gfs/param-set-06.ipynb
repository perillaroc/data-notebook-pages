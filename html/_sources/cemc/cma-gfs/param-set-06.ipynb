{
 "cells": [
  {
   "cell_type": "markdown",
   "id": "859b9457",
   "metadata": {},
   "source": [
    "# 要素清单：224-463"
   ]
  },
  {
   "cell_type": "code",
   "execution_count": 1,
   "id": "22a2dd65",
   "metadata": {},
   "outputs": [],
   "source": [
    "import numpy as np\n",
    "import pandas as pd\n",
    "import xarray as xr\n",
    "\n",
    "from reki.data_finder import find_local_file\n",
    "from reki.format.grib.eccodes import load_field_from_file"
   ]
  },
  {
   "cell_type": "code",
   "execution_count": 2,
   "id": "521f5775",
   "metadata": {},
   "outputs": [
    {
     "data": {
      "text/plain": [
       "PosixPath('/g3/COMMONDATA/OPER/CEMC/GFS_GMF/Prod-grib/2025081000/ORIG/gmf.gra.2025081000024.grb2')"
      ]
     },
     "execution_count": 2,
     "metadata": {},
     "output_type": "execute_result"
    }
   ],
   "source": [
    "start_time = pd.Timestamp.utcnow().floor(freq=\"D\") - pd.Timedelta(days=2)\n",
    "start_time_label = start_time.strftime(\"%Y%m%d%H\")\n",
    "forecast_time_label = \"24h\"\n",
    "forecast_time = pd.to_timedelta(forecast_time_label)\n",
    "\n",
    "gfs_grib2_orig_file_path = find_local_file(\n",
    "    \"cma_gfs_gmf/grib2/orig\",\n",
    "    start_time=start_time,\n",
    "    forecast_time=forecast_time,\n",
    ")\n",
    "gfs_grib2_orig_file_path"
   ]
  },
  {
   "cell_type": "markdown",
   "id": "0e062234",
   "metadata": {},
   "source": [
    "## 层次\n",
    "\n",
    "30 层列表，单位百帕 (mb)：\n",
    "\n",
    "- 1000\n",
    "- 975\n",
    "- 950\n",
    "- 925\n",
    "- 900\n",
    "- 850\n",
    "- 800\n",
    "- 750\n",
    "- 700\n",
    "- 650\n",
    "- 600\n",
    "- 550\n",
    "- 500\n",
    "- 450\n",
    "- 400\n",
    "- 350\n",
    "- 300\n",
    "- 275\n",
    "- 250\n",
    "- 225\n",
    "- 200\n",
    "- 175\n",
    "- 150\n",
    "- 125\n",
    "- 100\n",
    "- 70\n",
    "- 50\n",
    "- 30\n",
    "- 20\n",
    "- 10"
   ]
  },
  {
   "cell_type": "markdown",
   "id": "968f8602",
   "metadata": {},
   "source": [
    "## DZDT/SPFH/CLMR/RWMR/ICMR/SNMR/GRLE/CDCC"
   ]
  },
  {
   "cell_type": "markdown",
   "id": "1215f675",
   "metadata": {},
   "source": [
    "### 垂直速度\n",
    "\n",
    "| 要素名 | wgrib2 | eccodes | cemc | GRIB Key | 层次类型 | 层次 | 编号 |\n",
    "|--------|---------|--------|------|----------|--------|------|------|\n",
    "| 垂直速度 | DZDT | wz | w | (0, 2, 9) | pl | 30层 | 224-253 |\n"
   ]
  },
  {
   "cell_type": "code",
   "execution_count": 3,
   "id": "d2007290",
   "metadata": {},
   "outputs": [],
   "source": [
    "field = load_field_from_file(\n",
    "    gfs_grib2_orig_file_path,\n",
    "    parameter=\"DZDT\",\n",
    "    level_type=\"pl\",\n",
    "    level=1000,\n",
    ")\n",
    "assert field.attrs[\"GRIB_count\"] == 224"
   ]
  },
  {
   "cell_type": "code",
   "execution_count": 4,
   "id": "865d115d",
   "metadata": {},
   "outputs": [],
   "source": [
    "field = load_field_from_file(\n",
    "    gfs_grib2_orig_file_path,\n",
    "    parameter=\"wz\",\n",
    "    level_type=\"pl\",\n",
    "    level=850,\n",
    ")\n",
    "assert field.attrs[\"GRIB_count\"] == 229"
   ]
  },
  {
   "cell_type": "code",
   "execution_count": 5,
   "id": "cee3245f",
   "metadata": {},
   "outputs": [],
   "source": [
    "field = load_field_from_file(\n",
    "    gfs_grib2_orig_file_path,\n",
    "    parameter=\"w\",\n",
    "    level_type=\"pl\",\n",
    "    level=70,\n",
    ")\n",
    "assert field.attrs[\"GRIB_count\"] == 249"
   ]
  },
  {
   "cell_type": "code",
   "execution_count": 6,
   "id": "e1b93aae",
   "metadata": {},
   "outputs": [],
   "source": [
    "field = load_field_from_file(\n",
    "    gfs_grib2_orig_file_path,\n",
    "    parameter={\n",
    "        \"discipline\": 0,\n",
    "        \"parameterCategory\": 2,\n",
    "        \"parameterNumber\": 9,\n",
    "    },\n",
    "    level_type=\"pl\",\n",
    "    level=10,\n",
    ")\n",
    "assert field.attrs[\"GRIB_count\"] == 253"
   ]
  },
  {
   "cell_type": "markdown",
   "id": "3d4f1619",
   "metadata": {},
   "source": [
    "### 比湿\n",
    "\n",
    "| 要素名 | wgrib2 | eccodes | cemc | GRIB Key | 层次类型 | 层次 | 编号 |\n",
    "|--------|---------|--------|------|----------|--------|------|------|\n",
    "| 比湿 | SPFH | q | q | (0, 1, 0) | pl | 30层 | 254-283 |"
   ]
  },
  {
   "cell_type": "code",
   "execution_count": 7,
   "id": "2a2a53d4",
   "metadata": {},
   "outputs": [],
   "source": [
    "field = load_field_from_file(\n",
    "    gfs_grib2_orig_file_path,\n",
    "    parameter=\"SPFH\",\n",
    "    level_type=\"pl\",\n",
    "    level=1000,\n",
    ")\n",
    "assert field.attrs[\"GRIB_count\"] == 254"
   ]
  },
  {
   "cell_type": "code",
   "execution_count": 8,
   "id": "3498967f",
   "metadata": {},
   "outputs": [],
   "source": [
    "field = load_field_from_file(\n",
    "    gfs_grib2_orig_file_path,\n",
    "    parameter=\"q\",\n",
    "    level_type=\"pl\",\n",
    "    level=850,\n",
    ")\n",
    "assert field.attrs[\"GRIB_count\"] == 259"
   ]
  },
  {
   "cell_type": "code",
   "execution_count": 9,
   "id": "d5b2e466",
   "metadata": {},
   "outputs": [],
   "source": [
    "field = load_field_from_file(\n",
    "    gfs_grib2_orig_file_path,\n",
    "    parameter=\"q\",\n",
    "    level_type=\"pl\",\n",
    "    level=70,\n",
    ")\n",
    "assert field.attrs[\"GRIB_count\"] == 279"
   ]
  },
  {
   "cell_type": "code",
   "execution_count": 10,
   "id": "d9adc07b",
   "metadata": {},
   "outputs": [],
   "source": [
    "field = load_field_from_file(\n",
    "    gfs_grib2_orig_file_path,\n",
    "    parameter={\n",
    "        \"discipline\": 0,\n",
    "        \"parameterCategory\": 1,\n",
    "        \"parameterNumber\": 0,\n",
    "    },\n",
    "    level_type=\"pl\",\n",
    "    level=10,\n",
    ")\n",
    "assert field.attrs[\"GRIB_count\"] == 283"
   ]
  },
  {
   "cell_type": "markdown",
   "id": "9a24e3e8",
   "metadata": {},
   "source": [
    "### 云水混合比\n",
    "\n",
    "| 要素名 | wgrib2 | eccodes | cemc | GRIB Key | 层次类型 | 层次 | 编号 |\n",
    "|--------|---------|--------|------|----------|--------|------|----|\n",
    "| 云水混合比 | CLMR | clwmr | qc | (0, 1, 22) | pl | 30层 | 284-313 |\n",
    "\n",
    "注：wgrib2 建议云水混合比 (CLWMR) 使用 CLLMR"
   ]
  },
  {
   "cell_type": "code",
   "execution_count": 11,
   "id": "9753560c",
   "metadata": {},
   "outputs": [],
   "source": [
    "field = load_field_from_file(\n",
    "    gfs_grib2_orig_file_path,\n",
    "    parameter=\"CLMR\",\n",
    "    level_type=\"pl\",\n",
    "    level=1000,\n",
    ")\n",
    "assert field.attrs[\"GRIB_count\"] == 284"
   ]
  },
  {
   "cell_type": "code",
   "execution_count": 13,
   "id": "11e153c5",
   "metadata": {},
   "outputs": [],
   "source": [
    "field = load_field_from_file(\n",
    "    gfs_grib2_orig_file_path,\n",
    "    parameter=\"clwmr\",\n",
    "    level_type=\"pl\",\n",
    "    level=850,\n",
    ")\n",
    "assert field.attrs[\"GRIB_count\"] == 289"
   ]
  },
  {
   "cell_type": "code",
   "execution_count": 14,
   "id": "1a5bda0d",
   "metadata": {},
   "outputs": [],
   "source": [
    "field = load_field_from_file(\n",
    "    gfs_grib2_orig_file_path,\n",
    "    parameter=\"qc\",\n",
    "    level_type=\"pl\",\n",
    "    level=70,\n",
    ")\n",
    "assert field.attrs[\"GRIB_count\"] == 309"
   ]
  },
  {
   "cell_type": "code",
   "execution_count": 15,
   "id": "afb718f0",
   "metadata": {},
   "outputs": [],
   "source": [
    "field = load_field_from_file(\n",
    "    gfs_grib2_orig_file_path,\n",
    "    parameter={\n",
    "        \"discipline\": 0,\n",
    "        \"parameterCategory\": 1,\n",
    "        \"parameterNumber\": 22,\n",
    "    },\n",
    "    level_type=\"pl\",\n",
    "    level=10,\n",
    ")\n",
    "assert field.attrs[\"GRIB_count\"] == 313"
   ]
  },
  {
   "cell_type": "markdown",
   "id": "1571e96f",
   "metadata": {},
   "source": [
    "### 雨水混合比\n",
    "\n",
    "| 要素名 | wgrib2 | eccodes | cemc | GRIB Key | 层次类型 | 层次 | 编号 |\n",
    "|--------|---------|--------|------|----------|--------|------|-----|\n",
    "| 雨水混合比 | RWMR | rwmr | qr | (0, 1, 24) | pl | 30层 | 314-343 |"
   ]
  },
  {
   "cell_type": "code",
   "execution_count": 16,
   "id": "c3681fca",
   "metadata": {},
   "outputs": [],
   "source": [
    "field = load_field_from_file(\n",
    "    gfs_grib2_orig_file_path,\n",
    "    parameter=\"RWMR\",\n",
    "    level_type=\"pl\",\n",
    "    level=1000,\n",
    ")\n",
    "assert field.attrs[\"GRIB_count\"] == 314"
   ]
  },
  {
   "cell_type": "code",
   "execution_count": 17,
   "id": "99a32396",
   "metadata": {},
   "outputs": [],
   "source": [
    "field = load_field_from_file(\n",
    "    gfs_grib2_orig_file_path,\n",
    "    parameter=\"rwmr\",\n",
    "    level_type=\"pl\",\n",
    "    level=850,\n",
    ")\n",
    "assert field.attrs[\"GRIB_count\"] == 319"
   ]
  },
  {
   "cell_type": "code",
   "execution_count": 19,
   "id": "181de5e2",
   "metadata": {},
   "outputs": [],
   "source": [
    "field = load_field_from_file(\n",
    "    gfs_grib2_orig_file_path,\n",
    "    parameter=\"qr\",\n",
    "    level_type=\"pl\",\n",
    "    level=70,\n",
    ")\n",
    "assert field.attrs[\"GRIB_count\"] == 339"
   ]
  },
  {
   "cell_type": "code",
   "execution_count": 20,
   "id": "e0d8c160",
   "metadata": {},
   "outputs": [],
   "source": [
    "field = load_field_from_file(\n",
    "    gfs_grib2_orig_file_path,\n",
    "    parameter={\n",
    "        \"discipline\": 0,\n",
    "        \"parameterCategory\": 1,\n",
    "        \"parameterNumber\": 24,\n",
    "    },\n",
    "    level_type=\"pl\",\n",
    "    level=10,\n",
    ")\n",
    "assert field.attrs[\"GRIB_count\"] == 343"
   ]
  },
  {
   "cell_type": "markdown",
   "id": "bb7de697",
   "metadata": {},
   "source": [
    "### 冰水混合比\n",
    "\n",
    "| 要素名 | wgrib2 | eccodes | cemc | GRIB Key | 层次类型 | 层次 | 编号 |\n",
    "|--------|---------|--------|------|----------|--------|------|------|\n",
    "| 冰水混合比 | ICMR | icmr | qi | (0, 1, 23) | pl | 30层 | 344-373 |"
   ]
  },
  {
   "cell_type": "code",
   "execution_count": 21,
   "id": "fda24cf1",
   "metadata": {},
   "outputs": [],
   "source": [
    "field = load_field_from_file(\n",
    "    gfs_grib2_orig_file_path,\n",
    "    parameter=\"ICMR\",\n",
    "    level_type=\"pl\",\n",
    "    level=1000,\n",
    ")\n",
    "assert field.attrs[\"GRIB_count\"] == 344"
   ]
  },
  {
   "cell_type": "code",
   "execution_count": 22,
   "id": "3a65d116",
   "metadata": {},
   "outputs": [],
   "source": [
    "field = load_field_from_file(\n",
    "    gfs_grib2_orig_file_path,\n",
    "    parameter=\"icmr\",\n",
    "    level_type=\"pl\",\n",
    "    level=850,\n",
    ")\n",
    "assert field.attrs[\"GRIB_count\"] == 349"
   ]
  },
  {
   "cell_type": "code",
   "execution_count": 23,
   "id": "96101de6",
   "metadata": {},
   "outputs": [],
   "source": [
    "field = load_field_from_file(\n",
    "    gfs_grib2_orig_file_path,\n",
    "    parameter=\"qi\",\n",
    "    level_type=\"pl\",\n",
    "    level=70,\n",
    ")\n",
    "assert field.attrs[\"GRIB_count\"] == 369"
   ]
  },
  {
   "cell_type": "code",
   "execution_count": 24,
   "id": "2fb46b8d",
   "metadata": {},
   "outputs": [],
   "source": [
    "field = load_field_from_file(\n",
    "    gfs_grib2_orig_file_path,\n",
    "    parameter={\n",
    "        \"discipline\": 0,\n",
    "        \"parameterCategory\": 1,\n",
    "        \"parameterNumber\": 23,\n",
    "    },\n",
    "    level_type=\"pl\",\n",
    "    level=10,\n",
    ")\n",
    "assert field.attrs[\"GRIB_count\"] == 373"
   ]
  },
  {
   "cell_type": "markdown",
   "id": "56897fec",
   "metadata": {},
   "source": [
    "### 雪水混合比\n",
    "\n",
    "| 要素名 | wgrib2 | eccodes | cemc | GRIB Key | 层次类型 | 层次 | 编号 |\n",
    "|--------|---------|--------|------|----------|--------|------|------|\n",
    "| 雪水混合比 | SNMR | snmr | qs | (0, 1, 25) | pl | 30层 | 374-403 |"
   ]
  },
  {
   "cell_type": "code",
   "execution_count": 25,
   "id": "389fe24e",
   "metadata": {},
   "outputs": [],
   "source": [
    "field = load_field_from_file(\n",
    "    gfs_grib2_orig_file_path,\n",
    "    parameter=\"SNMR\",\n",
    "    level_type=\"pl\",\n",
    "    level=1000,\n",
    ")\n",
    "assert field.attrs[\"GRIB_count\"] == 374"
   ]
  },
  {
   "cell_type": "code",
   "execution_count": 26,
   "id": "80a3fe78",
   "metadata": {},
   "outputs": [],
   "source": [
    "field = load_field_from_file(\n",
    "    gfs_grib2_orig_file_path,\n",
    "    parameter=\"snmr\",\n",
    "    level_type=\"pl\",\n",
    "    level=850,\n",
    ")\n",
    "assert field.attrs[\"GRIB_count\"] == 379"
   ]
  },
  {
   "cell_type": "code",
   "execution_count": 27,
   "id": "f8db599d",
   "metadata": {},
   "outputs": [],
   "source": [
    "field = load_field_from_file(\n",
    "    gfs_grib2_orig_file_path,\n",
    "    parameter=\"qs\",\n",
    "    level_type=\"pl\",\n",
    "    level=70,\n",
    ")\n",
    "assert field.attrs[\"GRIB_count\"] == 399"
   ]
  },
  {
   "cell_type": "code",
   "execution_count": 28,
   "id": "e95eae31",
   "metadata": {},
   "outputs": [],
   "source": [
    "field = load_field_from_file(\n",
    "    gfs_grib2_orig_file_path,\n",
    "    parameter={\n",
    "        \"discipline\": 0,\n",
    "        \"parameterCategory\": 1,\n",
    "        \"parameterNumber\": 25,\n",
    "    },\n",
    "    level_type=\"pl\",\n",
    "    level=10,\n",
    ")\n",
    "assert field.attrs[\"GRIB_count\"] == 403"
   ]
  },
  {
   "cell_type": "markdown",
   "id": "05a8a3f7",
   "metadata": {},
   "source": [
    "### 霰\n",
    "\n",
    "| 要素名 | wgrib2 | eccodes | cemc | GRIB Key | 层次类型 | 层次 | 编号 |\n",
    "|--------|---------|--------|------|----------|--------|------|-----|\n",
    "| 霰 | GRLE | grle | graupel | (0, 1, 32) | pl | 30层 | 404-433 |"
   ]
  },
  {
   "cell_type": "code",
   "execution_count": 29,
   "id": "2bb06c04",
   "metadata": {},
   "outputs": [],
   "source": [
    "field = load_field_from_file(\n",
    "    gfs_grib2_orig_file_path,\n",
    "    parameter=\"GRLE\",\n",
    "    level_type=\"pl\",\n",
    "    level=1000,\n",
    ")\n",
    "assert field.attrs[\"GRIB_count\"] == 404"
   ]
  },
  {
   "cell_type": "code",
   "execution_count": 30,
   "id": "f6311794",
   "metadata": {},
   "outputs": [],
   "source": [
    "field = load_field_from_file(\n",
    "    gfs_grib2_orig_file_path,\n",
    "    parameter=\"grle\",\n",
    "    level_type=\"pl\",\n",
    "    level=850,\n",
    ")\n",
    "assert field.attrs[\"GRIB_count\"] == 409"
   ]
  },
  {
   "cell_type": "code",
   "execution_count": 31,
   "id": "a6c0811a",
   "metadata": {},
   "outputs": [],
   "source": [
    "field = load_field_from_file(\n",
    "    gfs_grib2_orig_file_path,\n",
    "    parameter=\"graupel\",\n",
    "    level_type=\"pl\",\n",
    "    level=70,\n",
    ")\n",
    "assert field.attrs[\"GRIB_count\"] == 429"
   ]
  },
  {
   "cell_type": "code",
   "execution_count": 32,
   "id": "f1a72bf5",
   "metadata": {},
   "outputs": [],
   "source": [
    "field = load_field_from_file(\n",
    "    gfs_grib2_orig_file_path,\n",
    "    parameter={\n",
    "        \"discipline\": 0,\n",
    "        \"parameterCategory\": 1,\n",
    "        \"parameterNumber\": 32,\n",
    "    },\n",
    "    level_type=\"pl\",\n",
    "    level=10,\n",
    ")\n",
    "assert field.attrs[\"GRIB_count\"] == 433"
   ]
  },
  {
   "cell_type": "markdown",
   "id": "7364e595",
   "metadata": {},
   "source": [
    "### 云量\n",
    "\n",
    "| 要素名 | wgrib2 | eccodes | cemc | GRIB Key | 层次类型 | 层次 | 编号 |\n",
    "|--------|---------|--------|------|----------|--------|------|------|\n",
    "| 云量 | CDCC | ccl | cc | (0, 6, 22) | pl | 30层 | 434-463 |"
   ]
  },
  {
   "cell_type": "code",
   "execution_count": 33,
   "id": "533ca19e",
   "metadata": {},
   "outputs": [],
   "source": [
    "field = load_field_from_file(\n",
    "    gfs_grib2_orig_file_path,\n",
    "    parameter=\"CDCC\",\n",
    "    level_type=\"pl\",\n",
    "    level=1000,\n",
    ")\n",
    "assert field.attrs[\"GRIB_count\"] == 434"
   ]
  },
  {
   "cell_type": "code",
   "execution_count": 34,
   "id": "b176700a",
   "metadata": {},
   "outputs": [],
   "source": [
    "field = load_field_from_file(\n",
    "    gfs_grib2_orig_file_path,\n",
    "    parameter=\"ccl\",\n",
    "    level_type=\"pl\",\n",
    "    level=850,\n",
    ")\n",
    "assert field.attrs[\"GRIB_count\"] == 439"
   ]
  },
  {
   "cell_type": "code",
   "execution_count": 35,
   "id": "b80d46bc",
   "metadata": {},
   "outputs": [],
   "source": [
    "field = load_field_from_file(\n",
    "    gfs_grib2_orig_file_path,\n",
    "    parameter=\"cc\",\n",
    "    level_type=\"pl\",\n",
    "    level=70,\n",
    ")\n",
    "assert field.attrs[\"GRIB_count\"] == 459"
   ]
  },
  {
   "cell_type": "code",
   "execution_count": 36,
   "id": "0e002143",
   "metadata": {},
   "outputs": [],
   "source": [
    "field = load_field_from_file(\n",
    "    gfs_grib2_orig_file_path,\n",
    "    parameter={\n",
    "        \"discipline\": 0,\n",
    "        \"parameterCategory\": 6,\n",
    "        \"parameterNumber\": 22,\n",
    "    },\n",
    "    level_type=\"pl\",\n",
    "    level=10,\n",
    ")\n",
    "assert field.attrs[\"GRIB_count\"] == 463"
   ]
  }
 ],
 "metadata": {
  "kernelspec": {
   "display_name": "py312-cedar-dev",
   "language": "python",
   "name": "python3"
  },
  "language_info": {
   "codemirror_mode": {
    "name": "ipython",
    "version": 3
   },
   "file_extension": ".py",
   "mimetype": "text/x-python",
   "name": "python",
   "nbconvert_exporter": "python",
   "pygments_lexer": "ipython3",
   "version": "3.12.11"
  }
 },
 "nbformat": 4,
 "nbformat_minor": 5
}
