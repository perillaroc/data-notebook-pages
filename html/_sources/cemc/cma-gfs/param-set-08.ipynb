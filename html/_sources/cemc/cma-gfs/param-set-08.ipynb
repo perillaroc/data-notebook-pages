{
 "cells": [
  {
   "cell_type": "markdown",
   "id": "d0999b22",
   "metadata": {},
   "source": [
    "# 要素清单：472-773"
   ]
  },
  {
   "cell_type": "code",
   "execution_count": 1,
   "id": "fa350e26",
   "metadata": {},
   "outputs": [],
   "source": [
    "import numpy as np\n",
    "import pandas as pd\n",
    "import xarray as xr\n",
    "\n",
    "from reki.data_finder import find_local_file\n",
    "from reki.format.grib.eccodes import load_field_from_file"
   ]
  },
  {
   "cell_type": "code",
   "execution_count": 2,
   "id": "551d36d6",
   "metadata": {},
   "outputs": [
    {
     "data": {
      "text/plain": [
       "PosixPath('/g3/COMMONDATA/OPER/CEMC/GFS_GMF/Prod-grib/2025081000/ORIG/gmf.gra.2025081000024.grb2')"
      ]
     },
     "execution_count": 2,
     "metadata": {},
     "output_type": "execute_result"
    }
   ],
   "source": [
    "start_time = pd.Timestamp.utcnow().floor(freq=\"D\") - pd.Timedelta(days=2)\n",
    "start_time_label = start_time.strftime(\"%Y%m%d%H\")\n",
    "forecast_time_label = \"24h\"\n",
    "forecast_time = pd.to_timedelta(forecast_time_label)\n",
    "\n",
    "gfs_grib2_orig_file_path = find_local_file(\n",
    "    \"cma_gfs_gmf/grib2/orig\",\n",
    "    start_time=start_time,\n",
    "    forecast_time=forecast_time,\n",
    ")\n",
    "gfs_grib2_orig_file_path"
   ]
  },
  {
   "cell_type": "markdown",
   "id": "999565c5",
   "metadata": {},
   "source": [
    "## 层次\n",
    "\n",
    "30 层列表，单位百帕 (mb)：\n",
    "\n",
    "- 1000\n",
    "- 975\n",
    "- 950\n",
    "- 925\n",
    "- 900\n",
    "- 850\n",
    "- 800\n",
    "- 750\n",
    "- 700\n",
    "- 650\n",
    "- 600\n",
    "- 550\n",
    "- 500\n",
    "- 450\n",
    "- 400\n",
    "- 350\n",
    "- 300\n",
    "- 275\n",
    "- 250\n",
    "- 225\n",
    "- 200\n",
    "- 175\n",
    "- 150\n",
    "- 125\n",
    "- 100\n",
    "- 70\n",
    "- 50\n",
    "- 30\n",
    "- 20\n",
    "- 10"
   ]
  },
  {
   "cell_type": "markdown",
   "id": "f4f75e26",
   "metadata": {},
   "source": [
    "## 相对湿度\n",
    "\n",
    "| 要素名 | wgrib2 | eccodes | cemc | GRIB Key | 层次类型 | 层次 | 编号 |\n",
    "|--------|---------|--------|------|----------|--------|------|-----|\n",
    "| 相对湿度 | RH | r | rh | (0, 1, 1) | pl | 30层 | 472-501 |"
   ]
  },
  {
   "cell_type": "code",
   "execution_count": 3,
   "id": "cd903fb8",
   "metadata": {},
   "outputs": [],
   "source": [
    "field = load_field_from_file(\n",
    "    gfs_grib2_orig_file_path,\n",
    "    parameter=\"RH\",\n",
    "    level_type=\"pl\",\n",
    "    level=1000,\n",
    ")\n",
    "assert field.attrs[\"GRIB_count\"] == 472"
   ]
  },
  {
   "cell_type": "code",
   "execution_count": 4,
   "id": "b54de425",
   "metadata": {},
   "outputs": [],
   "source": [
    "field = load_field_from_file(\n",
    "    gfs_grib2_orig_file_path,\n",
    "    parameter=\"r\",\n",
    "    level_type=\"pl\",\n",
    "    level=850,\n",
    ")\n",
    "assert field.attrs[\"GRIB_count\"] == 477"
   ]
  },
  {
   "cell_type": "code",
   "execution_count": 5,
   "id": "d033f89d",
   "metadata": {},
   "outputs": [],
   "source": [
    "field = load_field_from_file(\n",
    "    gfs_grib2_orig_file_path,\n",
    "    parameter=\"rh\",\n",
    "    level_type=\"pl\",\n",
    "    level=70,\n",
    ")\n",
    "assert field.attrs[\"GRIB_count\"] == 497"
   ]
  },
  {
   "cell_type": "code",
   "execution_count": 6,
   "id": "d01c227f",
   "metadata": {},
   "outputs": [],
   "source": [
    "field = load_field_from_file(\n",
    "    gfs_grib2_orig_file_path,\n",
    "    parameter={\n",
    "        \"discipline\": 0,\n",
    "        \"parameterCategory\": 1,\n",
    "        \"parameterNumber\": 1,\n",
    "    },\n",
    "    level_type=\"pl\",\n",
    "    level=10,\n",
    ")\n",
    "assert field.attrs[\"GRIB_count\"] == 501"
   ]
  },
  {
   "cell_type": "markdown",
   "id": "fd110e29",
   "metadata": {},
   "source": [
    "## RH/DPT"
   ]
  },
  {
   "cell_type": "markdown",
   "id": "5dd71c04",
   "metadata": {},
   "source": [
    "### 2米相对湿度\n",
    "\n",
    "| 要素名 | wgrib2 | eccodes | cemc | GRIB Key | 层次类型 | 层次 | 编号 |\n",
    "|--------|---------|--------|------|----------|--------|------|----|\n",
    "| 2米相对湿度 | RH | 2r | rh2m | (0, 1, 1) | heightAboveGround | 2 | 502 |"
   ]
  },
  {
   "cell_type": "code",
   "execution_count": 7,
   "id": "e983d2ea",
   "metadata": {},
   "outputs": [],
   "source": [
    "field = load_field_from_file(\n",
    "    gfs_grib2_orig_file_path,\n",
    "    parameter=\"RH\",\n",
    "    level_type=\"heightAboveGround\",\n",
    "    level=2,\n",
    ")\n",
    "assert field.attrs[\"GRIB_count\"] == 502"
   ]
  },
  {
   "cell_type": "code",
   "execution_count": 8,
   "id": "fd038900",
   "metadata": {},
   "outputs": [],
   "source": [
    "field = load_field_from_file(\n",
    "    gfs_grib2_orig_file_path,\n",
    "    parameter=\"2r\",\n",
    ")\n",
    "assert field.attrs[\"GRIB_count\"] == 502"
   ]
  },
  {
   "cell_type": "code",
   "execution_count": 9,
   "id": "0cb3ebef",
   "metadata": {},
   "outputs": [],
   "source": [
    "field = load_field_from_file(\n",
    "    gfs_grib2_orig_file_path,\n",
    "    parameter=\"rh2m\",\n",
    ")\n",
    "assert field.attrs[\"GRIB_count\"] == 502"
   ]
  },
  {
   "cell_type": "code",
   "execution_count": 13,
   "id": "e6e43bda",
   "metadata": {},
   "outputs": [],
   "source": [
    "field = load_field_from_file(\n",
    "    gfs_grib2_orig_file_path,\n",
    "    parameter={\n",
    "        \"discipline\": 0,\n",
    "        \"parameterCategory\": 1,\n",
    "        \"parameterNumber\": 1,\n",
    "    },\n",
    "    level_type=\"heightAboveGround\",\n",
    "    level=2,\n",
    ")\n",
    "assert field.attrs[\"GRIB_count\"] == 502"
   ]
  },
  {
   "cell_type": "markdown",
   "id": "ed03021d",
   "metadata": {},
   "source": [
    "### 2米露点温度\n",
    "\n",
    "| 要素名 | wgrib2 | eccodes | cemc | GRIB Key | 层次类型 | 层次 | 编号 |\n",
    "|--------|---------|--------|------|----------|--------|------|------|\n",
    "| 2米露点温度 | DPT | 2d | td2m | (0, 0, 6) | heightAboveGround | 2 | 503 |"
   ]
  },
  {
   "cell_type": "code",
   "execution_count": 10,
   "id": "70022b0a",
   "metadata": {},
   "outputs": [],
   "source": [
    "field = load_field_from_file(\n",
    "    gfs_grib2_orig_file_path,\n",
    "    parameter=\"DPT\",\n",
    "    level_type=\"heightAboveGround\",\n",
    "    level=2,\n",
    ")\n",
    "assert field.attrs[\"GRIB_count\"] == 503"
   ]
  },
  {
   "cell_type": "code",
   "execution_count": 11,
   "id": "984b0977",
   "metadata": {},
   "outputs": [],
   "source": [
    "field = load_field_from_file(\n",
    "    gfs_grib2_orig_file_path,\n",
    "    parameter=\"2d\",\n",
    ")\n",
    "assert field.attrs[\"GRIB_count\"] == 503"
   ]
  },
  {
   "cell_type": "code",
   "execution_count": 12,
   "id": "338b2547",
   "metadata": {},
   "outputs": [],
   "source": [
    "field = load_field_from_file(\n",
    "    gfs_grib2_orig_file_path,\n",
    "    parameter=\"td2m\",\n",
    ")\n",
    "assert field.attrs[\"GRIB_count\"] == 503"
   ]
  },
  {
   "cell_type": "code",
   "execution_count": null,
   "id": "ddaa3662",
   "metadata": {},
   "outputs": [],
   "source": [
    "field = load_field_from_file(\n",
    "    gfs_grib2_orig_file_path,\n",
    "    parameter={\n",
    "        \"discipline\": 0,\n",
    "        \"parameterCategory\": 0,\n",
    "        \"parameterNumber\": 6,\n",
    "    },\n",
    "    level_type=\"heightAboveGround\",\n",
    "    level=2,\n",
    ")\n",
    "assert field.attrs[\"GRIB_count\"] == 503"
   ]
  },
  {
   "cell_type": "markdown",
   "id": "90effe9f",
   "metadata": {},
   "source": [
    "## RELD/RELV/tadv/voradv/qflx/qdiv/DPT/DEPR/EPOT"
   ]
  },
  {
   "cell_type": "markdown",
   "id": "311c77f2",
   "metadata": {},
   "source": [
    "### 散度\n",
    "\n",
    "| 要素名 | wgrib2 | eccodes | cemc | GRIB Key | 层次类型 | 层次 | 编号 |\n",
    "|--------|---------|--------|------|----------|--------|------|----|\n",
    "| 散度 | RELD | d | div | (0, 2, 13) | pl | 30层 | 504-533 |"
   ]
  },
  {
   "cell_type": "code",
   "execution_count": 14,
   "id": "48ebe4c8",
   "metadata": {},
   "outputs": [],
   "source": [
    "field = load_field_from_file(\n",
    "    gfs_grib2_orig_file_path,\n",
    "    parameter=\"RELD\",\n",
    "    level_type=\"pl\",\n",
    "    level=1000,\n",
    ")\n",
    "assert field.attrs[\"GRIB_count\"] == 504"
   ]
  },
  {
   "cell_type": "code",
   "execution_count": 15,
   "id": "4e7cbaab",
   "metadata": {},
   "outputs": [],
   "source": [
    "field = load_field_from_file(\n",
    "    gfs_grib2_orig_file_path,\n",
    "    parameter=\"d\",\n",
    "    level_type=\"pl\",\n",
    "    level=850,\n",
    ")\n",
    "assert field.attrs[\"GRIB_count\"] == 509"
   ]
  },
  {
   "cell_type": "code",
   "execution_count": 16,
   "id": "0e608862",
   "metadata": {},
   "outputs": [],
   "source": [
    "field = load_field_from_file(\n",
    "    gfs_grib2_orig_file_path,\n",
    "    parameter=\"div\",\n",
    "    level_type=\"pl\",\n",
    "    level=70,\n",
    ")\n",
    "assert field.attrs[\"GRIB_count\"] == 529"
   ]
  },
  {
   "cell_type": "code",
   "execution_count": 18,
   "id": "1ba5f385",
   "metadata": {},
   "outputs": [],
   "source": [
    "field = load_field_from_file(\n",
    "    gfs_grib2_orig_file_path,\n",
    "    parameter={\n",
    "        \"discipline\": 0,\n",
    "        \"parameterCategory\": 2,\n",
    "        \"parameterNumber\": 13,\n",
    "    },\n",
    "    level_type=\"pl\",\n",
    "    level=10,\n",
    ")\n",
    "assert field.attrs[\"GRIB_count\"] == 533"
   ]
  },
  {
   "cell_type": "markdown",
   "id": "d9e1fb9a",
   "metadata": {},
   "source": [
    "### 涡度\n",
    "\n",
    "| 要素名 | wgrib2 | eccodes | cemc | GRIB Key | 层次类型 | 层次 | 编号 |\n",
    "|--------|---------|--------|------|----------|--------|------|------|\n",
    "| 涡度 | RELV | vo | vor | (0, 2, 12) | pl | 30层 | 534-563 |"
   ]
  },
  {
   "cell_type": "code",
   "execution_count": 19,
   "id": "0b08bc97",
   "metadata": {},
   "outputs": [],
   "source": [
    "field = load_field_from_file(\n",
    "    gfs_grib2_orig_file_path,\n",
    "    parameter=\"RELV\",\n",
    "    level_type=\"pl\",\n",
    "    level=1000,\n",
    ")\n",
    "assert field.attrs[\"GRIB_count\"] == 534"
   ]
  },
  {
   "cell_type": "code",
   "execution_count": 21,
   "id": "24eead41",
   "metadata": {},
   "outputs": [],
   "source": [
    "field = load_field_from_file(\n",
    "    gfs_grib2_orig_file_path,\n",
    "    parameter=\"vo\",\n",
    "    level_type=\"pl\",\n",
    "    level=850,\n",
    ")\n",
    "assert field.attrs[\"GRIB_count\"] == 539"
   ]
  },
  {
   "cell_type": "code",
   "execution_count": 22,
   "id": "63e4cbe3",
   "metadata": {},
   "outputs": [],
   "source": [
    "field = load_field_from_file(\n",
    "    gfs_grib2_orig_file_path,\n",
    "    parameter=\"vor\",\n",
    "    level_type=\"pl\",\n",
    "    level=70,\n",
    ")\n",
    "assert field.attrs[\"GRIB_count\"] == 559"
   ]
  },
  {
   "cell_type": "code",
   "execution_count": 23,
   "id": "6b39cbc1",
   "metadata": {},
   "outputs": [],
   "source": [
    "field = load_field_from_file(\n",
    "    gfs_grib2_orig_file_path,\n",
    "    parameter={\n",
    "        \"discipline\": 0,\n",
    "        \"parameterCategory\": 2,\n",
    "        \"parameterNumber\": 12,\n",
    "    },\n",
    "    level_type=\"pl\",\n",
    "    level=10,\n",
    ")\n",
    "assert field.attrs[\"GRIB_count\"] == 563"
   ]
  },
  {
   "cell_type": "markdown",
   "id": "7e42d760",
   "metadata": {},
   "source": [
    "### 温度平流\n",
    "\n",
    "| 要素名 | wgrib2 | eccodes | cemc | GRIB Key | 层次类型 | 层次 | 编号 |\n",
    "|--------|---------|--------|------|----------|--------|------|------|\n",
    "| 温度平流 | - | - | tadv | (0, 0, 224) | pl | 30层 | 564-593 |"
   ]
  },
  {
   "cell_type": "code",
   "execution_count": 24,
   "id": "522a0502",
   "metadata": {},
   "outputs": [],
   "source": [
    "field = load_field_from_file(\n",
    "    gfs_grib2_orig_file_path,\n",
    "    parameter=\"tadv\",\n",
    "    level_type=\"pl\",\n",
    "    level=1000,\n",
    ")\n",
    "assert field.attrs[\"GRIB_count\"] == 564"
   ]
  },
  {
   "cell_type": "code",
   "execution_count": 25,
   "id": "8040a2e7",
   "metadata": {},
   "outputs": [],
   "source": [
    "field = load_field_from_file(\n",
    "    gfs_grib2_orig_file_path,\n",
    "    parameter=\"tadv\",\n",
    "    level_type=\"pl\",\n",
    "    level=850,\n",
    ")\n",
    "assert field.attrs[\"GRIB_count\"] == 569"
   ]
  },
  {
   "cell_type": "code",
   "execution_count": 26,
   "id": "41d1428f",
   "metadata": {},
   "outputs": [],
   "source": [
    "field = load_field_from_file(\n",
    "    gfs_grib2_orig_file_path,\n",
    "    parameter=\"tadv\",\n",
    "    level_type=\"pl\",\n",
    "    level=70,\n",
    ")\n",
    "assert field.attrs[\"GRIB_count\"] == 589"
   ]
  },
  {
   "cell_type": "code",
   "execution_count": 27,
   "id": "f8ef1676",
   "metadata": {},
   "outputs": [],
   "source": [
    "field = load_field_from_file(\n",
    "    gfs_grib2_orig_file_path,\n",
    "    parameter={\n",
    "        \"discipline\": 0,\n",
    "        \"parameterCategory\": 0,\n",
    "        \"parameterNumber\": 224,\n",
    "    },\n",
    "    level_type=\"pl\",\n",
    "    level=10,\n",
    ")\n",
    "assert field.attrs[\"GRIB_count\"] == 593"
   ]
  },
  {
   "cell_type": "markdown",
   "id": "74ded51d",
   "metadata": {},
   "source": [
    "### 涡度平流\n",
    "\n",
    "| 要素名 | wgrib2 | eccodes | cemc | GRIB Key | 层次类型 | 层次 | 编号 |\n",
    "|--------|---------|--------|------|----------|--------|------|------|\n",
    "| 涡度平流 | - | - | voradv | (0, 2, 224) | pl | 30层 | 594-623 |"
   ]
  },
  {
   "cell_type": "code",
   "execution_count": 28,
   "id": "0d0fa39b",
   "metadata": {},
   "outputs": [],
   "source": [
    "field = load_field_from_file(\n",
    "    gfs_grib2_orig_file_path,\n",
    "    parameter=\"voradv\",\n",
    "    level_type=\"pl\",\n",
    "    level=1000,\n",
    ")\n",
    "assert field.attrs[\"GRIB_count\"] == 594"
   ]
  },
  {
   "cell_type": "code",
   "execution_count": 31,
   "id": "b1a4bf0f",
   "metadata": {},
   "outputs": [],
   "source": [
    "field = load_field_from_file(\n",
    "    gfs_grib2_orig_file_path,\n",
    "    parameter=\"voradv\",\n",
    "    level_type=\"pl\",\n",
    "    level=850,\n",
    ")\n",
    "assert field.attrs[\"GRIB_count\"] == 599"
   ]
  },
  {
   "cell_type": "code",
   "execution_count": 32,
   "id": "6d2cfae1",
   "metadata": {},
   "outputs": [],
   "source": [
    "field = load_field_from_file(\n",
    "    gfs_grib2_orig_file_path,\n",
    "    parameter=\"voradv\",\n",
    "    level_type=\"pl\",\n",
    "    level=70,\n",
    ")\n",
    "assert field.attrs[\"GRIB_count\"] == 619"
   ]
  },
  {
   "cell_type": "code",
   "execution_count": 33,
   "id": "b75eeefe",
   "metadata": {},
   "outputs": [],
   "source": [
    "field = load_field_from_file(\n",
    "    gfs_grib2_orig_file_path,\n",
    "    parameter={\n",
    "        \"discipline\": 0,\n",
    "        \"parameterCategory\": 2,\n",
    "        \"parameterNumber\": 224,\n",
    "    },\n",
    "    level_type=\"pl\",\n",
    "    level=10,\n",
    ")\n",
    "assert field.attrs[\"GRIB_count\"] == 623"
   ]
  },
  {
   "cell_type": "markdown",
   "id": "ef884c8e",
   "metadata": {},
   "source": [
    "### 水汽通量\n",
    "\n",
    "| 要素名 | wgrib2 | eccodes | cemc | GRIB Key | 层次类型 | 层次 | 编号 |\n",
    "|--------|---------|--------|------|----------|--------|------|-------|\n",
    "| 水汽通量 | - | - | qflx | (0, 1, 224) | pl | 30层 | 624-653 |"
   ]
  },
  {
   "cell_type": "code",
   "execution_count": 34,
   "id": "1723ccc0",
   "metadata": {},
   "outputs": [],
   "source": [
    "field = load_field_from_file(\n",
    "    gfs_grib2_orig_file_path,\n",
    "    parameter=\"qflx\",\n",
    "    level_type=\"pl\",\n",
    "    level=1000,\n",
    ")\n",
    "assert field.attrs[\"GRIB_count\"] == 624"
   ]
  },
  {
   "cell_type": "code",
   "execution_count": 35,
   "id": "90c384a6",
   "metadata": {},
   "outputs": [],
   "source": [
    "field = load_field_from_file(\n",
    "    gfs_grib2_orig_file_path,\n",
    "    parameter=\"qflx\",\n",
    "    level_type=\"pl\",\n",
    "    level=850,\n",
    ")\n",
    "assert field.attrs[\"GRIB_count\"] == 629"
   ]
  },
  {
   "cell_type": "code",
   "execution_count": 36,
   "id": "108605a6",
   "metadata": {},
   "outputs": [],
   "source": [
    "field = load_field_from_file(\n",
    "    gfs_grib2_orig_file_path,\n",
    "    parameter=\"qflx\",\n",
    "    level_type=\"pl\",\n",
    "    level=70,\n",
    ")\n",
    "assert field.attrs[\"GRIB_count\"] == 649"
   ]
  },
  {
   "cell_type": "code",
   "execution_count": 37,
   "id": "8f5f5bad",
   "metadata": {},
   "outputs": [],
   "source": [
    "field = load_field_from_file(\n",
    "    gfs_grib2_orig_file_path,\n",
    "    parameter={\n",
    "        \"discipline\": 0,\n",
    "        \"parameterCategory\": 1,\n",
    "        \"parameterNumber\": 224,\n",
    "    },\n",
    "    level_type=\"pl\",\n",
    "    level=10,\n",
    ")\n",
    "assert field.attrs[\"GRIB_count\"] == 653"
   ]
  },
  {
   "cell_type": "markdown",
   "id": "af318b3e",
   "metadata": {},
   "source": [
    "### 水汽通量散度\n",
    "\n",
    "| 要素名 | wgrib2 | eccodes | cemc | GRIB Key | 层次类型 | 层次 | 编号 |\n",
    "|--------|---------|--------|------|----------|--------|------|-------|\n",
    "| 水汽通量散度 | - | - | qdiv | (0, 1, 225) | pl | 30层 | 654-683 |"
   ]
  },
  {
   "cell_type": "code",
   "execution_count": 38,
   "id": "4fb53584",
   "metadata": {},
   "outputs": [],
   "source": [
    "field = load_field_from_file(\n",
    "    gfs_grib2_orig_file_path,\n",
    "    parameter=\"qdiv\",\n",
    "    level_type=\"pl\",\n",
    "    level=1000,\n",
    ")\n",
    "assert field.attrs[\"GRIB_count\"] == 654"
   ]
  },
  {
   "cell_type": "code",
   "execution_count": 39,
   "id": "b053a72b",
   "metadata": {},
   "outputs": [],
   "source": [
    "field = load_field_from_file(\n",
    "    gfs_grib2_orig_file_path,\n",
    "    parameter=\"qdiv\",\n",
    "    level_type=\"pl\",\n",
    "    level=850,\n",
    ")\n",
    "assert field.attrs[\"GRIB_count\"] == 659"
   ]
  },
  {
   "cell_type": "code",
   "execution_count": 40,
   "id": "4aa692a9",
   "metadata": {},
   "outputs": [],
   "source": [
    "field = load_field_from_file(\n",
    "    gfs_grib2_orig_file_path,\n",
    "    parameter=\"qdiv\",\n",
    "    level_type=\"pl\",\n",
    "    level=70,\n",
    ")\n",
    "assert field.attrs[\"GRIB_count\"] == 679"
   ]
  },
  {
   "cell_type": "code",
   "execution_count": 42,
   "id": "76e8d160",
   "metadata": {},
   "outputs": [],
   "source": [
    "field = load_field_from_file(\n",
    "    gfs_grib2_orig_file_path,\n",
    "    parameter={\n",
    "        \"discipline\": 0,\n",
    "        \"parameterCategory\": 1,\n",
    "        \"parameterNumber\": 225,\n",
    "    },\n",
    "    level_type=\"pl\",\n",
    "    level=10,\n",
    ")\n",
    "assert field.attrs[\"GRIB_count\"] == 683"
   ]
  },
  {
   "cell_type": "markdown",
   "id": "433b93fa",
   "metadata": {},
   "source": [
    "### 露点温度\n",
    "\n",
    "| 要素名 | wgrib2 | eccodes | cemc | GRIB Key | 层次类型 | 层次 | 编号 |\n",
    "|--------|---------|--------|------|----------|--------|------|-------|\n",
    "| 露点温度 | DPT | dpt | td | (0, 0, 6) | pl | 30层 | 684-713 |"
   ]
  },
  {
   "cell_type": "code",
   "execution_count": 43,
   "id": "aa05c6c4",
   "metadata": {},
   "outputs": [],
   "source": [
    "field = load_field_from_file(\n",
    "    gfs_grib2_orig_file_path,\n",
    "    parameter=\"DPT\",\n",
    "    level_type=\"pl\",\n",
    "    level=1000,\n",
    ")\n",
    "assert field.attrs[\"GRIB_count\"] == 684"
   ]
  },
  {
   "cell_type": "code",
   "execution_count": 44,
   "id": "b2df8629",
   "metadata": {},
   "outputs": [],
   "source": [
    "field = load_field_from_file(\n",
    "    gfs_grib2_orig_file_path,\n",
    "    parameter=\"dpt\",\n",
    "    level_type=\"pl\",\n",
    "    level=850,\n",
    ")\n",
    "assert field.attrs[\"GRIB_count\"] == 689"
   ]
  },
  {
   "cell_type": "code",
   "execution_count": 45,
   "id": "bbb937e9",
   "metadata": {},
   "outputs": [],
   "source": [
    "field = load_field_from_file(\n",
    "    gfs_grib2_orig_file_path,\n",
    "    parameter=\"td\",\n",
    "    level_type=\"pl\",\n",
    "    level=70,\n",
    ")\n",
    "assert field.attrs[\"GRIB_count\"] == 709"
   ]
  },
  {
   "cell_type": "code",
   "execution_count": 47,
   "id": "2a085485",
   "metadata": {},
   "outputs": [],
   "source": [
    "field = load_field_from_file(\n",
    "    gfs_grib2_orig_file_path,\n",
    "    parameter={\n",
    "        \"discipline\": 0,\n",
    "        \"parameterCategory\": 0,\n",
    "        \"parameterNumber\": 6,\n",
    "    },\n",
    "    level_type=\"pl\",\n",
    "    level=10,\n",
    ")\n",
    "assert field.attrs[\"GRIB_count\"] == 713"
   ]
  },
  {
   "cell_type": "markdown",
   "id": "285dcafe",
   "metadata": {},
   "source": [
    "### 温度露点差\n",
    "\n",
    "| 要素名 | wgrib2 | eccodes | cemc | GRIB Key | 层次类型 | 层次 | 编号 |\n",
    "|--------|---------|--------|------|----------|--------|------|-------|\n",
    "| 温度露点差 | DEPR | - | ttd | (0, 0, 7) | pl | 30层 | 714-743 |"
   ]
  },
  {
   "cell_type": "code",
   "execution_count": 48,
   "id": "ba9f6a5b",
   "metadata": {},
   "outputs": [],
   "source": [
    "field = load_field_from_file(\n",
    "    gfs_grib2_orig_file_path,\n",
    "    parameter=\"DEPR\",\n",
    "    level_type=\"pl\",\n",
    "    level=1000,\n",
    ")\n",
    "assert field.attrs[\"GRIB_count\"] == 714"
   ]
  },
  {
   "cell_type": "code",
   "execution_count": 49,
   "id": "23b5bebf",
   "metadata": {},
   "outputs": [],
   "source": [
    "field = load_field_from_file(\n",
    "    gfs_grib2_orig_file_path,\n",
    "    parameter=\"DEPR\",\n",
    "    level_type=\"pl\",\n",
    "    level=850,\n",
    ")\n",
    "assert field.attrs[\"GRIB_count\"] == 719"
   ]
  },
  {
   "cell_type": "code",
   "execution_count": 50,
   "id": "0de114cc",
   "metadata": {},
   "outputs": [],
   "source": [
    "field = load_field_from_file(\n",
    "    gfs_grib2_orig_file_path,\n",
    "    parameter=\"ttd\",\n",
    "    level_type=\"pl\",\n",
    "    level=70,\n",
    ")\n",
    "assert field.attrs[\"GRIB_count\"] == 739"
   ]
  },
  {
   "cell_type": "code",
   "execution_count": 51,
   "id": "45575859",
   "metadata": {},
   "outputs": [],
   "source": [
    "field = load_field_from_file(\n",
    "    gfs_grib2_orig_file_path,\n",
    "    parameter={\n",
    "        \"discipline\": 0,\n",
    "        \"parameterCategory\": 0,\n",
    "        \"parameterNumber\": 7,\n",
    "    },\n",
    "    level_type=\"pl\",\n",
    "    level=10,\n",
    ")\n",
    "assert field.attrs[\"GRIB_count\"] == 743"
   ]
  },
  {
   "cell_type": "markdown",
   "id": "1755ce0c",
   "metadata": {},
   "source": [
    "### 假相当位温\n",
    "\n",
    "| 要素名 | wgrib2 | eccodes | cemc | GRIB Key | 层次类型 | 层次 | 编号 |\n",
    "|--------|---------|--------|------|----------|--------|------|-------|\n",
    "| 假相当位温 | EPOT | papt | thetaSe | (0, 0, 3) | pl | 30层 | 744-773 |"
   ]
  },
  {
   "cell_type": "code",
   "execution_count": 52,
   "id": "497409bd",
   "metadata": {},
   "outputs": [],
   "source": [
    "field = load_field_from_file(\n",
    "    gfs_grib2_orig_file_path,\n",
    "    parameter=\"EPOT\",\n",
    "    level_type=\"pl\",\n",
    "    level=1000,\n",
    ")\n",
    "assert field.attrs[\"GRIB_count\"] == 744"
   ]
  },
  {
   "cell_type": "code",
   "execution_count": 53,
   "id": "1d707398",
   "metadata": {},
   "outputs": [],
   "source": [
    "field = load_field_from_file(\n",
    "    gfs_grib2_orig_file_path,\n",
    "    parameter=\"papt\",\n",
    "    level_type=\"pl\",\n",
    "    level=850,\n",
    ")\n",
    "assert field.attrs[\"GRIB_count\"] == 749"
   ]
  },
  {
   "cell_type": "code",
   "execution_count": 54,
   "id": "79790432",
   "metadata": {},
   "outputs": [],
   "source": [
    "field = load_field_from_file(\n",
    "    gfs_grib2_orig_file_path,\n",
    "    parameter=\"thetaSe\",\n",
    "    level_type=\"pl\",\n",
    "    level=70,\n",
    ")\n",
    "assert field.attrs[\"GRIB_count\"] == 769"
   ]
  },
  {
   "cell_type": "code",
   "execution_count": 55,
   "id": "bac7acaf",
   "metadata": {},
   "outputs": [],
   "source": [
    "field = load_field_from_file(\n",
    "    gfs_grib2_orig_file_path,\n",
    "    parameter={\n",
    "        \"discipline\": 0,\n",
    "        \"parameterCategory\": 0,\n",
    "        \"parameterNumber\": 3,\n",
    "    },\n",
    "    level_type=\"pl\",\n",
    "    level=10,\n",
    ")\n",
    "assert field.attrs[\"GRIB_count\"] == 773"
   ]
  }
 ],
 "metadata": {
  "kernelspec": {
   "display_name": "py312-cedar-dev",
   "language": "python",
   "name": "python3"
  },
  "language_info": {
   "codemirror_mode": {
    "name": "ipython",
    "version": 3
   },
   "file_extension": ".py",
   "mimetype": "text/x-python",
   "name": "python",
   "nbconvert_exporter": "python",
   "pygments_lexer": "ipython3",
   "version": "3.12.11"
  }
 },
 "nbformat": 4,
 "nbformat_minor": 5
}
