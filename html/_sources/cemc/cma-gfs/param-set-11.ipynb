{
 "cells": [
  {
   "cell_type": "markdown",
   "id": "4751abce",
   "metadata": {},
   "source": [
    "# 要素清单：851-861"
   ]
  },
  {
   "cell_type": "code",
   "execution_count": null,
   "id": "838008f3",
   "metadata": {},
   "outputs": [],
   "source": [
    "import numpy as np\n",
    "import pandas as pd\n",
    "import xarray as xr\n",
    "\n",
    "from reki.data_finder import find_local_file\n",
    "from reki.format.grib.eccodes import load_field_from_file"
   ]
  },
  {
   "cell_type": "code",
   "execution_count": null,
   "id": "25c97a43",
   "metadata": {},
   "outputs": [
    {
     "data": {
      "text/plain": [
       "PosixPath('/g3/COMMONDATA/OPER/CEMC/GFS_GMF/Prod-grib/2025081200/ORIG/gmf.gra.2025081200024.grb2')"
      ]
     },
     "metadata": {},
     "output_type": "display_data"
    }
   ],
   "source": [
    "start_time = pd.Timestamp.utcnow().floor(freq=\"D\") - pd.Timedelta(days=2)\n",
    "start_time_label = start_time.strftime(\"%Y%m%d%H\")\n",
    "forecast_time_label = \"24h\"\n",
    "forecast_time = pd.to_timedelta(forecast_time_label)\n",
    "\n",
    "gfs_grib2_orig_file_path = find_local_file(\n",
    "    \"cma_gfs_gmf/grib2/orig\",\n",
    "    start_time=start_time,\n",
    "    forecast_time=forecast_time,\n",
    ")\n",
    "gfs_grib2_orig_file_path"
   ]
  },
  {
   "cell_type": "markdown",
   "id": "e989699e",
   "metadata": {},
   "source": [
    "## light/VIS/fogh/fogod/GUST/"
   ]
  },
  {
   "cell_type": "markdown",
   "id": "d4f40ea6",
   "metadata": {},
   "source": [
    "### 雷电概率\n",
    "\n",
    "| 要素名 | wgrib2 | eccodes | cemc | GRIB Key | 层次类型 | 层次 | 编号 |\n",
    "|--------|---------|--------|------|----------|--------|------|-------|\n",
    "| 雷电概率 | - | - | light | (0, 1, 238) | surface | - | 851 |"
   ]
  },
  {
   "cell_type": "code",
   "execution_count": null,
   "id": "d0952578",
   "metadata": {},
   "outputs": [],
   "source": [
    "field = load_field_from_file(\n",
    "    gfs_grib2_orig_file_path,\n",
    "    parameter=\"light\",\n",
    ")\n",
    "assert field.attrs[\"GRIB_count\"] == 851"
   ]
  },
  {
   "cell_type": "code",
   "execution_count": null,
   "id": "de8c2e0b",
   "metadata": {},
   "outputs": [],
   "source": [
    "field = load_field_from_file(\n",
    "    gfs_grib2_orig_file_path,\n",
    "    parameter={\n",
    "        \"discipline\": 0,\n",
    "        \"parameterCategory\": 1,\n",
    "        \"parameterNumber\": 238,\n",
    "    },\n",
    "    level_type=\"surface\",\n",
    ")\n",
    "assert field.attrs[\"GRIB_count\"] == 851"
   ]
  },
  {
   "cell_type": "markdown",
   "id": "c63dc5c4",
   "metadata": {},
   "source": [
    "### 能见度\n",
    "\n",
    "| 要素名 | wgrib2 | eccodes | cemc | GRIB Key | 层次类型 | 层次 | 编号 |\n",
    "|--------|---------|--------|------|----------|--------|------|-------|\n",
    "| 能见度 | VIS | vis | vis | (0, 19, 0) | surface | - | 852 |"
   ]
  },
  {
   "cell_type": "code",
   "execution_count": null,
   "id": "acd2d60b",
   "metadata": {},
   "outputs": [],
   "source": [
    "field = load_field_from_file(\n",
    "    gfs_grib2_orig_file_path,\n",
    "    parameter=\"VIS\",\n",
    ")\n",
    "assert field.attrs[\"GRIB_count\"] == 852"
   ]
  },
  {
   "cell_type": "code",
   "execution_count": null,
   "id": "57fa8a5f",
   "metadata": {},
   "outputs": [],
   "source": [
    "field = load_field_from_file(\n",
    "    gfs_grib2_orig_file_path,\n",
    "    parameter=\"vis\",\n",
    ")\n",
    "assert field.attrs[\"GRIB_count\"] == 852"
   ]
  },
  {
   "cell_type": "code",
   "execution_count": null,
   "id": "d17132bf",
   "metadata": {},
   "outputs": [],
   "source": [
    "field = load_field_from_file(\n",
    "    gfs_grib2_orig_file_path,\n",
    "    parameter={\n",
    "        \"discipline\": 0,\n",
    "        \"parameterCategory\": 19,\n",
    "        \"parameterNumber\": 0,\n",
    "    },\n",
    "    level_type=\"surface\",\n",
    ")\n",
    "assert field.attrs[\"GRIB_count\"] == 852"
   ]
  },
  {
   "cell_type": "markdown",
   "id": "94857b1e",
   "metadata": {},
   "source": [
    "### 雾顶高度 / 光学厚度\n",
    "\n",
    "| 要素名 | wgrib2 | eccodes | cemc | GRIB Key | 层次类型 | 层次 | 编号 |\n",
    "|--------|---------|--------|------|----------|--------|------|-------|\n",
    "| 雾顶高度 | - | - | fogh | (0, 19, 224) | surface | - | 853 |\n",
    "| 光学厚度 | - | - | fogod | (0, 19, 225) | surface | - | 854 |"
   ]
  },
  {
   "cell_type": "code",
   "execution_count": null,
   "id": "f4b84c8a",
   "metadata": {},
   "outputs": [],
   "source": [
    "field = load_field_from_file(\n",
    "    gfs_grib2_orig_file_path,\n",
    "    parameter=\"fogh\",\n",
    ")\n",
    "assert field.attrs[\"GRIB_count\"] == 853"
   ]
  },
  {
   "cell_type": "code",
   "execution_count": null,
   "id": "59fc7a53",
   "metadata": {},
   "outputs": [],
   "source": [
    "field = load_field_from_file(\n",
    "    gfs_grib2_orig_file_path,\n",
    "    parameter={\n",
    "        \"discipline\": 0,\n",
    "        \"parameterCategory\": 19,\n",
    "        \"parameterNumber\": 224,\n",
    "    },\n",
    ")\n",
    "assert field.attrs[\"GRIB_count\"] == 853"
   ]
  },
  {
   "cell_type": "code",
   "execution_count": null,
   "id": "927af45f",
   "metadata": {},
   "outputs": [],
   "source": [
    "field = load_field_from_file(\n",
    "    gfs_grib2_orig_file_path,\n",
    "    parameter=\"fogod\",\n",
    ")\n",
    "assert field.attrs[\"GRIB_count\"] == 854"
   ]
  },
  {
   "cell_type": "code",
   "execution_count": null,
   "id": "5205742a",
   "metadata": {},
   "outputs": [],
   "source": [
    "field = load_field_from_file(\n",
    "    gfs_grib2_orig_file_path,\n",
    "    parameter={\n",
    "        \"discipline\": 0,\n",
    "        \"parameterCategory\": 19,\n",
    "        \"parameterNumber\": 225,\n",
    "    },\n",
    ")\n",
    "assert field.attrs[\"GRIB_count\"] == 854"
   ]
  },
  {
   "cell_type": "markdown",
   "id": "f0ec8798",
   "metadata": {},
   "source": [
    "### 阵风风速\n",
    "\n",
    "| 要素名 | wgrib2 | eccodes | cemc | GRIB Key | 层次类型 | 层次 | 编号 |\n",
    "|--------|---------|--------|------|----------|--------|------|-------|\n",
    "| 10米阵风风速 | GUST | i10fg | gust | (0, 2, 22) | heightAboveGround | 10 | 855 |"
   ]
  },
  {
   "cell_type": "code",
   "execution_count": null,
   "id": "e8b248d5",
   "metadata": {},
   "outputs": [],
   "source": [
    "field = load_field_from_file(\n",
    "    gfs_grib2_orig_file_path,\n",
    "    parameter=\"GUST\",\n",
    "    level_type=\"heightAboveGround\",\n",
    "    level=10,\n",
    ")\n",
    "assert field.attrs[\"GRIB_count\"] == 855"
   ]
  },
  {
   "cell_type": "code",
   "execution_count": null,
   "id": "04a1059c",
   "metadata": {},
   "outputs": [],
   "source": [
    "field = load_field_from_file(\n",
    "    gfs_grib2_orig_file_path,\n",
    "    parameter=\"i10fg\",\n",
    ")\n",
    "assert field.attrs[\"GRIB_count\"] == 855"
   ]
  },
  {
   "cell_type": "code",
   "execution_count": null,
   "id": "df256e3d",
   "metadata": {},
   "outputs": [],
   "source": [
    "field = load_field_from_file(\n",
    "    gfs_grib2_orig_file_path,\n",
    "    parameter=\"gust\",\n",
    "    level_type=\"heightAboveGround\",\n",
    "    level=10,\n",
    ")\n",
    "assert field.attrs[\"GRIB_count\"] == 855"
   ]
  },
  {
   "cell_type": "code",
   "execution_count": null,
   "id": "60089fa1",
   "metadata": {},
   "outputs": [],
   "source": [
    "field = load_field_from_file(\n",
    "    gfs_grib2_orig_file_path,\n",
    "    parameter={\n",
    "        \"discipline\": 0,\n",
    "        \"parameterCategory\": 2,\n",
    "        \"parameterNumber\": 22,\n",
    "    },\n",
    "    level_type=\"heightAboveGround\",\n",
    "    level=10,\n",
    ")\n",
    "assert field.attrs[\"GRIB_count\"] == 855"
   ]
  },
  {
   "cell_type": "markdown",
   "id": "082c86b7",
   "metadata": {},
   "source": [
    "### 降水类型\n",
    "\n",
    "| 要素名 | wgrib2 | eccodes | cemc | GRIB Key | 层次类型 | 层次 | 编号 |\n",
    "|--------|---------|--------|------|----------|--------|------|-------|\n",
    "| 降水类型 | PTYPE | ptype | precitype | (0, 1, 19) | surface | - | 856 |"
   ]
  },
  {
   "cell_type": "code",
   "execution_count": null,
   "id": "97c27554",
   "metadata": {},
   "outputs": [],
   "source": [
    "field = load_field_from_file(\n",
    "    gfs_grib2_orig_file_path,\n",
    "    parameter=\"PTYPE\",\n",
    ")\n",
    "assert field.attrs[\"GRIB_count\"] == 856"
   ]
  },
  {
   "cell_type": "code",
   "execution_count": null,
   "id": "2e88eb88",
   "metadata": {},
   "outputs": [],
   "source": [
    "field = load_field_from_file(\n",
    "    gfs_grib2_orig_file_path,\n",
    "    parameter=\"ptype\",\n",
    ")\n",
    "assert field.attrs[\"GRIB_count\"] == 856"
   ]
  },
  {
   "cell_type": "code",
   "execution_count": null,
   "id": "fd4a578e",
   "metadata": {},
   "outputs": [],
   "source": [
    "field = load_field_from_file(\n",
    "    gfs_grib2_orig_file_path,\n",
    "    parameter=\"precitype\",\n",
    ")\n",
    "assert field.attrs[\"GRIB_count\"] == 856"
   ]
  },
  {
   "cell_type": "code",
   "execution_count": null,
   "id": "5d20edcb",
   "metadata": {},
   "outputs": [],
   "source": [
    "field = load_field_from_file(\n",
    "    gfs_grib2_orig_file_path,\n",
    "    parameter={\n",
    "        \"discipline\": 0,\n",
    "        \"parameterCategory\": 1,\n",
    "        \"parameterNumber\": 19,\n",
    "    },\n",
    ")\n",
    "assert field.attrs[\"GRIB_count\"] == 856"
   ]
  },
  {
   "cell_type": "markdown",
   "id": "47b9c02e",
   "metadata": {},
   "source": [
    "## CDCTOP/CDCB/CEIL"
   ]
  },
  {
   "cell_type": "markdown",
   "id": "e9561cc5",
   "metadata": {},
   "source": [
    "### 云顶高度\n",
    "\n",
    "| 要素名 | wgrib2 | eccodes | cemc | GRIB Key | 层次类型 | 层次 | 编号 |\n",
    "|--------|---------|--------|------|----------|--------|------|-------|\n",
    "| 云顶高度 | CDCTOP | cdct | cldt | (0, 6, 12) | surface | - | 857 |"
   ]
  },
  {
   "cell_type": "code",
   "execution_count": null,
   "id": "aaf1e0ce",
   "metadata": {},
   "outputs": [],
   "source": [
    "field = load_field_from_file(\n",
    "    gfs_grib2_orig_file_path,\n",
    "    parameter=\"CDCTOP\",\n",
    ")\n",
    "assert field.attrs[\"GRIB_count\"] == 857"
   ]
  },
  {
   "cell_type": "code",
   "execution_count": null,
   "id": "f9a28169",
   "metadata": {},
   "outputs": [],
   "source": [
    "field = load_field_from_file(\n",
    "    gfs_grib2_orig_file_path,\n",
    "    parameter=\"cdct\",\n",
    ")\n",
    "assert field.attrs[\"GRIB_count\"] == 857"
   ]
  },
  {
   "cell_type": "code",
   "execution_count": null,
   "id": "91c46e25",
   "metadata": {},
   "outputs": [],
   "source": [
    "field = load_field_from_file(\n",
    "    gfs_grib2_orig_file_path,\n",
    "    parameter=\"cldt\",\n",
    ")\n",
    "assert field.attrs[\"GRIB_count\"] == 857"
   ]
  },
  {
   "cell_type": "code",
   "execution_count": null,
   "id": "bb621638",
   "metadata": {},
   "outputs": [],
   "source": [
    "field = load_field_from_file(\n",
    "    gfs_grib2_orig_file_path,\n",
    "    parameter={\n",
    "        \"discipline\": 0,\n",
    "        \"parameterCategory\": 6,\n",
    "        \"parameterNumber\": 12,\n",
    "    },\n",
    "    level_type=\"surface\",\n",
    ")\n",
    "assert field.attrs[\"GRIB_count\"] == 857"
   ]
  },
  {
   "cell_type": "markdown",
   "id": "4d7921ba",
   "metadata": {},
   "source": [
    "### 云底高度\n",
    "\n",
    "| 要素名 | wgrib2 | eccodes | cemc | GRIB Key | 层次类型 | 层次 | 编号 |\n",
    "|--------|---------|--------|------|----------|--------|------|-------|\n",
    "| 云底高度 | CDCB | - | cldb | (0, 6, 11) | surface | - | 858 |"
   ]
  },
  {
   "cell_type": "code",
   "execution_count": null,
   "id": "8899982d",
   "metadata": {},
   "outputs": [],
   "source": [
    "field = load_field_from_file(\n",
    "    gfs_grib2_orig_file_path,\n",
    "    parameter=\"CDCB\",\n",
    ")\n",
    "assert field.attrs[\"GRIB_count\"] == 858"
   ]
  },
  {
   "cell_type": "code",
   "execution_count": null,
   "id": "c198df3b",
   "metadata": {},
   "outputs": [],
   "source": [
    "field = load_field_from_file(\n",
    "    gfs_grib2_orig_file_path,\n",
    "    parameter=\"cldb\",\n",
    ")\n",
    "assert field.attrs[\"GRIB_count\"] == 858"
   ]
  },
  {
   "cell_type": "code",
   "execution_count": null,
   "id": "054d359d",
   "metadata": {},
   "outputs": [],
   "source": [
    "field = load_field_from_file(\n",
    "    gfs_grib2_orig_file_path,\n",
    "    parameter={\n",
    "        \"discipline\": 0,\n",
    "        \"parameterCategory\": 6,\n",
    "        \"parameterNumber\": 11,\n",
    "    },\n",
    "    level_type=\"surface\",\n",
    ")\n",
    "assert field.attrs[\"GRIB_count\"] == 858"
   ]
  },
  {
   "cell_type": "markdown",
   "id": "30e28e73",
   "metadata": {},
   "source": [
    "### 云幂高度\n",
    "\n",
    "| 要素名 | wgrib2 | eccodes | cemc | GRIB Key | 层次类型 | 层次 | 编号 |\n",
    "|--------|---------|--------|------|----------|--------|------|-------|\n",
    "| 云幂高度 | CEIL | ceil | ceiling | (0, 6, 13) | surface | - | 859 |"
   ]
  },
  {
   "cell_type": "code",
   "execution_count": null,
   "id": "08573a8a",
   "metadata": {},
   "outputs": [],
   "source": [
    "field = load_field_from_file(\n",
    "    gfs_grib2_orig_file_path,\n",
    "    parameter=\"CEIL\",\n",
    ")\n",
    "assert field.attrs[\"GRIB_count\"] == 859"
   ]
  },
  {
   "cell_type": "code",
   "execution_count": null,
   "id": "e8968f2d",
   "metadata": {},
   "outputs": [],
   "source": [
    "field = load_field_from_file(\n",
    "    gfs_grib2_orig_file_path,\n",
    "    parameter=\"ceil\",\n",
    ")\n",
    "assert field.attrs[\"GRIB_count\"] == 859"
   ]
  },
  {
   "cell_type": "code",
   "execution_count": null,
   "id": "3af46b8a",
   "metadata": {},
   "outputs": [],
   "source": [
    "field = load_field_from_file(\n",
    "    gfs_grib2_orig_file_path,\n",
    "    parameter=\"ceiling\",\n",
    ")\n",
    "assert field.attrs[\"GRIB_count\"] == 859"
   ]
  },
  {
   "cell_type": "code",
   "execution_count": null,
   "id": "1c9b693a",
   "metadata": {},
   "outputs": [],
   "source": [
    "field = load_field_from_file(\n",
    "    gfs_grib2_orig_file_path,\n",
    "    parameter={\n",
    "        \"discipline\": 0,\n",
    "        \"parameterCategory\": 6,\n",
    "        \"parameterNumber\": 13,\n",
    "    },\n",
    ")\n",
    "assert field.attrs[\"GRIB_count\"] == 859"
   ]
  },
  {
   "cell_type": "markdown",
   "id": "d000d7ab",
   "metadata": {},
   "source": [
    "## bti/btv"
   ]
  },
  {
   "cell_type": "markdown",
   "id": "ea361c6a",
   "metadata": {},
   "source": [
    "### 卫星水汽通道模拟亮温\n",
    "\n",
    "| 要素名 | wgrib2 | eccodes | cemc | GRIB Key | 层次类型 | 层次 | 编号 |\n",
    "|--------|---------|--------|------|----------|--------|------|-------|\n",
    "| 卫星水汽通道模拟亮温 | - | - | bti | (0, 4, 228) | surface | - | 860 |"
   ]
  },
  {
   "cell_type": "code",
   "execution_count": null,
   "id": "9d0662f7",
   "metadata": {},
   "outputs": [],
   "source": [
    "field = load_field_from_file(\n",
    "    gfs_grib2_orig_file_path,\n",
    "    parameter=\"bti\",\n",
    ")\n",
    "assert field.attrs[\"GRIB_count\"] == 860"
   ]
  },
  {
   "cell_type": "code",
   "execution_count": null,
   "id": "afd2d4cb",
   "metadata": {},
   "outputs": [],
   "source": [
    "field = load_field_from_file(\n",
    "    gfs_grib2_orig_file_path,\n",
    "    parameter={\n",
    "        \"discipline\": 0,\n",
    "        \"parameterCategory\": 4,\n",
    "        \"parameterNumber\": 228,\n",
    "    },\n",
    ")\n",
    "assert field.attrs[\"GRIB_count\"] == 860"
   ]
  },
  {
   "cell_type": "markdown",
   "id": "56121eff",
   "metadata": {},
   "source": [
    "### 卫星红外通道模拟亮温\n",
    "\n",
    "| 要素名 | wgrib2 | eccodes | cemc | GRIB Key | 层次类型 | 层次 | 编号 |\n",
    "|--------|---------|--------|------|----------|--------|------|-------|\n",
    "| 卫星红外通道模拟亮温 | - | - | btv | (0, 4, 227) | surface | - | 861 |"
   ]
  },
  {
   "cell_type": "code",
   "execution_count": null,
   "id": "1ad33aae",
   "metadata": {},
   "outputs": [],
   "source": [
    "field = load_field_from_file(\n",
    "    gfs_grib2_orig_file_path,\n",
    "    parameter=\"btv\",\n",
    ")\n",
    "assert field.attrs[\"GRIB_count\"] == 861"
   ]
  },
  {
   "cell_type": "code",
   "execution_count": null,
   "id": "a69b2554",
   "metadata": {},
   "outputs": [],
   "source": [
    "field = load_field_from_file(\n",
    "    gfs_grib2_orig_file_path,\n",
    "    parameter={\n",
    "        \"discipline\": 0,\n",
    "        \"parameterCategory\": 4,\n",
    "        \"parameterNumber\": 227,\n",
    "    },\n",
    ")\n",
    "assert field.attrs[\"GRIB_count\"] == 861"
   ]
  }
 ],
 "metadata": {
  "language_info": {
   "name": "python"
  }
 },
 "nbformat": 4,
 "nbformat_minor": 5
}
