{
 "cells": [
  {
   "cell_type": "markdown",
   "id": "859b9457",
   "metadata": {},
   "source": [
    "# 要素清单：46-63"
   ]
  },
  {
   "cell_type": "code",
   "execution_count": 1,
   "id": "22a2dd65",
   "metadata": {},
   "outputs": [],
   "source": [
    "import numpy as np\n",
    "import pandas as pd\n",
    "import xarray as xr\n",
    "\n",
    "from reki.data_finder import find_local_file\n",
    "from reki.format.grib.eccodes import load_field_from_file"
   ]
  },
  {
   "cell_type": "code",
   "execution_count": 2,
   "id": "521f5775",
   "metadata": {},
   "outputs": [
    {
     "data": {
      "text/plain": [
       "PosixPath('/g3/COMMONDATA/OPER/CEMC/GFS_GMF/Prod-grib/2025072300/ORIG/gmf.gra.2025072300024.grb2')"
      ]
     },
     "execution_count": 2,
     "metadata": {},
     "output_type": "execute_result"
    }
   ],
   "source": [
    "start_time = pd.Timestamp.utcnow().floor(freq=\"D\") - pd.Timedelta(days=2)\n",
    "start_time_label = start_time.strftime(\"%Y%m%d%H\")\n",
    "forecast_time_label = \"24h\"\n",
    "forecast_time = pd.to_timedelta(forecast_time_label)\n",
    "\n",
    "gfs_grib2_orig_file_path = find_local_file(\n",
    "    \"cma_gfs_gmf/grib2/orig\",\n",
    "    start_time=start_time,\n",
    "    forecast_time=forecast_time,\n",
    ")\n",
    "gfs_grib2_orig_file_path"
   ]
  },
  {
   "cell_type": "markdown",
   "id": "3b67ccbd",
   "metadata": {},
   "source": [
    "## UGRD/VGRD"
   ]
  },
  {
   "cell_type": "markdown",
   "id": "843f8df9",
   "metadata": {},
   "source": [
    "### 等高面u风\n",
    "\n",
    "| 要素名 | wgrib2 | eccodes | cemc | GRIB Key | 层次类型 | 层次 | 编号 |\n",
    "|--------|---------|--------|------|----------|--------|------|------|\n",
    "| 等高面u风 | UGRD | u | u | (0, 2, 2) | heightAboveGround | 30, 50, 70 | 46-48 |\n",
    "| 等高面u风 | UGRD | 100u | u | (0, 2, 2) | heightAboveGround | 100 | 49 |\n",
    "| 等高面u风 | UGRD | u | u | (0, 2, 2) | heightAboveGround | 120, 140, 160, 180 | 50-53|\n",
    "| 等高面u风 | UGRD | 200u | u | (0, 2, 2) | heightAboveGround | 200 | 54 |"
   ]
  },
  {
   "cell_type": "code",
   "execution_count": null,
   "id": "65f4813e",
   "metadata": {},
   "outputs": [],
   "source": [
    "field = load_field_from_file(\n",
    "    gfs_grib2_orig_file_path,\n",
    "    parameter=\"UGRD\",\n",
    "    level_type=\"heightAboveGround\",\n",
    "    level=30,\n",
    ")\n",
    "assert field.attrs[\"GRIB_count\"] == 46"
   ]
  },
  {
   "cell_type": "code",
   "execution_count": 4,
   "id": "5c31483a",
   "metadata": {},
   "outputs": [],
   "source": [
    "field = load_field_from_file(\n",
    "    gfs_grib2_orig_file_path,\n",
    "    parameter=\"u\",\n",
    "    level_type=\"heightAboveGround\",\n",
    "    level=50,\n",
    ")\n",
    "assert field.attrs[\"GRIB_count\"] == 47"
   ]
  },
  {
   "cell_type": "code",
   "execution_count": 5,
   "id": "eb80a588",
   "metadata": {},
   "outputs": [],
   "source": [
    "field = load_field_from_file(\n",
    "    gfs_grib2_orig_file_path,\n",
    "    parameter=\"100u\",\n",
    ")\n",
    "assert field.attrs[\"GRIB_count\"] == 49"
   ]
  },
  {
   "cell_type": "code",
   "execution_count": 6,
   "id": "4b2dea88",
   "metadata": {},
   "outputs": [],
   "source": [
    "field = load_field_from_file(\n",
    "    gfs_grib2_orig_file_path,\n",
    "    parameter={\n",
    "        \"discipline\": 0,\n",
    "        \"parameterCategory\": 2,\n",
    "        \"parameterNumber\": 2,\n",
    "    },\n",
    "    level_type=\"heightAboveGround\",\n",
    "    level=120,\n",
    ")\n",
    "assert field.attrs[\"GRIB_count\"] == 50"
   ]
  },
  {
   "cell_type": "code",
   "execution_count": 7,
   "id": "8ad12763",
   "metadata": {},
   "outputs": [],
   "source": [
    "field = load_field_from_file(\n",
    "    gfs_grib2_orig_file_path,\n",
    "    parameter=\"200u\",\n",
    ")\n",
    "assert field.attrs[\"GRIB_count\"] == 54"
   ]
  },
  {
   "cell_type": "markdown",
   "id": "de5267c5",
   "metadata": {},
   "source": [
    "### 等高面v风\n",
    "\n",
    "| 要素名 | wgrib2 | eccodes | cemc | GRIB Key | 层次类型 | 层次 | 编号 |\n",
    "|--------|---------|--------|------|----------|--------|------|-------|\n",
    "| 等高面v风 | VGRD | v | v | (0, 2, 3) | heightAboveGround | 30, 50, 70 | 55-57 |\n",
    "| 等高面v风 | VGRD | 100v | v | (0, 2, 3) | heightAboveGround | 100 | 58 |\n",
    "| 等高面v风 | VGRD | v | v | (0, 2, 3) | heightAboveGround | 120, 140, 160, 180 | 59-62 |\n",
    "| 等高面v风 | VGRD | 200v | v | (0, 2, 3) | heightAboveGround | 200 | 63 |"
   ]
  },
  {
   "cell_type": "code",
   "execution_count": 8,
   "id": "a9d999e2",
   "metadata": {},
   "outputs": [],
   "source": [
    "field = load_field_from_file(\n",
    "    gfs_grib2_orig_file_path,\n",
    "    parameter=\"VGRD\",\n",
    "    level_type=\"heightAboveGround\",\n",
    "    level=30,\n",
    ")\n",
    "assert field.attrs[\"GRIB_count\"] == 55"
   ]
  },
  {
   "cell_type": "code",
   "execution_count": 9,
   "id": "73493cb0",
   "metadata": {},
   "outputs": [],
   "source": [
    "field = load_field_from_file(\n",
    "    gfs_grib2_orig_file_path,\n",
    "    parameter=\"v\",\n",
    "    level_type=\"heightAboveGround\",\n",
    "    level=50,\n",
    ")\n",
    "assert field.attrs[\"GRIB_count\"] == 56"
   ]
  },
  {
   "cell_type": "code",
   "execution_count": 10,
   "id": "439767a6",
   "metadata": {},
   "outputs": [],
   "source": [
    "field = load_field_from_file(\n",
    "    gfs_grib2_orig_file_path,\n",
    "    parameter=\"100v\",\n",
    ")\n",
    "assert field.attrs[\"GRIB_count\"] == 58"
   ]
  },
  {
   "cell_type": "code",
   "execution_count": 11,
   "id": "6bdf433a",
   "metadata": {},
   "outputs": [],
   "source": [
    "field = load_field_from_file(\n",
    "    gfs_grib2_orig_file_path,\n",
    "    parameter={\n",
    "        \"discipline\": 0,\n",
    "        \"parameterCategory\": 2,\n",
    "        \"parameterNumber\": 3,\n",
    "    },\n",
    "    level_type=\"heightAboveGround\",\n",
    "    level=120,\n",
    ")\n",
    "assert field.attrs[\"GRIB_count\"] == 59"
   ]
  },
  {
   "cell_type": "code",
   "execution_count": 12,
   "id": "c07390fc",
   "metadata": {},
   "outputs": [],
   "source": [
    "field = load_field_from_file(\n",
    "    gfs_grib2_orig_file_path,\n",
    "    parameter=\"200v\",\n",
    ")\n",
    "assert field.attrs[\"GRIB_count\"] == 63"
   ]
  },
  {
   "cell_type": "code",
   "execution_count": null,
   "id": "d2007290",
   "metadata": {},
   "outputs": [],
   "source": []
  }
 ],
 "metadata": {
  "kernelspec": {
   "display_name": "py312-cedar-dev",
   "language": "python",
   "name": "python3"
  },
  "language_info": {
   "codemirror_mode": {
    "name": "ipython",
    "version": 3
   },
   "file_extension": ".py",
   "mimetype": "text/x-python",
   "name": "python",
   "nbconvert_exporter": "python",
   "pygments_lexer": "ipython3",
   "version": "3.12.11"
  }
 },
 "nbformat": 4,
 "nbformat_minor": 5
}
