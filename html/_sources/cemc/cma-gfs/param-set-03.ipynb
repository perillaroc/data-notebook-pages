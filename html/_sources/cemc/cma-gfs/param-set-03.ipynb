{
 "cells": [
  {
   "cell_type": "markdown",
   "id": "29cb7d20",
   "metadata": {},
   "source": [
    "# 要素清单：22-45"
   ]
  },
  {
   "cell_type": "code",
   "execution_count": 2,
   "id": "7ef12469",
   "metadata": {},
   "outputs": [],
   "source": [
    "import numpy as np\n",
    "import pandas as pd\n",
    "import xarray as xr\n",
    "\n",
    "from reki.data_finder import find_local_file\n",
    "from reki.format.grib.eccodes import load_field_from_file"
   ]
  },
  {
   "cell_type": "code",
   "execution_count": 3,
   "id": "2117bc5a",
   "metadata": {},
   "outputs": [
    {
     "data": {
      "text/plain": [
       "PosixPath('/g3/COMMONDATA/OPER/CEMC/GFS_GMF/Prod-grib/2025072300/ORIG/gmf.gra.2025072300024.grb2')"
      ]
     },
     "execution_count": 3,
     "metadata": {},
     "output_type": "execute_result"
    }
   ],
   "source": [
    "start_time = pd.Timestamp.utcnow().floor(freq=\"D\") - pd.Timedelta(days=2)\n",
    "start_time_label = start_time.strftime(\"%Y%m%d%H\")\n",
    "forecast_time_label = \"24h\"\n",
    "forecast_time = pd.to_timedelta(forecast_time_label)\n",
    "\n",
    "gfs_grib2_orig_file_path = find_local_file(\n",
    "    \"cma_gfs_gmf/grib2/orig\",\n",
    "    start_time=start_time,\n",
    "    forecast_time=forecast_time,\n",
    ")\n",
    "gfs_grib2_orig_file_path"
   ]
  },
  {
   "cell_type": "markdown",
   "id": "5548e168",
   "metadata": {},
   "source": [
    "## 粗糙度\n",
    "\n",
    "| 要素名 | wgrib2 | eccodes | cemc | GRIB Key | 层次类型 | 层次 | 编号 |\n",
    "|--------|---------|--------|------|----------|--------|-----|-----|\n",
    "| 粗糙度 | - | - | znt | (0, 3, 228) | surface | - | 22 |"
   ]
  },
  {
   "cell_type": "code",
   "execution_count": 4,
   "id": "d5dbbb15",
   "metadata": {},
   "outputs": [],
   "source": [
    "field = load_field_from_file(\n",
    "    gfs_grib2_orig_file_path,\n",
    "    parameter=\"znt\",\n",
    ")\n",
    "assert field.attrs[\"GRIB_count\"] == 22"
   ]
  },
  {
   "cell_type": "code",
   "execution_count": 5,
   "id": "f1e52412",
   "metadata": {},
   "outputs": [],
   "source": [
    "field = load_field_from_file(\n",
    "    gfs_grib2_orig_file_path,\n",
    "    parameter={\n",
    "        \"discipline\": 0,\n",
    "        \"parameterCategory\": 3,\n",
    "        \"parameterNumber\": 228,\n",
    "    },\n",
    ")\n",
    "assert field.attrs[\"GRIB_count\"] == 22"
   ]
  },
  {
   "cell_type": "markdown",
   "id": "a2e4f4f7",
   "metadata": {},
   "source": [
    "## 地形高度\n",
    "\n",
    "| 要素名 | wgrib2 | eccodes | cemc | GRIB Key | 层次类型 | 层次 | 编号 |\n",
    "|--------|---------|--------|------|----------|--------|-----|-------|\n",
    "| 地形高度 | HGT | orog | zs | (0, 3, 5) | surface | - | 23 |"
   ]
  },
  {
   "cell_type": "code",
   "execution_count": 6,
   "id": "2c2d2642",
   "metadata": {},
   "outputs": [],
   "source": [
    "field = load_field_from_file(\n",
    "    gfs_grib2_orig_file_path,\n",
    "    parameter=\"HGT\",\n",
    "    level_type=\"surface\"\n",
    ")\n",
    "assert field.attrs[\"GRIB_count\"] == 23"
   ]
  },
  {
   "cell_type": "code",
   "execution_count": 7,
   "id": "b0ed7f37",
   "metadata": {},
   "outputs": [],
   "source": [
    "field = load_field_from_file(\n",
    "    gfs_grib2_orig_file_path,\n",
    "    parameter=\"orog\",\n",
    ")\n",
    "assert field.attrs[\"GRIB_count\"] == 23"
   ]
  },
  {
   "cell_type": "code",
   "execution_count": 8,
   "id": "f66dcd54",
   "metadata": {},
   "outputs": [],
   "source": [
    "field = load_field_from_file(\n",
    "    gfs_grib2_orig_file_path,\n",
    "    parameter=\"zs\",\n",
    ")\n",
    "assert field.attrs[\"GRIB_count\"] == 23"
   ]
  },
  {
   "cell_type": "code",
   "execution_count": 9,
   "id": "6743790a",
   "metadata": {},
   "outputs": [],
   "source": [
    "field = load_field_from_file(\n",
    "    gfs_grib2_orig_file_path,\n",
    "    parameter={\n",
    "        \"discipline\": 0,\n",
    "        \"parameterCategory\": 3,\n",
    "        \"parameterNumber\": 5,\n",
    "    },\n",
    "    level_type=\"sfc\",\n",
    ")\n",
    "assert field.attrs[\"GRIB_count\"] == 23"
   ]
  },
  {
   "cell_type": "markdown",
   "id": "08e46cbd",
   "metadata": {},
   "source": [
    "## 2sh/2t"
   ]
  },
  {
   "cell_type": "markdown",
   "id": "5a3b35df",
   "metadata": {},
   "source": [
    "### 2米比湿\n",
    "\n",
    "| 要素名 | wgrib2 | eccodes | cemc | GRIB Key | 层次类型 | 层次 | 编号 |\n",
    "|--------|---------|--------|------|----------|--------|------|------|\n",
    "| 2米比湿 | SPFH | 2sh | q2m | (0, 1, 0) | heightAboveGround | 2 | 24 |"
   ]
  },
  {
   "cell_type": "code",
   "execution_count": 10,
   "id": "6122d51b",
   "metadata": {},
   "outputs": [],
   "source": [
    "field = load_field_from_file(\n",
    "    gfs_grib2_orig_file_path,\n",
    "    parameter=\"SPFH\",\n",
    "    level_type=\"heightAboveGround\",\n",
    "    level=2,\n",
    ")\n",
    "assert field.attrs[\"GRIB_count\"] == 24"
   ]
  },
  {
   "cell_type": "code",
   "execution_count": 11,
   "id": "e7516407",
   "metadata": {},
   "outputs": [],
   "source": [
    "field = load_field_from_file(\n",
    "    gfs_grib2_orig_file_path,\n",
    "    parameter=\"2sh\",\n",
    ")\n",
    "assert field.attrs[\"GRIB_count\"] == 24"
   ]
  },
  {
   "cell_type": "code",
   "execution_count": 12,
   "id": "b3427075",
   "metadata": {},
   "outputs": [],
   "source": [
    "field = load_field_from_file(\n",
    "    gfs_grib2_orig_file_path,\n",
    "    parameter=\"q2m\",\n",
    ")\n",
    "assert field.attrs[\"GRIB_count\"] == 24"
   ]
  },
  {
   "cell_type": "code",
   "execution_count": 13,
   "id": "ed63d435",
   "metadata": {},
   "outputs": [],
   "source": [
    "field = load_field_from_file(\n",
    "    gfs_grib2_orig_file_path,\n",
    "    parameter={\n",
    "        \"discipline\": 0,\n",
    "        \"parameterCategory\": 1,\n",
    "        \"parameterNumber\": 0,\n",
    "    },\n",
    "    level_type=\"heightAboveGround\",\n",
    "    level=2,\n",
    ")\n",
    "assert field.attrs[\"GRIB_count\"] == 24"
   ]
  },
  {
   "cell_type": "markdown",
   "id": "2baa36e7",
   "metadata": {},
   "source": [
    "### 2米温度\n",
    "\n",
    "| 要素名 | wgrib2 | eccodes | cemc | GRIB Key | 层次类型 | 层次 | 编号 |\n",
    "|--------|---------|--------|------|----------|--------|------|------|\n",
    "| 2米温度 | TMP | 2t | t2m | (0, 0, 0) | heightAboveGround | 2 | 25 |"
   ]
  },
  {
   "cell_type": "code",
   "execution_count": 14,
   "id": "1d170d3b",
   "metadata": {},
   "outputs": [],
   "source": [
    "field = load_field_from_file(\n",
    "    gfs_grib2_orig_file_path,\n",
    "    parameter=\"TMP\",\n",
    "    level_type=\"heightAboveGround\",\n",
    "    level=2,\n",
    ")\n",
    "assert field.attrs[\"GRIB_count\"] == 25"
   ]
  },
  {
   "cell_type": "code",
   "execution_count": 15,
   "id": "6385aec7",
   "metadata": {},
   "outputs": [],
   "source": [
    "field = load_field_from_file(\n",
    "    gfs_grib2_orig_file_path,\n",
    "    parameter=\"2t\",\n",
    ")\n",
    "assert field.attrs[\"GRIB_count\"] == 25"
   ]
  },
  {
   "cell_type": "code",
   "execution_count": 16,
   "id": "beaf40c6",
   "metadata": {},
   "outputs": [],
   "source": [
    "field = load_field_from_file(\n",
    "    gfs_grib2_orig_file_path,\n",
    "    parameter=\"t2m\",\n",
    ")\n",
    "assert field.attrs[\"GRIB_count\"] == 25"
   ]
  },
  {
   "cell_type": "code",
   "execution_count": 17,
   "id": "c6699eb1",
   "metadata": {},
   "outputs": [],
   "source": [
    "field = load_field_from_file(\n",
    "    gfs_grib2_orig_file_path,\n",
    "    parameter={\n",
    "        \"discipline\": 0,\n",
    "        \"parameterCategory\": 0,\n",
    "        \"parameterNumber\": 0,\n",
    "    },\n",
    "    level_type=\"heightAboveGround\",\n",
    "    level=2,\n",
    ")\n",
    "assert field.attrs[\"GRIB_count\"] == 25"
   ]
  },
  {
   "cell_type": "markdown",
   "id": "f55eea4a",
   "metadata": {},
   "source": [
    "## 10u/10v"
   ]
  },
  {
   "cell_type": "markdown",
   "id": "1563e263",
   "metadata": {},
   "source": [
    "### 10米U\n",
    "\n",
    "| 要素名 | wgrib2 | eccodes | cemc | GRIB Key | 层次类型 | 层次 | 编号 |\n",
    "|--------|---------|--------|------|----------|--------|------|------|\n",
    "| 10米U | UGRD | 10u | u10m | (0, 2, 2) | heightAboveGround | 10 | 26 |"
   ]
  },
  {
   "cell_type": "code",
   "execution_count": 18,
   "id": "9e32fff5",
   "metadata": {},
   "outputs": [],
   "source": [
    "field = load_field_from_file(\n",
    "    gfs_grib2_orig_file_path,\n",
    "    parameter=\"UGRD\",\n",
    "    level_type=\"heightAboveGround\",\n",
    "    level=10,\n",
    ")\n",
    "assert field.attrs[\"GRIB_count\"] == 26"
   ]
  },
  {
   "cell_type": "code",
   "execution_count": 19,
   "id": "72989c16",
   "metadata": {},
   "outputs": [],
   "source": [
    "field = load_field_from_file(\n",
    "    gfs_grib2_orig_file_path,\n",
    "    parameter=\"10u\",\n",
    ")\n",
    "assert field.attrs[\"GRIB_count\"] == 26"
   ]
  },
  {
   "cell_type": "code",
   "execution_count": 20,
   "id": "0c1d0b81",
   "metadata": {},
   "outputs": [],
   "source": [
    "field = load_field_from_file(\n",
    "    gfs_grib2_orig_file_path,\n",
    "    parameter=\"u10m\",\n",
    ")\n",
    "assert field.attrs[\"GRIB_count\"] == 26"
   ]
  },
  {
   "cell_type": "code",
   "execution_count": 21,
   "id": "ebfcc811",
   "metadata": {},
   "outputs": [],
   "source": [
    "field = load_field_from_file(\n",
    "    gfs_grib2_orig_file_path,\n",
    "    parameter={\n",
    "        \"discipline\": 0,\n",
    "        \"parameterCategory\": 2,\n",
    "        \"parameterNumber\": 2,\n",
    "    },\n",
    "    level_type=\"heightAboveGround\",\n",
    "    level=10,\n",
    ")\n",
    "assert field.attrs[\"GRIB_count\"] == 26"
   ]
  },
  {
   "cell_type": "markdown",
   "id": "885cc52f",
   "metadata": {},
   "source": [
    "### 10米V\n",
    "\n",
    "| 要素名 | wgrib2 | eccodes | cemc | GRIB Key | 层次类型 | 层次 | 编号 |\n",
    "|--------|---------|--------|------|----------|--------|------|------|\n",
    "| 10米V | VGRD | 10v | v10m | (0, 2, 3) | heightAboveGround | 10 | 27 |"
   ]
  },
  {
   "cell_type": "code",
   "execution_count": 22,
   "id": "44745d97",
   "metadata": {},
   "outputs": [],
   "source": [
    "field = load_field_from_file(\n",
    "    gfs_grib2_orig_file_path,\n",
    "    parameter=\"VGRD\",\n",
    "    level_type=\"heightAboveGround\",\n",
    "    level=10,\n",
    ")\n",
    "assert field.attrs[\"GRIB_count\"] == 27"
   ]
  },
  {
   "cell_type": "code",
   "execution_count": 23,
   "id": "e651dad7",
   "metadata": {},
   "outputs": [],
   "source": [
    "field = load_field_from_file(\n",
    "    gfs_grib2_orig_file_path,\n",
    "    parameter=\"10v\",\n",
    ")\n",
    "assert field.attrs[\"GRIB_count\"] == 27"
   ]
  },
  {
   "cell_type": "code",
   "execution_count": 24,
   "id": "9240512c",
   "metadata": {},
   "outputs": [],
   "source": [
    "field = load_field_from_file(\n",
    "    gfs_grib2_orig_file_path,\n",
    "    parameter=\"v10m\",\n",
    ")\n",
    "assert field.attrs[\"GRIB_count\"] == 27"
   ]
  },
  {
   "cell_type": "code",
   "execution_count": 25,
   "id": "f427e495",
   "metadata": {},
   "outputs": [],
   "source": [
    "field = load_field_from_file(\n",
    "    gfs_grib2_orig_file_path,\n",
    "    parameter={\n",
    "        \"discipline\": 0,\n",
    "        \"parameterCategory\": 2,\n",
    "        \"parameterNumber\": 3,\n",
    "    },\n",
    "    level_type=\"heightAboveGround\",\n",
    "    level=10,\n",
    ")\n",
    "assert field.attrs[\"GRIB_count\"] == 27"
   ]
  },
  {
   "cell_type": "markdown",
   "id": "ac3cd7b6",
   "metadata": {},
   "source": [
    "## TCDC/LCDC/MCDC/HCDC"
   ]
  },
  {
   "cell_type": "markdown",
   "id": "eca7dff0",
   "metadata": {},
   "source": [
    "### 总云量\n",
    "\n",
    "| 要素名 | wgrib2 | eccodes | cemc | GRIB Key | 层次类型 | 层次 | 编号 |\n",
    "|--------|---------|--------|------|----------|--------|------|------|\n",
    "| 总云量 | TCDC | tcc | tcc | (0, 6, 1) | entireAtmosphere | - | 28 |"
   ]
  },
  {
   "cell_type": "code",
   "execution_count": 26,
   "id": "d69bbfce",
   "metadata": {},
   "outputs": [],
   "source": [
    "field = load_field_from_file(\n",
    "    gfs_grib2_orig_file_path,\n",
    "    parameter=\"TCDC\",\n",
    ")\n",
    "assert field.attrs[\"GRIB_count\"] == 28"
   ]
  },
  {
   "cell_type": "code",
   "execution_count": 27,
   "id": "d51b009b",
   "metadata": {},
   "outputs": [],
   "source": [
    "field = load_field_from_file(\n",
    "    gfs_grib2_orig_file_path,\n",
    "    parameter=\"tcc\",\n",
    ")\n",
    "assert field.attrs[\"GRIB_count\"] == 28"
   ]
  },
  {
   "cell_type": "code",
   "execution_count": 28,
   "id": "019e62d5",
   "metadata": {},
   "outputs": [],
   "source": [
    "field = load_field_from_file(\n",
    "    gfs_grib2_orig_file_path,\n",
    "    parameter={\n",
    "        \"discipline\": 0,\n",
    "        \"parameterCategory\": 6,\n",
    "        \"parameterNumber\": 1,\n",
    "    },\n",
    "    level_type=\"entireAtmosphere\",\n",
    ")\n",
    "assert field.attrs[\"GRIB_count\"] == 28"
   ]
  },
  {
   "cell_type": "markdown",
   "id": "f0ba537f",
   "metadata": {},
   "source": [
    "### 低云量\n",
    "\n",
    "| 要素名 | wgrib2 | eccodes | cemc | GRIB Key | 层次类型 | 层次 | 编号 |\n",
    "|--------|---------|--------|------|----------|--------|------|------|\n",
    "| 低云量 | LCDC | lcc | lcc | (0, 6, 3) | entireAtmosphere | - | 29 |"
   ]
  },
  {
   "cell_type": "code",
   "execution_count": 29,
   "id": "f208b4f5",
   "metadata": {},
   "outputs": [],
   "source": [
    "field = load_field_from_file(\n",
    "    gfs_grib2_orig_file_path,\n",
    "    parameter=\"LCDC\",\n",
    ")\n",
    "assert field.attrs[\"GRIB_count\"] == 29"
   ]
  },
  {
   "cell_type": "code",
   "execution_count": 30,
   "id": "5f58e43e",
   "metadata": {},
   "outputs": [],
   "source": [
    "field = load_field_from_file(\n",
    "    gfs_grib2_orig_file_path,\n",
    "    parameter=\"lcc\",\n",
    ")\n",
    "assert field.attrs[\"GRIB_count\"] == 29"
   ]
  },
  {
   "cell_type": "code",
   "execution_count": 31,
   "id": "4c5a79c4",
   "metadata": {},
   "outputs": [],
   "source": [
    "field = load_field_from_file(\n",
    "    gfs_grib2_orig_file_path,\n",
    "    parameter={\n",
    "        \"discipline\": 0,\n",
    "        \"parameterCategory\": 6,\n",
    "        \"parameterNumber\": 3,\n",
    "    },\n",
    "    level_type=\"entireAtmosphere\",\n",
    ")\n",
    "assert field.attrs[\"GRIB_count\"] == 29"
   ]
  },
  {
   "cell_type": "markdown",
   "id": "2b59e189",
   "metadata": {},
   "source": [
    "### 中云量\n",
    "\n",
    "| 要素名 | wgrib2 | eccodes | cemc | GRIB Key | 层次类型 | 层次 | 编号 |\n",
    "|--------|---------|--------|------|----------|--------|------|------|\n",
    "| 中云量 | MCDC | mcc | mcc | (0, 6, 4) | entireAtmosphere | - | 30 |"
   ]
  },
  {
   "cell_type": "code",
   "execution_count": 32,
   "id": "4e31af70",
   "metadata": {},
   "outputs": [],
   "source": [
    "field = load_field_from_file(\n",
    "    gfs_grib2_orig_file_path,\n",
    "    parameter=\"MCDC\",\n",
    ")\n",
    "assert field.attrs[\"GRIB_count\"] == 30"
   ]
  },
  {
   "cell_type": "code",
   "execution_count": 33,
   "id": "a9c78b42",
   "metadata": {},
   "outputs": [],
   "source": [
    "field = load_field_from_file(\n",
    "    gfs_grib2_orig_file_path,\n",
    "    parameter=\"mcc\",\n",
    ")\n",
    "assert field.attrs[\"GRIB_count\"] == 30"
   ]
  },
  {
   "cell_type": "code",
   "execution_count": 34,
   "id": "f8c126b4",
   "metadata": {},
   "outputs": [],
   "source": [
    "field = load_field_from_file(\n",
    "    gfs_grib2_orig_file_path,\n",
    "    parameter={\n",
    "        \"discipline\": 0,\n",
    "        \"parameterCategory\": 6,\n",
    "        \"parameterNumber\": 4,\n",
    "    },\n",
    "    level_type=\"entireAtmosphere\",\n",
    ")\n",
    "assert field.attrs[\"GRIB_count\"] == 30"
   ]
  },
  {
   "cell_type": "markdown",
   "id": "7415c99a",
   "metadata": {},
   "source": [
    "### 高云量\n",
    "\n",
    "| 要素名 | wgrib2 | eccodes | cemc | GRIB Key | 层次类型 | 层次 | 编号 |\n",
    "|--------|---------|--------|------|----------|--------|------|-------|\n",
    "| 高云量 | HCDC | hcc | hcc | (0, 6, 5) | entireAtmosphere | - | 31 |"
   ]
  },
  {
   "cell_type": "code",
   "execution_count": 35,
   "id": "3b7f4760",
   "metadata": {},
   "outputs": [],
   "source": [
    "field = load_field_from_file(\n",
    "    gfs_grib2_orig_file_path,\n",
    "    parameter=\"HCDC\",\n",
    ")\n",
    "assert field.attrs[\"GRIB_count\"] == 31"
   ]
  },
  {
   "cell_type": "code",
   "execution_count": 36,
   "id": "b4f69f25",
   "metadata": {},
   "outputs": [],
   "source": [
    "field = load_field_from_file(\n",
    "    gfs_grib2_orig_file_path,\n",
    "    parameter=\"hcc\",\n",
    ")\n",
    "assert field.attrs[\"GRIB_count\"] == 31"
   ]
  },
  {
   "cell_type": "code",
   "execution_count": 37,
   "id": "79e54aa1",
   "metadata": {},
   "outputs": [],
   "source": [
    "field = load_field_from_file(\n",
    "    gfs_grib2_orig_file_path,\n",
    "    parameter={\n",
    "        \"discipline\": 0,\n",
    "        \"parameterCategory\": 6,\n",
    "        \"parameterNumber\": 5,\n",
    "    },\n",
    "    level_type=\"entireAtmosphere\",\n",
    ")\n",
    "assert field.attrs[\"GRIB_count\"] == 31"
   ]
  },
  {
   "cell_type": "markdown",
   "id": "dc220fda",
   "metadata": {},
   "source": [
    "## TCIWV/TCOLW/TCOLI"
   ]
  },
  {
   "cell_type": "markdown",
   "id": "b2a193e0",
   "metadata": {},
   "source": [
    "### 大气总柱水汽含量\n",
    "\n",
    "| 要素名 | wgrib2 | eccodes | cemc | GRIB Key | 层次类型 | 层次 | 编号 |\n",
    "|--------|---------|--------|------|----------|--------|------|-----|\n",
    "| 大气总柱水汽含量 | TCIWV | - | tvw | (0, 1, 64) | atmosphere | - | 32 |"
   ]
  },
  {
   "cell_type": "code",
   "execution_count": 38,
   "id": "8f109a06",
   "metadata": {},
   "outputs": [],
   "source": [
    "field = load_field_from_file(\n",
    "    gfs_grib2_orig_file_path,\n",
    "    parameter=\"TCIWV\",\n",
    ")\n",
    "assert field.attrs[\"GRIB_count\"] == 32"
   ]
  },
  {
   "cell_type": "code",
   "execution_count": 39,
   "id": "8bd6664b",
   "metadata": {},
   "outputs": [],
   "source": [
    "field = load_field_from_file(\n",
    "    gfs_grib2_orig_file_path,\n",
    "    parameter=\"tvw\",\n",
    ")\n",
    "assert field.attrs[\"GRIB_count\"] == 32"
   ]
  },
  {
   "cell_type": "code",
   "execution_count": 40,
   "id": "ec21a143",
   "metadata": {},
   "outputs": [],
   "source": [
    "field = load_field_from_file(\n",
    "    gfs_grib2_orig_file_path,\n",
    "    parameter={\n",
    "        \"discipline\": 0,\n",
    "        \"parameterCategory\": 1,\n",
    "        \"parameterNumber\": 64,\n",
    "    },\n",
    "    level_type=\"atmosphere\",\n",
    ")\n",
    "assert field.attrs[\"GRIB_count\"] == 32"
   ]
  },
  {
   "cell_type": "markdown",
   "id": "73ff1b61",
   "metadata": {},
   "source": [
    "### 大气总柱云水qc含量\n",
    "\n",
    "| 要素名 | wgrib2 | eccodes | cemc | GRIB Key | 层次类型 | 层次 | 编号 |\n",
    "|--------|---------|--------|------|----------|--------|------|-------|\n",
    "| 大气总柱云水qc含量 | TCOLW | - | tcw | (0, 1, 69) | atmosphere | - | 33 |"
   ]
  },
  {
   "cell_type": "code",
   "execution_count": 41,
   "id": "1a1a44e9",
   "metadata": {},
   "outputs": [],
   "source": [
    "field = load_field_from_file(\n",
    "    gfs_grib2_orig_file_path,\n",
    "    parameter=\"TCOLW\",\n",
    ")\n",
    "assert field.attrs[\"GRIB_count\"] == 33"
   ]
  },
  {
   "cell_type": "code",
   "execution_count": 42,
   "id": "f498e12e",
   "metadata": {},
   "outputs": [],
   "source": [
    "field = load_field_from_file(\n",
    "    gfs_grib2_orig_file_path,\n",
    "    parameter=\"tcw\",\n",
    ")\n",
    "assert field.attrs[\"GRIB_count\"] == 33"
   ]
  },
  {
   "cell_type": "code",
   "execution_count": 43,
   "id": "361d62b6",
   "metadata": {},
   "outputs": [],
   "source": [
    "field = load_field_from_file(\n",
    "    gfs_grib2_orig_file_path,\n",
    "    parameter={\n",
    "        \"discipline\": 0,\n",
    "        \"parameterCategory\": 1,\n",
    "        \"parameterNumber\": 69,\n",
    "    },\n",
    "    level_type=\"atmosphere\",\n",
    ")\n",
    "assert field.attrs[\"GRIB_count\"] == 33"
   ]
  },
  {
   "cell_type": "markdown",
   "id": "5ca10a92",
   "metadata": {},
   "source": [
    "### 大气总柱云冰含量\n",
    "\n",
    "| 要素名 | wgrib2 | eccodes | cemc | GRIB Key | 层次类型 | 层次 | 编号 |\n",
    "|--------|---------|--------|------|----------|--------|------|------|\n",
    "| 大气总柱云冰含量 | TCOLI | - | tiw | (0, 1, 70) | atmosphere | - | 34 |"
   ]
  },
  {
   "cell_type": "code",
   "execution_count": 44,
   "id": "88f45a17",
   "metadata": {},
   "outputs": [],
   "source": [
    "field = load_field_from_file(\n",
    "    gfs_grib2_orig_file_path,\n",
    "    parameter=\"TCOLI\",\n",
    ")\n",
    "assert field.attrs[\"GRIB_count\"] == 34"
   ]
  },
  {
   "cell_type": "code",
   "execution_count": 45,
   "id": "223a0124",
   "metadata": {},
   "outputs": [],
   "source": [
    "field = load_field_from_file(\n",
    "    gfs_grib2_orig_file_path,\n",
    "    parameter=\"tiw\",\n",
    ")\n",
    "assert field.attrs[\"GRIB_count\"] == 34"
   ]
  },
  {
   "cell_type": "code",
   "execution_count": 46,
   "id": "0e2a0370",
   "metadata": {},
   "outputs": [],
   "source": [
    "field = load_field_from_file(\n",
    "    gfs_grib2_orig_file_path,\n",
    "    parameter={\n",
    "        \"discipline\": 0,\n",
    "        \"parameterCategory\": 1,\n",
    "        \"parameterNumber\": 70,\n",
    "    },\n",
    "    level_type=\"atmosphere\",\n",
    ")\n",
    "assert field.attrs[\"GRIB_count\"] == 34"
   ]
  },
  {
   "cell_type": "markdown",
   "id": "4ba85292",
   "metadata": {},
   "source": [
    "## 边界层高度\n",
    "\n",
    "\n",
    "| 要素名 | wgrib2 | eccodes | cemc | GRIB Key | 层次类型 | 层次 | 编号 |\n",
    "|--------|---------|--------|------|----------|--------|------|------|\n",
    "| 边界层高度 | HPBL | blh | pblh | (0, 3, 18)  | surface | - | 35 |"
   ]
  },
  {
   "cell_type": "code",
   "execution_count": 47,
   "id": "f89c529a",
   "metadata": {},
   "outputs": [],
   "source": [
    "field = load_field_from_file(\n",
    "    gfs_grib2_orig_file_path,\n",
    "    parameter=\"HPBL\",\n",
    ")\n",
    "assert field.attrs[\"GRIB_count\"] == 35"
   ]
  },
  {
   "cell_type": "code",
   "execution_count": 48,
   "id": "3cd15a21",
   "metadata": {},
   "outputs": [],
   "source": [
    "field = load_field_from_file(\n",
    "    gfs_grib2_orig_file_path,\n",
    "    parameter=\"blh\",\n",
    ")\n",
    "assert field.attrs[\"GRIB_count\"] == 35"
   ]
  },
  {
   "cell_type": "code",
   "execution_count": 49,
   "id": "6155cd17",
   "metadata": {},
   "outputs": [],
   "source": [
    "field = load_field_from_file(\n",
    "    gfs_grib2_orig_file_path,\n",
    "    parameter=\"pblh\",\n",
    ")\n",
    "assert field.attrs[\"GRIB_count\"] == 35"
   ]
  },
  {
   "cell_type": "code",
   "execution_count": 50,
   "id": "448da18f",
   "metadata": {},
   "outputs": [],
   "source": [
    "field = load_field_from_file(\n",
    "    gfs_grib2_orig_file_path,\n",
    "    parameter={\n",
    "        \"discipline\": 0,\n",
    "        \"parameterCategory\": 3,\n",
    "        \"parameterNumber\": 18,\n",
    "    },\n",
    "    level_type=\"surface\",\n",
    ")\n",
    "assert field.attrs[\"GRIB_count\"] == 35"
   ]
  },
  {
   "cell_type": "markdown",
   "id": "5cde5575",
   "metadata": {},
   "source": [
    "## 东西向应力\n",
    "\n",
    "| 要素名 | wgrib2 | eccodes | cemc | GRIB Key | 层次类型 | 层次 | 编号 |\n",
    "|--------|---------|--------|------|----------|--------|------|------|\n",
    "| 东西向应力 | - | - | wess | (0, 2, 227)  | surface | - | 36 |"
   ]
  },
  {
   "cell_type": "code",
   "execution_count": 51,
   "id": "84c4b77a",
   "metadata": {},
   "outputs": [],
   "source": [
    "field = load_field_from_file(\n",
    "    gfs_grib2_orig_file_path,\n",
    "    parameter=\"wess\",\n",
    ")\n",
    "assert field.attrs[\"GRIB_count\"] == 36"
   ]
  },
  {
   "cell_type": "code",
   "execution_count": 52,
   "id": "bb683fa5",
   "metadata": {},
   "outputs": [],
   "source": [
    "field = load_field_from_file(\n",
    "    gfs_grib2_orig_file_path,\n",
    "    parameter={\n",
    "        \"discipline\": 0,\n",
    "        \"parameterCategory\": 2,\n",
    "        \"parameterNumber\": 227,\n",
    "    },\n",
    "    level_type=\"surface\",\n",
    ")\n",
    "assert field.attrs[\"GRIB_count\"] == 36"
   ]
  },
  {
   "cell_type": "markdown",
   "id": "10baab3d",
   "metadata": {},
   "source": [
    "## 南北向应力\n",
    "\n",
    "| 要素名 | wgrib2 | eccodes | cemc | GRIB Key | 层次类型 | 层次 | 编号 |\n",
    "|--------|---------|--------|------|----------|--------|------|------|\n",
    "| 南北向应力 | - | - | nsss | (0, 2, 228)  | surface | - | 37 |"
   ]
  },
  {
   "cell_type": "code",
   "execution_count": 56,
   "id": "f805a0c8",
   "metadata": {},
   "outputs": [],
   "source": [
    "field = load_field_from_file(\n",
    "    gfs_grib2_orig_file_path,\n",
    "    parameter=\"nsss\",\n",
    ")\n",
    "assert field.attrs[\"GRIB_count\"] == 37"
   ]
  },
  {
   "cell_type": "code",
   "execution_count": 55,
   "id": "03f93de3",
   "metadata": {},
   "outputs": [],
   "source": [
    "field = load_field_from_file(\n",
    "    gfs_grib2_orig_file_path,\n",
    "    parameter={\n",
    "        \"discipline\": 0,\n",
    "        \"parameterCategory\": 2,\n",
    "        \"parameterNumber\": 228,\n",
    "    },\n",
    "    level_type=\"surface\",\n",
    ")\n",
    "assert field.attrs[\"GRIB_count\"] == 37"
   ]
  },
  {
   "cell_type": "markdown",
   "id": "a9be0857",
   "metadata": {},
   "source": [
    "## 雪深\n",
    "\n",
    "| 要素名 | wgrib2 | eccodes | cemc | GRIB Key | 层次类型 | 层次 | 编号 |\n",
    "|--------|---------|--------|------|----------|--------|------|-----|\n",
    "| 雪深 | SNOD | sde | sd | (0, 1, 11)  | surface | - | 38 |"
   ]
  },
  {
   "cell_type": "code",
   "execution_count": 57,
   "id": "a82124b1",
   "metadata": {},
   "outputs": [],
   "source": [
    "field = load_field_from_file(\n",
    "    gfs_grib2_orig_file_path,\n",
    "    parameter=\"SNOD\",\n",
    ")\n",
    "assert field.attrs[\"GRIB_count\"] == 38"
   ]
  },
  {
   "cell_type": "code",
   "execution_count": 58,
   "id": "2ff6d3f6",
   "metadata": {},
   "outputs": [],
   "source": [
    "field = load_field_from_file(\n",
    "    gfs_grib2_orig_file_path,\n",
    "    parameter=\"sde\",\n",
    ")\n",
    "assert field.attrs[\"GRIB_count\"] == 38"
   ]
  },
  {
   "cell_type": "code",
   "execution_count": 59,
   "id": "a5d9fd2e",
   "metadata": {},
   "outputs": [],
   "source": [
    "field = load_field_from_file(\n",
    "    gfs_grib2_orig_file_path,\n",
    "    parameter=\"sd\",\n",
    ")\n",
    "assert field.attrs[\"GRIB_count\"] == 38"
   ]
  },
  {
   "cell_type": "code",
   "execution_count": 60,
   "id": "e103be6d",
   "metadata": {},
   "outputs": [],
   "source": [
    "field = load_field_from_file(\n",
    "    gfs_grib2_orig_file_path,\n",
    "    parameter={\n",
    "        \"discipline\": 0,\n",
    "        \"parameterCategory\": 1,\n",
    "        \"parameterNumber\": 11,\n",
    "    },\n",
    ")\n",
    "assert field.attrs[\"GRIB_count\"] == 38"
   ]
  },
  {
   "cell_type": "markdown",
   "id": "bb0e201b",
   "metadata": {},
   "source": [
    "## 反照率\n",
    "\n",
    "| 要素名 | wgrib2 | eccodes | cemc | GRIB Key | 层次类型 | 层次 | 编号 |\n",
    "|--------|---------|--------|------|----------|--------|------|------|\n",
    "| 反照率 | ALBDO | al | albedo | (0, 19, 1)  | surface | - | 39 |"
   ]
  },
  {
   "cell_type": "code",
   "execution_count": 61,
   "id": "9ac50036",
   "metadata": {},
   "outputs": [],
   "source": [
    "field = load_field_from_file(\n",
    "    gfs_grib2_orig_file_path,\n",
    "    parameter=\"ALBDO\",\n",
    ")\n",
    "assert field.attrs[\"GRIB_count\"] == 39"
   ]
  },
  {
   "cell_type": "code",
   "execution_count": 62,
   "id": "e1729be5",
   "metadata": {},
   "outputs": [],
   "source": [
    "field = load_field_from_file(\n",
    "    gfs_grib2_orig_file_path,\n",
    "    parameter=\"al\",\n",
    ")\n",
    "assert field.attrs[\"GRIB_count\"] == 39"
   ]
  },
  {
   "cell_type": "code",
   "execution_count": 63,
   "id": "b08c4a6e",
   "metadata": {},
   "outputs": [],
   "source": [
    "field = load_field_from_file(\n",
    "    gfs_grib2_orig_file_path,\n",
    "    parameter=\"albedo\",\n",
    ")\n",
    "assert field.attrs[\"GRIB_count\"] == 39"
   ]
  },
  {
   "cell_type": "code",
   "execution_count": 64,
   "id": "3fab9c49",
   "metadata": {},
   "outputs": [],
   "source": [
    "field = load_field_from_file(\n",
    "    gfs_grib2_orig_file_path,\n",
    "    parameter={\n",
    "        \"discipline\": 0,\n",
    "        \"parameterCategory\": 19,\n",
    "        \"parameterNumber\": 1,\n",
    "    },\n",
    ")\n",
    "assert field.attrs[\"GRIB_count\"] == 39"
   ]
  },
  {
   "cell_type": "markdown",
   "id": "65a9f39e",
   "metadata": {},
   "source": [
    "## TMAX/TMIN/RHMAX/RHMIN"
   ]
  },
  {
   "cell_type": "markdown",
   "id": "da0954fd",
   "metadata": {},
   "source": [
    "### 2m最高温度\n",
    "\n",
    "| 要素名 | wgrib2 | eccodes | cemc | GRIB Key | 层次类型 | 层次 | 编号 |\n",
    "|--------|---------|--------|------|----------|--------|------|------|\n",
    "| 2m最高温度 | TMAX | tmax | mx2t, tmax2m | (0, 0, 4)  | heightAboveGround | 2 | 40 |"
   ]
  },
  {
   "cell_type": "code",
   "execution_count": 66,
   "id": "6790d46f",
   "metadata": {},
   "outputs": [],
   "source": [
    "field = load_field_from_file(\n",
    "    gfs_grib2_orig_file_path,\n",
    "    parameter=\"TMAX\",\n",
    "    level_type=\"heightAboveGround\",\n",
    "    level=2,\n",
    ")\n",
    "assert field.attrs[\"GRIB_count\"] == 40"
   ]
  },
  {
   "cell_type": "code",
   "execution_count": 67,
   "id": "a15be32c",
   "metadata": {},
   "outputs": [],
   "source": [
    "field = load_field_from_file(\n",
    "    gfs_grib2_orig_file_path,\n",
    "    parameter=\"tmax\",\n",
    "    level_type=\"heightAboveGround\",\n",
    "    level=2,\n",
    ")\n",
    "assert field.attrs[\"GRIB_count\"] == 40"
   ]
  },
  {
   "cell_type": "code",
   "execution_count": 68,
   "id": "af48d27c",
   "metadata": {},
   "outputs": [],
   "source": [
    "field = load_field_from_file(\n",
    "    gfs_grib2_orig_file_path,\n",
    "    parameter=\"tmax2m\",\n",
    ")\n",
    "assert field.attrs[\"GRIB_count\"] == 40"
   ]
  },
  {
   "cell_type": "code",
   "execution_count": 69,
   "id": "bee54ba5",
   "metadata": {},
   "outputs": [],
   "source": [
    "field = load_field_from_file(\n",
    "    gfs_grib2_orig_file_path,\n",
    "    parameter={\n",
    "        \"discipline\": 0,\n",
    "        \"parameterCategory\": 0,\n",
    "        \"parameterNumber\": 4,\n",
    "    },\n",
    "    level_type=\"heightAboveGround\",\n",
    "    level=2,\n",
    ")\n",
    "assert field.attrs[\"GRIB_count\"] == 40"
   ]
  },
  {
   "cell_type": "markdown",
   "id": "7293f8a1",
   "metadata": {},
   "source": [
    "### 2m最低温度\n",
    "\n",
    "| 要素名 | wgrib2 | eccodes | cemc | GRIB Key | 层次类型 | 层次 | 编号 |\n",
    "|--------|---------|--------|------|----------|--------|------|------|\n",
    "| 2m最低温度 | TMIN | tmin | mn2t, tmin2m | (0, 0, 5)  | heightAboveGround | 2 | 41 |"
   ]
  },
  {
   "cell_type": "code",
   "execution_count": 70,
   "id": "12cfa711",
   "metadata": {},
   "outputs": [],
   "source": [
    "field = load_field_from_file(\n",
    "    gfs_grib2_orig_file_path,\n",
    "    parameter=\"TMIN\",\n",
    "    level_type=\"heightAboveGround\",\n",
    "    level=2,\n",
    ")\n",
    "assert field.attrs[\"GRIB_count\"] == 41"
   ]
  },
  {
   "cell_type": "code",
   "execution_count": 71,
   "id": "305eb70e",
   "metadata": {},
   "outputs": [],
   "source": [
    "field = load_field_from_file(\n",
    "    gfs_grib2_orig_file_path,\n",
    "    parameter=\"tmin\",\n",
    "    level_type=\"heightAboveGround\",\n",
    "    level=2,\n",
    ")\n",
    "assert field.attrs[\"GRIB_count\"] == 41"
   ]
  },
  {
   "cell_type": "code",
   "execution_count": 72,
   "id": "f8ed9d91",
   "metadata": {},
   "outputs": [],
   "source": [
    "field = load_field_from_file(\n",
    "    gfs_grib2_orig_file_path,\n",
    "    parameter=\"tmin2m\",\n",
    ")\n",
    "assert field.attrs[\"GRIB_count\"] == 41"
   ]
  },
  {
   "cell_type": "code",
   "execution_count": 74,
   "id": "427e9986",
   "metadata": {},
   "outputs": [],
   "source": [
    "field = load_field_from_file(\n",
    "    gfs_grib2_orig_file_path,\n",
    "    parameter={\n",
    "        \"discipline\": 0,\n",
    "        \"parameterCategory\": 0,\n",
    "        \"parameterNumber\": 5,\n",
    "    },\n",
    "    level_type=\"heightAboveGround\",\n",
    "    level=2,\n",
    ")\n",
    "assert field.attrs[\"GRIB_count\"] == 41"
   ]
  },
  {
   "cell_type": "markdown",
   "id": "e369e901",
   "metadata": {},
   "source": [
    "### 2m最高相对湿度\n",
    "\n",
    "| 要素名 | wgrib2 | eccodes | cemc | GRIB Key | 层次类型 | 层次 | 编号 |\n",
    "|--------|---------|--------|------|----------|--------|------|------|\n",
    "| 2m最低温度 | - | - | rhmax2m | (0, 1, 231)  | heightAboveGround | 2 | 42 |"
   ]
  },
  {
   "cell_type": "code",
   "execution_count": 76,
   "id": "1be1c347",
   "metadata": {},
   "outputs": [],
   "source": [
    "field = load_field_from_file(\n",
    "    gfs_grib2_orig_file_path,\n",
    "    parameter=\"rhmax2m\",\n",
    ")\n",
    "assert field.attrs[\"GRIB_count\"] == 42"
   ]
  },
  {
   "cell_type": "code",
   "execution_count": 77,
   "id": "e12f83f7",
   "metadata": {},
   "outputs": [],
   "source": [
    "field = load_field_from_file(\n",
    "    gfs_grib2_orig_file_path,\n",
    "    parameter={\n",
    "        \"discipline\": 0,\n",
    "        \"parameterCategory\": 1,\n",
    "        \"parameterNumber\": 231,\n",
    "    },\n",
    "    level_type=\"heightAboveGround\",\n",
    "    level=2,\n",
    ")\n",
    "assert field.attrs[\"GRIB_count\"] == 42"
   ]
  },
  {
   "cell_type": "markdown",
   "id": "e9ff72e6",
   "metadata": {},
   "source": [
    "### 2m最低相对湿度\n",
    "\n",
    "| 要素名 | wgrib2 | eccodes | cemc | GRIB Key | 层次类型 | 层次 | 编号 |\n",
    "|--------|---------|--------|------|----------|--------|------|-------|\n",
    "| 2m最低相对湿度 | - | - | rhmin2m | (0, 1, 232)  | heightAboveGround | 2 | 43 |"
   ]
  },
  {
   "cell_type": "code",
   "execution_count": 78,
   "id": "c4b4a75f",
   "metadata": {},
   "outputs": [],
   "source": [
    "field = load_field_from_file(\n",
    "    gfs_grib2_orig_file_path,\n",
    "    parameter=\"rhmin2m\",\n",
    ")\n",
    "assert field.attrs[\"GRIB_count\"] == 43"
   ]
  },
  {
   "cell_type": "code",
   "execution_count": 79,
   "id": "4928433b",
   "metadata": {},
   "outputs": [],
   "source": [
    "field = load_field_from_file(\n",
    "    gfs_grib2_orig_file_path,\n",
    "    parameter={\n",
    "        \"discipline\": 0,\n",
    "        \"parameterCategory\": 1,\n",
    "        \"parameterNumber\": 232,\n",
    "    },\n",
    "    level_type=\"heightAboveGround\",\n",
    "    level=2,\n",
    ")\n",
    "assert field.attrs[\"GRIB_count\"] == 43"
   ]
  },
  {
   "cell_type": "markdown",
   "id": "42eae121",
   "metadata": {},
   "source": [
    "## PRES/PRMSL"
   ]
  },
  {
   "cell_type": "markdown",
   "id": "ecf43b25",
   "metadata": {},
   "source": [
    "### 地面气压\n",
    "\n",
    "| 要素名 | wgrib2 | eccodes | cemc | GRIB Key | 层次类型 | 层次 | 编号 |\n",
    "|--------|---------|--------|------|----------|--------|------|------|\n",
    "| 地面气压 | PRES | sp | ps | (0, 3, 0)  | surface | - | 44 |"
   ]
  },
  {
   "cell_type": "code",
   "execution_count": 80,
   "id": "4ffda5b7",
   "metadata": {},
   "outputs": [],
   "source": [
    "field = load_field_from_file(\n",
    "    gfs_grib2_orig_file_path,\n",
    "    parameter=\"PRES\",\n",
    ")\n",
    "assert field.attrs[\"GRIB_count\"] == 44"
   ]
  },
  {
   "cell_type": "code",
   "execution_count": 81,
   "id": "9bd2a1f8",
   "metadata": {},
   "outputs": [],
   "source": [
    "field = load_field_from_file(\n",
    "    gfs_grib2_orig_file_path,\n",
    "    parameter=\"sp\",\n",
    ")\n",
    "assert field.attrs[\"GRIB_count\"] == 44"
   ]
  },
  {
   "cell_type": "code",
   "execution_count": 82,
   "id": "655b2e44",
   "metadata": {},
   "outputs": [],
   "source": [
    "field = load_field_from_file(\n",
    "    gfs_grib2_orig_file_path,\n",
    "    parameter=\"ps\",\n",
    ")\n",
    "assert field.attrs[\"GRIB_count\"] == 44"
   ]
  },
  {
   "cell_type": "code",
   "execution_count": 83,
   "id": "f457f367",
   "metadata": {},
   "outputs": [],
   "source": [
    "field = load_field_from_file(\n",
    "    gfs_grib2_orig_file_path,\n",
    "    parameter={\n",
    "        \"discipline\": 0,\n",
    "        \"parameterCategory\": 3,\n",
    "        \"parameterNumber\": 0,\n",
    "    },\n",
    "    level_type=\"surface\",\n",
    ")\n",
    "assert field.attrs[\"GRIB_count\"] == 44"
   ]
  },
  {
   "cell_type": "markdown",
   "id": "befd74d5",
   "metadata": {},
   "source": [
    "### 海平面气压\n",
    "\n",
    "| 要素名 | wgrib2 | eccodes | cemc | GRIB Key | 层次类型 | 层次 | 编号 |\n",
    "|--------|---------|--------|------|----------|--------|------|------|\n",
    "| 海平面气压 | PRMSL | prmsl | psl | (0, 3, 1)  | meanSea | - | 45 |"
   ]
  },
  {
   "cell_type": "code",
   "execution_count": 84,
   "id": "d2e46060",
   "metadata": {},
   "outputs": [],
   "source": [
    "field = load_field_from_file(\n",
    "    gfs_grib2_orig_file_path,\n",
    "    parameter=\"PRMSL\",\n",
    ")\n",
    "assert field.attrs[\"GRIB_count\"] == 45"
   ]
  },
  {
   "cell_type": "code",
   "execution_count": 85,
   "id": "a5827ae1",
   "metadata": {},
   "outputs": [],
   "source": [
    "field = load_field_from_file(\n",
    "    gfs_grib2_orig_file_path,\n",
    "    parameter=\"prmsl\",\n",
    ")\n",
    "assert field.attrs[\"GRIB_count\"] == 45"
   ]
  },
  {
   "cell_type": "code",
   "execution_count": 86,
   "id": "201dd079",
   "metadata": {},
   "outputs": [],
   "source": [
    "field = load_field_from_file(\n",
    "    gfs_grib2_orig_file_path,\n",
    "    parameter=\"psl\",\n",
    ")\n",
    "assert field.attrs[\"GRIB_count\"] == 45"
   ]
  },
  {
   "cell_type": "code",
   "execution_count": 87,
   "id": "f406bc1e",
   "metadata": {},
   "outputs": [],
   "source": [
    "field = load_field_from_file(\n",
    "    gfs_grib2_orig_file_path,\n",
    "    parameter={\n",
    "        \"discipline\": 0,\n",
    "        \"parameterCategory\": 3,\n",
    "        \"parameterNumber\": 1,\n",
    "    },\n",
    "    level_type=\"meanSea\",\n",
    ")\n",
    "assert field.attrs[\"GRIB_count\"] == 45"
   ]
  },
  {
   "cell_type": "code",
   "execution_count": null,
   "id": "d38d5b64",
   "metadata": {},
   "outputs": [],
   "source": []
  }
 ],
 "metadata": {
  "kernelspec": {
   "display_name": "py312-cedar-dev",
   "language": "python",
   "name": "python3"
  },
  "language_info": {
   "codemirror_mode": {
    "name": "ipython",
    "version": 3
   },
   "file_extension": ".py",
   "mimetype": "text/x-python",
   "name": "python",
   "nbconvert_exporter": "python",
   "pygments_lexer": "ipython3",
   "version": "3.12.11"
  }
 },
 "nbformat": 4,
 "nbformat_minor": 5
}
