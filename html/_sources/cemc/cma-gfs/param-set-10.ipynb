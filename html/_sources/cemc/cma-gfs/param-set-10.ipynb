{
 "cells": [
  {
   "cell_type": "markdown",
   "id": "d3ba06dc",
   "metadata": {},
   "source": [
    "# 要素清单：785-850"
   ]
  },
  {
   "cell_type": "code",
   "execution_count": 1,
   "id": "107b69fb",
   "metadata": {},
   "outputs": [],
   "source": [
    "import numpy as np\n",
    "import pandas as pd\n",
    "import xarray as xr\n",
    "\n",
    "from reki.data_finder import find_local_file\n",
    "from reki.format.grib.eccodes import load_field_from_file"
   ]
  },
  {
   "cell_type": "code",
   "execution_count": 2,
   "id": "e30abb9f",
   "metadata": {},
   "outputs": [
    {
     "data": {
      "text/plain": [
       "PosixPath('/g3/COMMONDATA/OPER/CEMC/GFS_GMF/Prod-grib/2025081200/ORIG/gmf.gra.2025081200024.grb2')"
      ]
     },
     "execution_count": 2,
     "metadata": {},
     "output_type": "execute_result"
    }
   ],
   "source": [
    "start_time = pd.Timestamp.utcnow().floor(freq=\"D\") - pd.Timedelta(days=2)\n",
    "start_time_label = start_time.strftime(\"%Y%m%d%H\")\n",
    "forecast_time_label = \"24h\"\n",
    "forecast_time = pd.to_timedelta(forecast_time_label)\n",
    "\n",
    "gfs_grib2_orig_file_path = find_local_file(\n",
    "    \"cma_gfs_gmf/grib2/orig\",\n",
    "    start_time=start_time,\n",
    "    forecast_time=forecast_time,\n",
    ")\n",
    "gfs_grib2_orig_file_path"
   ]
  },
  {
   "cell_type": "markdown",
   "id": "02d31e16",
   "metadata": {},
   "source": [
    "## 层次\n",
    "\n",
    "30 层，单位百帕 mb：\n",
    "\n",
    "- 1000\n",
    "- 975\n",
    "- 950\n",
    "- 925\n",
    "- 900\n",
    "- 850\n",
    "- 800\n",
    "- 750\n",
    "- 700\n",
    "- 650\n",
    "- 600\n",
    "- 550\n",
    "- 500\n",
    "- 450\n",
    "- 400\n",
    "- 350\n",
    "- 300\n",
    "- 275\n",
    "- 250\n",
    "- 225\n",
    "- 200\n",
    "- 175\n",
    "- 150\n",
    "- 125\n",
    "- 100\n",
    "- 70\n",
    "- 50\n",
    "- 30\n",
    "- 20\n",
    "- 10"
   ]
  },
  {
   "cell_type": "markdown",
   "id": "d1320b39",
   "metadata": {},
   "source": [
    "## 雷达反射率\n",
    "\n",
    "| 要素名 | wgrib2 | eccodes | cemc | GRIB Key | 层次类型 | 层次 | 编号 |\n",
    "|--------|---------|--------|------|----------|--------|------|-------|\n",
    "| 雷达反射率 | - | - | dbz | (0, 16, 225) | pl | 30层 | 785-814 |"
   ]
  },
  {
   "cell_type": "code",
   "execution_count": null,
   "id": "bc588a4d",
   "metadata": {},
   "outputs": [],
   "source": [
    "field = load_field_from_file(\n",
    "    gfs_grib2_orig_file_path,\n",
    "    parameter=\"dbz\",\n",
    "    level_type=\"pl\",\n",
    "    level=1000,\n",
    ")\n",
    "assert field.attrs[\"GRIB_count\"] == 785"
   ]
  },
  {
   "cell_type": "code",
   "execution_count": null,
   "id": "6ed6792c",
   "metadata": {},
   "outputs": [],
   "source": [
    "field = load_field_from_file(\n",
    "    gfs_grib2_orig_file_path,\n",
    "    parameter=\"dbz\",\n",
    "    level_type=\"pl\",\n",
    "    level=850,\n",
    ")\n",
    "assert field.attrs[\"GRIB_count\"] == 790"
   ]
  },
  {
   "cell_type": "code",
   "execution_count": null,
   "id": "a1afe540",
   "metadata": {},
   "outputs": [],
   "source": [
    "field = load_field_from_file(\n",
    "    gfs_grib2_orig_file_path,\n",
    "    parameter=\"dbz\",\n",
    "    level_type=\"pl\",\n",
    "    level=70,\n",
    ")\n",
    "assert field.attrs[\"GRIB_count\"] == 810"
   ]
  },
  {
   "cell_type": "code",
   "execution_count": null,
   "id": "913993c0",
   "metadata": {},
   "outputs": [],
   "source": [
    "field = load_field_from_file(\n",
    "    gfs_grib2_orig_file_path,\n",
    "    parameter={\n",
    "        \"discipline\": 0,\n",
    "        \"parameterCategory\": 16,\n",
    "        \"parameterNumber\": 225,\n",
    "    },\n",
    "    level_type=\"pl\",\n",
    "    level=10,\n",
    ")\n",
    "assert field.attrs[\"GRIB_count\"] == 814"
   ]
  },
  {
   "cell_type": "markdown",
   "id": "c538cf93",
   "metadata": {},
   "source": [
    "## cdbz/SHWINX/hi/wi/ht0/PWAT"
   ]
  },
  {
   "cell_type": "markdown",
   "id": "db0fd3e5",
   "metadata": {},
   "source": [
    "### 雷达组合反射率\n",
    "\n",
    "| 要素名 | wgrib2 | eccodes | cemc | GRIB Key | 层次类型 | 层次 | 编号 |\n",
    "|--------|---------|--------|------|----------|--------|------|-------|\n",
    "| 雷达组合反射率 | - | - | cdbz | (0, 16, 224) | surface | - | 815 |"
   ]
  },
  {
   "cell_type": "code",
   "execution_count": null,
   "id": "7a2f82c0",
   "metadata": {},
   "outputs": [],
   "source": [
    "field = load_field_from_file(\n",
    "    gfs_grib2_orig_file_path,\n",
    "    parameter=\"cdbz\",\n",
    ")\n",
    "assert field.attrs[\"GRIB_count\"] == 815"
   ]
  },
  {
   "cell_type": "code",
   "execution_count": null,
   "id": "982ae43c",
   "metadata": {},
   "outputs": [],
   "source": [
    "field = load_field_from_file(\n",
    "    gfs_grib2_orig_file_path,\n",
    "    parameter={\n",
    "        \"discipline\": 0,\n",
    "        \"parameterCategory\": 16,\n",
    "        \"parameterNumber\": 224,\n",
    "    },\n",
    "    level_type=\"surface\"\n",
    ")\n",
    "assert field.attrs[\"GRIB_count\"] == 815"
   ]
  },
  {
   "cell_type": "markdown",
   "id": "a8e837f8",
   "metadata": {},
   "source": [
    "### 沙氏指数\n",
    "\n",
    "| 要素名 | wgrib2 | eccodes | cemc | GRIB Key | 层次类型 | 层次 | 编号 |\n",
    "|--------|---------|--------|------|----------|--------|------|-------|\n",
    "| 沙氏指数 | SHWINX | - | si | (0, 7, 13) | surface | - | 816 |"
   ]
  },
  {
   "cell_type": "code",
   "execution_count": null,
   "id": "4764578a",
   "metadata": {},
   "outputs": [],
   "source": [
    "field = load_field_from_file(\n",
    "    gfs_grib2_orig_file_path,\n",
    "    parameter=\"SHWINX\",\n",
    ")\n",
    "assert field.attrs[\"GRIB_count\"] == 816"
   ]
  },
  {
   "cell_type": "code",
   "execution_count": null,
   "id": "d9877c63",
   "metadata": {},
   "outputs": [],
   "source": [
    "field = load_field_from_file(\n",
    "    gfs_grib2_orig_file_path,\n",
    "    parameter=\"si\",\n",
    ")\n",
    "assert field.attrs[\"GRIB_count\"] == 816"
   ]
  },
  {
   "cell_type": "code",
   "execution_count": null,
   "id": "a0dfd0a5",
   "metadata": {},
   "outputs": [],
   "source": [
    "field = load_field_from_file(\n",
    "    gfs_grib2_orig_file_path,\n",
    "    parameter={\n",
    "        \"discipline\": 0,\n",
    "        \"parameterCategory\": 7,\n",
    "        \"parameterNumber\": 13,\n",
    "    },\n",
    "    level_type=\"surface\",\n",
    ")\n",
    "assert field.attrs[\"GRIB_count\"] == 816"
   ]
  },
  {
   "cell_type": "markdown",
   "id": "581a61b7",
   "metadata": {},
   "source": [
    "### 冰雹指数\n",
    "\n",
    "| 要素名 | wgrib2 | eccodes | cemc | GRIB Key | 层次类型 | 层次 | 编号 |\n",
    "|--------|---------|--------|------|----------|--------|------|-------|\n",
    "| 冰雹指数 | - | - | hi | (0, 1, 239) | surface | - | 817 |"
   ]
  },
  {
   "cell_type": "code",
   "execution_count": null,
   "id": "55211e02",
   "metadata": {},
   "outputs": [],
   "source": [
    "field = load_field_from_file(\n",
    "    gfs_grib2_orig_file_path,\n",
    "    parameter=\"hi\",\n",
    ")\n",
    "assert field.attrs[\"GRIB_count\"] == 817"
   ]
  },
  {
   "cell_type": "code",
   "execution_count": null,
   "id": "8d8c76b0",
   "metadata": {},
   "outputs": [],
   "source": [
    "field = load_field_from_file(\n",
    "    gfs_grib2_orig_file_path,\n",
    "    parameter={\n",
    "        \"discipline\": 0,\n",
    "        \"parameterCategory\": 1,\n",
    "        \"parameterNumber\": 239,\n",
    "    },\n",
    "    level_type=\"surface\",\n",
    ")\n",
    "assert field.attrs[\"GRIB_count\"] == 817"
   ]
  },
  {
   "cell_type": "markdown",
   "id": "f14869a0",
   "metadata": {},
   "source": [
    "### 大风指数\n",
    "\n",
    "| 要素名 | wgrib2 | eccodes | cemc | GRIB Key | 层次类型 | 层次 | 编号 |\n",
    "|--------|---------|--------|------|----------|--------|------|-------|\n",
    "| 大风指数 | - | - | wi | (0, 2, 236) | surface | - | 818 |"
   ]
  },
  {
   "cell_type": "code",
   "execution_count": null,
   "id": "658933f8",
   "metadata": {},
   "outputs": [],
   "source": [
    "field = load_field_from_file(\n",
    "    gfs_grib2_orig_file_path,\n",
    "    parameter=\"wi\",\n",
    ")\n",
    "assert field.attrs[\"GRIB_count\"] == 818"
   ]
  },
  {
   "cell_type": "code",
   "execution_count": null,
   "id": "3342e86d",
   "metadata": {},
   "outputs": [],
   "source": [
    "field = load_field_from_file(\n",
    "    gfs_grib2_orig_file_path,\n",
    "    parameter={\n",
    "        \"discipline\": 0,\n",
    "        \"parameterCategory\": 2,\n",
    "        \"parameterNumber\": 236,\n",
    "    },\n",
    "    level_type=\"surface\",\n",
    ")\n",
    "assert field.attrs[\"GRIB_count\"] == 818"
   ]
  },
  {
   "cell_type": "markdown",
   "id": "93ca1821",
   "metadata": {},
   "source": [
    "### 0度层高度\n",
    "\n",
    "| 要素名 | wgrib2 | eccodes | cemc | GRIB Key | 层次类型 | 层次 | 编号 |\n",
    "|--------|---------|--------|------|----------|--------|------|-------|\n",
    "| 0度层高度 | - | - | ht0 | (0, 3, 225) | surface | - | 819 |"
   ]
  },
  {
   "cell_type": "code",
   "execution_count": null,
   "id": "d46b6073",
   "metadata": {},
   "outputs": [],
   "source": [
    "field = load_field_from_file(\n",
    "    gfs_grib2_orig_file_path,\n",
    "    parameter=\"ht0\",\n",
    ")\n",
    "assert field.attrs[\"GRIB_count\"] == 819"
   ]
  },
  {
   "cell_type": "code",
   "execution_count": null,
   "id": "66d69dbe",
   "metadata": {},
   "outputs": [],
   "source": [
    "field = load_field_from_file(\n",
    "    gfs_grib2_orig_file_path,\n",
    "    parameter={\n",
    "        \"discipline\": 0,\n",
    "        \"parameterCategory\": 3,\n",
    "        \"parameterNumber\": 225,\n",
    "    },\n",
    "    level_type=\"surface\",\n",
    ")\n",
    "assert field.attrs[\"GRIB_count\"] == 819"
   ]
  },
  {
   "cell_type": "markdown",
   "id": "ac2712a3",
   "metadata": {},
   "source": [
    "### 整层可降水量\n",
    "\n",
    "| 要素名 | wgrib2 | eccodes | cemc | GRIB Key | 层次类型 | 层次 | 编号 |\n",
    "|--------|---------|--------|------|----------|--------|------|-------|\n",
    "| 整层可降水量 | PWAT | pwat | pwat | (0, 1, 3) | atmosphere | - | 820 |"
   ]
  },
  {
   "cell_type": "code",
   "execution_count": null,
   "id": "5c91d8d5",
   "metadata": {},
   "outputs": [],
   "source": [
    "field = load_field_from_file(\n",
    "    gfs_grib2_orig_file_path,\n",
    "    parameter=\"PWAT\",\n",
    "    level_type=\"atmosphere\",\n",
    ")\n",
    "assert field.attrs[\"GRIB_count\"] == 820"
   ]
  },
  {
   "cell_type": "code",
   "execution_count": null,
   "id": "96514dcc",
   "metadata": {},
   "outputs": [],
   "source": [
    "field = load_field_from_file(\n",
    "    gfs_grib2_orig_file_path,\n",
    "    parameter=\"pwat\",\n",
    ")\n",
    "assert field.attrs[\"GRIB_count\"] == 820"
   ]
  },
  {
   "cell_type": "code",
   "execution_count": null,
   "id": "10ea92e7",
   "metadata": {},
   "outputs": [],
   "source": [
    "field = load_field_from_file(\n",
    "    gfs_grib2_orig_file_path,\n",
    "    parameter={\n",
    "        \"discipline\": 0,\n",
    "        \"parameterCategory\": 1,\n",
    "        \"parameterNumber\": 3,\n",
    "    },\n",
    "    level_type=\"atmosphere\",\n",
    ")\n",
    "assert field.attrs[\"GRIB_count\"] == 820"
   ]
  },
  {
   "cell_type": "markdown",
   "id": "3dd5d5f6",
   "metadata": {},
   "source": [
    "## 位涡\n",
    "\n",
    "| 要素名 | wgrib2 | eccodes | cemc | GRIB Key | 层次类型 | 层次 | 编号 |\n",
    "|--------|---------|--------|------|----------|--------|------|-------|\n",
    "| 位涡 | - | - | mpv1 | (0, 2, 225) | pl | 30层 | 821-850 |"
   ]
  },
  {
   "cell_type": "code",
   "execution_count": null,
   "id": "ee9c4872",
   "metadata": {},
   "outputs": [],
   "source": [
    "field = load_field_from_file(\n",
    "    gfs_grib2_orig_file_path,\n",
    "    parameter=\"mpv1\",\n",
    "    level_type=\"pl\",\n",
    "    level=1000,\n",
    ")\n",
    "assert field.attrs[\"GRIB_count\"] == 821"
   ]
  },
  {
   "cell_type": "code",
   "execution_count": null,
   "id": "fa34f130",
   "metadata": {},
   "outputs": [],
   "source": [
    "field = load_field_from_file(\n",
    "    gfs_grib2_orig_file_path,\n",
    "    parameter=\"mpv1\",\n",
    "    level_type=\"pl\",\n",
    "    level=850,\n",
    ")\n",
    "assert field.attrs[\"GRIB_count\"] == 826"
   ]
  },
  {
   "cell_type": "code",
   "execution_count": null,
   "id": "ab512922",
   "metadata": {},
   "outputs": [],
   "source": [
    "field = load_field_from_file(\n",
    "    gfs_grib2_orig_file_path,\n",
    "    parameter=\"mpv1\",\n",
    "    level_type=\"pl\",\n",
    "    level=70,\n",
    ")\n",
    "assert field.attrs[\"GRIB_count\"] == 846"
   ]
  },
  {
   "cell_type": "code",
   "execution_count": null,
   "id": "c312cac3",
   "metadata": {},
   "outputs": [],
   "source": [
    "field = load_field_from_file(\n",
    "    gfs_grib2_orig_file_path,\n",
    "    parameter={\n",
    "        \"discipline\": 0,\n",
    "        \"parameterCategory\": 2,\n",
    "        \"parameterNumber\": 225,\n",
    "    },\n",
    "    level_type=\"pl\",\n",
    "    level=10,\n",
    ")\n",
    "assert field.attrs[\"GRIB_count\"] == 850"
   ]
  },
  {
   "cell_type": "code",
   "execution_count": null,
   "id": "a71b2bbc",
   "metadata": {},
   "outputs": [],
   "source": []
  }
 ],
 "metadata": {
  "kernelspec": {
   "display_name": "py312-cedar-dev",
   "language": "python",
   "name": "python3"
  },
  "language_info": {
   "codemirror_mode": {
    "name": "ipython",
    "version": 3
   },
   "file_extension": ".py",
   "mimetype": "text/x-python",
   "name": "python",
   "nbconvert_exporter": "python",
   "pygments_lexer": "ipython3",
   "version": "3.12.11"
  }
 },
 "nbformat": 4,
 "nbformat_minor": 5
}
